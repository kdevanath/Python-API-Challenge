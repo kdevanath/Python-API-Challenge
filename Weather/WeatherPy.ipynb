{
 "cells": [
  {
   "cell_type": "markdown",
   "metadata": {},
   "source": [
    "# WeatherPy\n",
    "----\n",
    "\n",
    "#### Note\n",
    "* Instructions have been included for each segment. You do not have to follow them exactly, but they are included to help you think through the steps."
   ]
  },
  {
   "cell_type": "code",
   "execution_count": 90,
   "metadata": {
    "scrolled": true
   },
   "outputs": [],
   "source": [
    "# Dependencies\n",
    "import csv\n",
    "import time\n",
    "import datetime\n",
    "import matplotlib.pyplot as plt\n",
    "from scipy.stats import linregress\n",
    "import requests\n",
    "from scipy import stats\n",
    "import pandas as pd\n",
    "import numpy as np\n",
    "from citipy import citipy\n",
    "from api_keys import weather_api_key\n",
    "\n",
    "# Output File (CSV)\n",
    "output_data_file = \"../output_data/cities.csv\"\n",
    "\n",
    "# Range of latitudes and longitudes\n",
    "lat_range = (-90, 90)\n",
    "lng_range = (-180, 180)\n",
    "\n",
    "lats = np.random.uniform(lat_range[0], lat_range[1], size=1500)\n",
    "lngs = np.random.uniform(lng_range[0], lng_range[1], size=1500)\n",
    "\n",
    "lat_lngs = zip(lats,lngs)"
   ]
  },
  {
   "cell_type": "markdown",
   "metadata": {},
   "source": [
    "## Generate Cities List"
   ]
  },
  {
   "cell_type": "code",
   "execution_count": 91,
   "metadata": {},
   "outputs": [
    {
     "data": {
      "text/plain": [
       "594"
      ]
     },
     "execution_count": 91,
     "metadata": {},
     "output_type": "execute_result"
    }
   ],
   "source": [
    "#city\n",
    "cities=[]\n",
    "for lat_lang in lat_lngs:\n",
    "    city = citipy.nearest_city(lat_lang[0],lat_lang[1]).city_name\n",
    "    if city not in cities:\n",
    "        cities.append(city)\n",
    "    \n",
    "len(cities)"
   ]
  },
  {
   "cell_type": "markdown",
   "metadata": {},
   "source": [
    "### Perform API Calls\n",
    "* Perform a weather check on each city using a series of successive API calls.\n",
    "* Include a print log of each city as it'sbeing processed (with the city number and city name).\n"
   ]
  },
  {
   "cell_type": "code",
   "execution_count": 92,
   "metadata": {
    "scrolled": false
   },
   "outputs": [
    {
     "name": "stdout",
     "output_type": "stream",
     "text": [
      " Processing weather for provideniya and the number 4031574:0-Provideniya\n",
      " Processing weather for rikitea and the number 4030556:1-Rikitea\n",
      " Processing weather for souillac and the number 933995:2-Souillac\n",
      " Processing weather for puerto ayora and the number 3652764:3-Puerto Ayora\n",
      " Processing weather for atuona and the number 4020109:4-Atuona\n",
      " Processing weather for luderitz and the number 3355672:5-Lüderitz\n",
      " Processing weather for tuatapere and the number 2180815:6-Tuatapere\n",
      " Processing weather for ushuaia and the number 3833367:7-Ushuaia\n",
      " Processing weather for caravelas and the number 3466980:8-Caravelas\n",
      " Processing weather for port elizabeth and the number 964420:9-Port Elizabeth\n",
      "No data for city {city}\n",
      " Processing weather for bubaque and the number 2374583:10-Bubaque\n",
      " Processing weather for avarua and the number 4035715:11-Avarua\n",
      " Processing weather for arraial do cabo and the number 3471451:12-Arraial do Cabo\n",
      " Processing weather for butaritari and the number 2110227:13-Butaritari\n",
      " Processing weather for concordia and the number 3435261:14-Concordia\n",
      " Processing weather for katobu and the number 1640972:15-Katobu\n",
      " Processing weather for barrow and the number 5880054:16-Barrow\n",
      " Processing weather for salem and the number 1257629:17-Salem\n",
      "No data for city {city}\n",
      " Processing weather for vila franca do campo and the number 3372472:18-Vila Franca do Campo\n",
      " Processing weather for castro and the number 3466704:19-Castro\n",
      " Processing weather for ancud and the number 3899695:20-Ancud\n",
      " Processing weather for kirksville and the number 5055787:21-Kirksville\n",
      "No data for city {city}\n",
      " Processing weather for cabo san lucas and the number 3985710:22-Cabo San Lucas\n",
      " Processing weather for samarai and the number 2132606:23-Samarai\n",
      " Processing weather for carnarvon and the number 2074865:24-Carnarvon\n",
      " Processing weather for bilma and the number 2446796:25-Bilma\n",
      " Processing weather for dharchula and the number 1272864:26-Dhārchula\n",
      " Processing weather for hobart and the number 2163355:27-Hobart\n",
      " Processing weather for khatanga and the number 2022572:28-Khatanga\n",
      " Processing weather for hilo and the number 5855927:29-Hilo\n",
      "No data for city {city}\n",
      " Processing weather for nanortalik and the number 3421765:30-Nanortalik\n",
      " Processing weather for san quintin and the number 3984997:31-San Quintín\n",
      " Processing weather for saint-philippe and the number 935215:32-Saint-Philippe\n",
      "No data for city {city}\n",
      " Processing weather for eagle pass and the number 5520677:33-Eagle Pass\n",
      " Processing weather for codrington and the number 2171099:34-Codrington\n",
      " Processing weather for georgetown and the number 1735106:35-George Town\n",
      "No data for city {city}\n",
      " Processing weather for college and the number 5859699:36-College\n",
      " Processing weather for tiksi and the number 2015306:37-Tiksi\n",
      " Processing weather for cape town and the number 3369157:38-Cape Town\n",
      " Processing weather for yendi and the number 2293801:39-Yendi\n",
      " Processing weather for torbay and the number 6167817:40-Torbay\n",
      " Processing weather for bredasdorp and the number 1015776:41-Bredasdorp\n",
      "No data for city {city}\n",
      " Processing weather for port alfred and the number 964432:42-Port Alfred\n",
      "No data for city {city}\n",
      " Processing weather for chapais and the number 5919850:43-Chapais\n",
      " Processing weather for pskov and the number 504341:44-Pskov\n",
      " Processing weather for inhambane and the number 1045114:45-Inhambane\n",
      " Processing weather for jalu and the number 86049:46-Jalu\n",
      " Processing weather for mataura and the number 6201424:47-Mataura\n",
      " Processing weather for albany and the number 5106841:48-Albany\n",
      " Processing weather for kulhudhuffushi and the number 1337613:49-Kulhudhuffushi\n",
      " Processing weather for virginia beach and the number 4791259:50-Virginia Beach\n",
      " Processing weather for kenai and the number 5866063:51-Kenai\n",
      " Processing weather for bluff and the number 2206939:52-Bluff\n",
      " Processing weather for new norfolk and the number 2155415:53-New Norfolk\n",
      " Processing weather for kavieng and the number 2094342:54-Kavieng\n",
      " Processing weather for havoysund and the number 779622:55-Havøysund\n",
      " Processing weather for ciudad bolivar and the number 3645532:56-Ciudad Bolivar\n",
      " Processing weather for ertil and the number 563420:57-Ertil'\n",
      " Processing weather for chengdu and the number 1815286:58-Chengdu\n",
      " Processing weather for maun and the number 933366:59-Maun\n",
      " Processing weather for arlit and the number 2447513:60-Arlit\n",
      " Processing weather for springbok and the number 3361142:61-Springbok\n",
      " Processing weather for gotsu and the number 1863521:62-Gōtsuchō\n",
      " Processing weather for bagrami and the number 1147511:63-Bagrāmī\n",
      " Processing weather for punta arenas and the number 3874787:64-Punta Arenas\n",
      " Processing weather for mount gambier and the number 2156643:65-Mount Gambier\n",
      " Processing weather for talnakh and the number 1490256:66-Talnakh\n",
      " Processing weather for jamestown and the number 5122534:67-Jamestown\n",
      " Processing weather for rayachoti and the number 1258291:68-Rayachoti\n",
      " Processing weather for karatau and the number 1519938:69-Karatau\n",
      " Processing weather for lagoa and the number 3372964:70-Lagoa\n",
      " Processing weather for paramonga and the number 3933024:71-Paramonga\n",
      " Processing weather for busselton and the number 2075265:72-Busselton\n",
      " Processing weather for yellowknife and the number 6185377:73-Yellowknife\n",
      " Processing weather for leningradskiy and the number 2123814:74-Leningradskiy\n",
      " Processing weather for tasiilaq and the number 3424607:75-Tasiilaq\n",
      " Processing weather for rawson and the number 3839307:76-Rawson\n",
      " Processing weather for mastic beach and the number 5126209:77-Mastic Beach\n",
      " Processing weather for vaini and the number 4032243:78-Vaini\n",
      " Processing weather for mahenge and the number 155274:79-Mahenge\n",
      " Processing weather for hermanus and the number 3366880:80-Hermanus\n",
      " Processing weather for hovd and the number 1516048:81-Khovd\n",
      " Processing weather for aklavik and the number 5882953:82-Aklavik\n",
      " Processing weather for hearst and the number 5973108:83-Hearst\n",
      " Processing weather for beringovskiy and the number 2126710:84-Beringovskiy\n",
      " Processing weather for qaanaaq and the number 3831208:85-Qaanaaq\n",
      "No data for city {city}\n",
      " Processing weather for najran and the number 103630:86-Najrān\n",
      " Processing weather for severo-kurilsk and the number 2121385:87-Severo-Kuril'sk\n",
      " Processing weather for bandarbeyla and the number 64814:88-Bandarbeyla\n",
      " Processing weather for narsaq and the number 3421719:89-Narsaq\n",
      "No data for city {city}\n",
      " Processing weather for tenosique and the number 3515956:90-Tenosique\n",
      " Processing weather for cockburn town and the number 3576994:91-Cockburn Town\n",
      " Processing weather for ushtobe and the number 1517637:92-Ushtobe\n",
      " Processing weather for east london and the number 1006984:93-East London\n",
      " Processing weather for marihatag and the number 1700933:94-Marihatag\n",
      " Processing weather for poum and the number 2138555:95-Poum\n",
      " Processing weather for beloha and the number 1067565:96-Beloha\n",
      "No data for city {city}\n",
      " Processing weather for lavrentiya and the number 4031637:97-Lavrentiya\n",
      " Processing weather for umm kaddadah and the number 364933:98-Umm Kaddadah\n",
      " Processing weather for derzhavinsk and the number 1524606:99-Derzhavīnsk\n",
      " Processing weather for haines junction and the number 5969025:100-Haines Junction\n",
      " Processing weather for olafsvik and the number 3414079:101-Olafsvik\n",
      " Processing weather for davila and the number 1715335:102-Davila\n",
      " Processing weather for mangan and the number 1263776:103-Mangan\n",
      " Processing weather for saldanha and the number 3361934:104-Saldanha\n",
      " Processing weather for dezful and the number 136256:105-Dezful\n",
      " Processing weather for broome and the number 5110365:106-Broome\n",
      " Processing weather for sambava and the number 1056899:107-Sambava\n",
      " Processing weather for ayni and the number 1222222:108-Ayní\n",
      " Processing weather for juxtlahuaca and the number 3530886:109-Juxtlahuaca\n",
      " Processing weather for norman wells and the number 6089245:110-Norman Wells\n",
      " Processing weather for alice springs and the number 2077895:111-Alice Springs\n",
      "No data for city {city}\n",
      " Processing weather for mar del plata and the number 3430863:112-Mar del Plata\n",
      " Processing weather for fortuna and the number 5563839:113-Fortuna\n",
      " Processing weather for alta floresta and the number 6316343:114-Alta Floresta\n"
     ]
    },
    {
     "name": "stdout",
     "output_type": "stream",
     "text": [
      " Processing weather for thompson and the number 6165406:115-Thompson\n",
      " Processing weather for saquarema and the number 3448011:116-Saquarema\n",
      " Processing weather for springdale and the number 4132093:117-Springdale\n",
      " Processing weather for clyde river and the number 5924351:118-Clyde River\n",
      " Processing weather for bonga and the number 341742:119-Bonga\n",
      " Processing weather for lebu and the number 3883457:120-Lebu\n",
      " Processing weather for asau and the number 686090:121-Asău\n",
      " Processing weather for lhokseumawe and the number 1214658:122-Lhokseumawe\n",
      " Processing weather for paamiut and the number 3421193:123-Paamiut\n",
      " Processing weather for caxito and the number 2242001:124-Caxito\n",
      " Processing weather for apodi and the number 3407440:125-Apodi\n",
      " Processing weather for dikson and the number 1507390:126-Dikson\n",
      " Processing weather for tecpan and the number 3588476:127-Tecpan\n",
      " Processing weather for vanavara and the number 2013727:128-Vanavara\n",
      " Processing weather for sangar and the number 2017215:129-Sangar\n",
      " Processing weather for topchikha and the number 1489398:130-Topchikha\n",
      " Processing weather for didi lilo and the number 614934:131-Didi Lilo\n",
      " Processing weather for pijijiapan and the number 3521476:132-Pijijiapan\n",
      " Processing weather for kutum and the number 371745:133-Kutum\n",
      " Processing weather for nizhniy kuranakh and the number 2019135:134-Nizhniy Kuranakh\n",
      " Processing weather for eldoret and the number 198629:135-Eldoret\n",
      " Processing weather for changli and the number 1815656:136-Changli\n",
      " Processing weather for grindavik and the number 3416888:137-Grindavik\n",
      " Processing weather for urumqi and the number 1529102:138-Ürümqi\n",
      " Processing weather for kaupanger and the number 7288345:139-Kaupanger\n",
      " Processing weather for benjamin constant and the number 3665016:140-Benjamin Constant\n",
      " Processing weather for esperance and the number 2071860:141-Esperance\n",
      " Processing weather for krasnoarmeysk and the number 542464:142-Krasnoarmeysk\n",
      " Processing weather for korla and the number 1529376:143-Korla\n",
      "No data for city {city}\n",
      " Processing weather for ixtapa and the number 4004293:144-Ixtapa\n",
      " Processing weather for upernavik and the number 3418910:145-Upernavik\n",
      " Processing weather for constitucion and the number 3893726:146-Constitución\n",
      " Processing weather for qujing and the number 1797318:147-Qujing\n",
      " Processing weather for hasaki and the number 2112802:148-Hasaki\n",
      "No data for city {city}\n",
      " Processing weather for deder and the number 339629:149-Deder\n",
      " Processing weather for marawi and the number 1701054:150-Marawi\n",
      " Processing weather for porto velho and the number 3662762:151-Porto Velho\n",
      " Processing weather for cayenne and the number 3382160:152-Cayenne\n",
      " Processing weather for saint anthony and the number 5044290:153-Saint Anthony\n",
      " Processing weather for sioux lookout and the number 6148373:154-Sioux Lookout\n",
      " Processing weather for kargasok and the number 1504382:155-Kargasok\n",
      " Processing weather for itarema and the number 3393692:156-Itarema\n",
      "No data for city {city}\n",
      " Processing weather for hobyo and the number 57000:157-Hobyo\n",
      " Processing weather for nikolskoye and the number 546105:158-Nikolskoye\n",
      " Processing weather for zharkovskiy and the number 463516:159-Zharkovskiy\n",
      " Processing weather for vao and the number 2137773:160-Vao\n",
      " Processing weather for bilibino and the number 2126682:161-Bilibino\n",
      " Processing weather for walvis bay and the number 3359638:162-Walvis Bay\n",
      " Processing weather for kampot and the number 1831112:163-Kampot\n",
      "No data for city {city}\n",
      " Processing weather for carutapera and the number 3402648:164-Carutapera\n",
      " Processing weather for hithadhoo and the number 1282256:165-Hithadhoo\n",
      " Processing weather for tuktoyaktuk and the number 6170031:166-Tuktoyaktuk\n",
      " Processing weather for aruppukkottai and the number 1278340:167-Aruppukkottai\n",
      " Processing weather for gallup and the number 5468773:168-Gallup\n",
      "No data for city {city}\n",
      " Processing weather for bambous virieux and the number 1106677:169-Bambous Virieux\n",
      " Processing weather for namibe and the number 3347019:170-Mossamedes\n",
      " Processing weather for kiunga and the number 2093846:171-Kiunga\n",
      " Processing weather for santa marta and the number 3668605:172-Santa Marta\n",
      " Processing weather for port macquarie and the number 2152659:173-Port Macquarie\n",
      " Processing weather for faanui and the number 4034551:174-Faanui\n",
      " Processing weather for grand gaube and the number 934479:175-Grand Gaube\n",
      " Processing weather for srednekolymsk and the number 2121025:176-Srednekolymsk\n",
      " Processing weather for ahipara and the number 2194098:177-Ahipara\n",
      " Processing weather for touros and the number 3386213:178-Touros\n",
      " Processing weather for klaksvik and the number 2618795:179-Klaksvík\n",
      " Processing weather for grasse and the number 6454920:180-Grasse\n",
      " Processing weather for zachary and the number 4346788:181-Zachary\n",
      "No data for city {city}\n",
      " Processing weather for yarkovo and the number 1486369:182-Yarkovo\n",
      " Processing weather for pemba and the number 1028918:183-Pemba\n",
      " Processing weather for vanimo and the number 2084442:184-Vanimo\n",
      " Processing weather for dingle and the number 1714733:185-Dingle\n",
      " Processing weather for bathsheba and the number 3374083:186-Bathsheba\n",
      " Processing weather for plyussa and the number 508743:187-Plyussa\n",
      " Processing weather for mahebourg and the number 934322:188-Mahébourg\n",
      " Processing weather for harindanga and the number 1349090:189-Harindānga\n",
      " Processing weather for kodiak and the number 5866583:190-Saint Paul Harbor\n",
      " Processing weather for airai and the number 1651810:191-Airai\n",
      " Processing weather for pevek and the number 2122090:192-Pevek\n",
      " Processing weather for kumano and the number 1862415:193-Kumano\n",
      " Processing weather for esfarayen and the number 135298:194-Esfarāyen\n",
      " Processing weather for portland and the number 5746545:195-Portland\n",
      " Processing weather for kloulklubed and the number 7671223:196-Kloulklubed\n",
      " Processing weather for coquimbo and the number 3893629:197-Coquimbo\n",
      " Processing weather for moose factory and the number 6078372:198-Moose Factory\n",
      " Processing weather for hailar and the number 2037078:199-Hailar\n",
      " Processing weather for mana and the number 3381041:200-Mana\n",
      " Processing weather for korop and the number 704915:201-Korop\n",
      " Processing weather for rae bareli and the number 1259064:202-Raebareli\n",
      " Processing weather for eydhafushi and the number 1337606:203-Eydhafushi\n",
      " Processing weather for trairi and the number 3386177:204-Trairi\n",
      " Processing weather for avera and the number 4231997:205-Avera\n",
      " Processing weather for gat and the number 293842:206-Kiryat Gat\n",
      " Processing weather for chernyshevskiy and the number 2025456:207-Chernyshevskiy\n",
      " Processing weather for vila velha and the number 3445026:208-Vila Velha\n",
      " Processing weather for kapaa and the number 5848280:209-Kapaa\n",
      " Processing weather for rabo de peixe and the number 3372745:210-Rabo de Peixe\n",
      " Processing weather for naze and the number 1855540:211-Naze\n",
      " Processing weather for lingyuan and the number 2036075:212-Lingyuan\n",
      " Processing weather for chicama and the number 3698359:213-Chicama\n",
      " Processing weather for kyabe and the number 2429344:214-Kyabé\n",
      " Processing weather for pochutla and the number 3517970:215-Pochutla\n",
      " Processing weather for isangel and the number 2136825:216-Isangel\n",
      " Processing weather for margate and the number 2643044:217-Margate\n",
      " Processing weather for longyearbyen and the number 2729907:218-Longyearbyen\n",
      " Processing weather for kirakira and the number 2178753:219-Kirakira\n",
      " Processing weather for sinop and the number 739598:220-Sinop Province\n",
      " Processing weather for cherskiy and the number 2126199:221-Cherskiy\n",
      " Processing weather for kananga and the number 214481:222-Kananga\n",
      " Processing weather for basoko and the number 219414:223-Basoko\n",
      " Processing weather for gravdal and the number 3155152:224-Gravdal\n",
      " Processing weather for ulaangom and the number 1515029:225-Ulaangom\n",
      " Processing weather for katsuura and the number 2112309:226-Katsuura\n",
      " Processing weather for aloleng and the number 1731298:227-Aloleng\n",
      " Processing weather for orlik and the number 1496073:228-Orlik\n",
      " Processing weather for ribeira grande and the number 3372707:229-Ribeira Grande\n",
      " Processing weather for hofn and the number 2630299:230-Hofn\n",
      " Processing weather for guerrero negro and the number 4021858:231-Guerrero Negro\n",
      " Processing weather for darnah and the number 87205:232-Darnah\n"
     ]
    },
    {
     "name": "stdout",
     "output_type": "stream",
     "text": [
      " Processing weather for kahului and the number 5847411:233-Kahului\n",
      " Processing weather for tokur and the number 2015217:234-Tokur\n",
      " Processing weather for sitangkai and the number 1686004:235-Venice of the Philippines\n",
      " Processing weather for astoria and the number 5711847:236-Astoria\n",
      "No data for city {city}\n",
      "No data for city {city}\n",
      " Processing weather for ust-barguzin and the number 2013986:237-Ust'-Barguzin\n",
      " Processing weather for doka and the number 376332:238-Doka\n",
      " Processing weather for balykshi and the number 610445:239-Balyqshy\n",
      " Processing weather for babynino and the number 579838:240-Babynino\n",
      " Processing weather for kimbe and the number 2093967:241-Kimbe\n",
      " Processing weather for keetmanshoop and the number 3356264:242-Keetmanshoop\n",
      " Processing weather for fort nelson and the number 5955902:243-Fort Nelson\n",
      " Processing weather for kieta and the number 2094027:244-Kieta\n",
      " Processing weather for iqaluit and the number 5983720:245-Iqaluit\n",
      " Processing weather for krasnomayskiy and the number 542298:246-Krasnomayskiy\n",
      " Processing weather for baturaja and the number 1649593:247-Baturaja\n",
      " Processing weather for san pedro de ycuamandiyu and the number 3437021:248-San Pedro de Ycuamandiyú\n",
      " Processing weather for bethel and the number 5282297:249-Bethel\n",
      " Processing weather for nortelandia and the number 3456248:250-Nortelândia\n",
      " Processing weather for manitouwadge and the number 6065253:251-Manitouwadge\n",
      " Processing weather for flinders and the number 6255012:252-Flinders\n",
      " Processing weather for coos bay and the number 5720495:253-Coos Bay\n",
      " Processing weather for port lincoln and the number 2063036:254-Port Lincoln\n",
      " Processing weather for jiaocheng and the number 1806041:255-Jiaocheng\n",
      " Processing weather for erzin and the number 296852:256-Erzin\n",
      " Processing weather for kunming and the number 1804651:257-Kunming\n",
      " Processing weather for tual and the number 1623197:258-Tual\n",
      " Processing weather for lanxi and the number 1804442:259-Lanxi\n",
      " Processing weather for eureka and the number 5563397:260-Eureka\n",
      " Processing weather for burgthann and the number 2941090:261-Burgthann\n",
      " Processing weather for shubarshi and the number 608270:262-Shubarshi\n",
      " Processing weather for papetoai and the number 4033910:263-Papetoai\n",
      " Processing weather for mgachi and the number 2123292:264-Mgachi\n",
      " Processing weather for sorland and the number 3137469:265-Sørland\n",
      " Processing weather for progreso and the number 3521108:266-Progreso\n",
      " Processing weather for pareora and the number 2181133:267-Pareora\n",
      " Processing weather for san carlos de bariloche and the number 7647007:268-Bariloche\n",
      " Processing weather for banjar and the number 1650232:269-Banjar\n",
      " Processing weather for tadine and the number 2138285:270-Tadine\n",
      " Processing weather for dunedin and the number 2191562:271-Dunedin\n",
      " Processing weather for kamenka and the number 553766:272-Kamenka\n",
      " Processing weather for yulara and the number 6355222:273-Yulara\n",
      "No data for city {city}\n",
      " Processing weather for labuan and the number 1733782:274-Labuan\n",
      " Processing weather for talcher and the number 1255143:275-Tālcher\n",
      " Processing weather for rusape and the number 882100:276-Rusape\n",
      " Processing weather for mount isa and the number 2065594:277-Mount Isa\n",
      " Processing weather for chuy and the number 3443061:278-Chui\n",
      " Processing weather for manono and the number 209598:279-Manono\n",
      " Processing weather for nantucket and the number 4944903:280-Nantucket\n",
      " Processing weather for labuhan and the number 8079926:281-Labuhan\n",
      " Processing weather for saint george and the number 5546220:282-Saint George\n",
      " Processing weather for sibut and the number 2383119:283-Sibut\n",
      " Processing weather for vardo and the number 777019:284-Vardø\n",
      " Processing weather for baykit and the number 1510689:285-Baykit\n",
      " Processing weather for nhulunbuy and the number 2064735:286-Nhulunbuy\n",
      " Processing weather for robat karim and the number 118367:287-Robāţ Karīm\n",
      " Processing weather for griffith and the number 4920986:288-Griffith\n",
      " Processing weather for acapulco and the number 3533462:289-Acapulco de Juárez\n",
      " Processing weather for opotiki and the number 2208332:290-Opotiki\n",
      " Processing weather for colac and the number 2171069:291-Colac\n",
      " Processing weather for geraldton and the number 2070998:292-Geraldton\n",
      " Processing weather for waingapu and the number 1622318:293-Waingapu\n",
      " Processing weather for ilulissat and the number 3423146:294-Ilulissat\n",
      " Processing weather for uyemskiy and the number 477579:295-Uyemskiy\n",
      " Processing weather for abong mbang and the number 2236053:296-Abong Mbang\n",
      " Processing weather for saskylakh and the number 2017155:297-Saskylakh\n",
      " Processing weather for homer and the number 5864145:298-Homer\n",
      " Processing weather for namatanai and the number 2090021:299-Namatanai\n",
      " Processing weather for macusani and the number 3935624:300-Macusani\n",
      " Processing weather for hambantota and the number 1244926:301-Hambantota\n",
      " Processing weather for san cristobal and the number 3628473:302-San Cristobal\n",
      " Processing weather for berasia and the number 1276449:303-Berasia\n",
      " Processing weather for arys and the number 1526168:304-Arys\n",
      " Processing weather for giyani and the number 1001860:305-Giyani\n",
      " Processing weather for envira and the number 3664301:306-Envira\n",
      " Processing weather for hamilton and the number 4513583:307-Hamilton\n",
      "No data for city {city}\n",
      " Processing weather for santa catarina de tepehuanes and the number 3984571:308-Santa Catarina de Tepehuanes\n",
      " Processing weather for concarneau and the number 3024035:309-Concarneau\n",
      " Processing weather for latehar and the number 1265025:310-Lātehār\n",
      " Processing weather for praia da vitoria and the number 3372760:311-Praia da Vitória\n",
      " Processing weather for tibanban and the number 1712704:312-Tibanban\n",
      " Processing weather for passa quatro and the number 3454901:313-Passa Quatro\n",
      " Processing weather for petropavlovsk-kamchatskiy and the number 2122104:314-Petropavlovsk-Kamchatskiy\n",
      " Processing weather for narasannapeta and the number 1261853:315-Narasannapeta\n",
      " Processing weather for kununurra and the number 2068110:316-Kununurra\n",
      " Processing weather for pangai and the number 4032369:317-Pangai\n",
      " Processing weather for albury and the number 2178174:318-Albury\n",
      "No data for city {city}\n",
      " Processing weather for manggar and the number 1636426:319-Manggar\n",
      "No data for city {city}\n",
      " Processing weather for dwarka and the number 1272140:320-Dwārka\n",
      " Processing weather for ust-uda and the number 2013865:321-Ust'-Uda\n",
      " Processing weather for ponta do sol and the number 2264557:322-Ponta do Sol\n",
      " Processing weather for nalut and the number 2214432:323-Nālūt\n",
      " Processing weather for chokurdakh and the number 2126123:324-Chokurdakh\n",
      " Processing weather for solnechnyy and the number 2016307:325-Solnechnyy\n",
      " Processing weather for maniitsoq and the number 3421982:326-Maniitsoq\n",
      " Processing weather for cidreira and the number 3466165:327-Cidreira\n",
      "No data for city {city}\n",
      " Processing weather for filadelfia and the number 4560349:328-Philadelphia\n",
      " Processing weather for great falls and the number 5655240:329-Great Falls\n",
      " Processing weather for mehamn and the number 778707:330-Mehamn\n",
      " Processing weather for mount pleasant and the number 4588165:331-Mt. Pleasant\n",
      " Processing weather for morrope and the number 3694586:332-Mórrope\n",
      "No data for city {city}\n",
      " Processing weather for columbus and the number 4509177:333-Columbus\n",
      " Processing weather for acarau and the number 3408368:334-Acaraú\n",
      " Processing weather for coahuayana and the number 4013679:335-Coahuayana Viejo\n",
      " Processing weather for nemuro and the number 2128975:336-Nemuro\n",
      " Processing weather for ladybrand and the number 985015:337-Ladybrand\n",
      " Processing weather for batticaloa and the number 1250161:338-Batticaloa\n",
      " Processing weather for ambilobe and the number 1082243:339-Ambilobe\n",
      " Processing weather for port augusta and the number 2063056:340-Port Augusta\n",
      " Processing weather for asfi and the number 2537881:341-Safi\n",
      " Processing weather for kajaani and the number 654899:342-Kajaani\n",
      " Processing weather for kisangani and the number 212730:343-Kisangani\n",
      " Processing weather for buraydah and the number 107304:344-Buraidah\n",
      " Processing weather for beyneu and the number 610298:345-Beyneu\n",
      " Processing weather for pointe michel and the number 3575660:346-Pointe Michel\n",
      " Processing weather for leh and the number 1264976:347-Leh\n",
      " Processing weather for coffs harbour and the number 2171085:348-Coffs Harbour\n"
     ]
    },
    {
     "name": "stdout",
     "output_type": "stream",
     "text": [
      "No data for city {city}\n",
      " Processing weather for denpasar and the number 1645528:349-Denpasar\n",
      " Processing weather for sarakhs and the number 1159716:350-Sarakhs\n",
      " Processing weather for klyuchi and the number 1503153:351-Klyuchi\n",
      " Processing weather for pisco and the number 3932145:352-Pisco\n",
      " Processing weather for mitocu dragomirnei and the number 673050:353-Mitocu Dragomirnei\n",
      " Processing weather for gornyak and the number 1506260:354-Gornyak\n",
      " Processing weather for huarmey and the number 3939168:355-Huarmey\n",
      " Processing weather for rivera and the number 3440781:356-Rivera\n",
      " Processing weather for san angelo and the number 5530022:357-San Angelo\n",
      " Processing weather for koshurnikovo and the number 1502389:358-Koshurnikovo\n",
      "No data for city {city}\n",
      " Processing weather for mecca and the number 104515:359-Makkah al Mukarramah\n",
      " Processing weather for mvangue and the number 2225703:360-Mvangué\n",
      " Processing weather for prince rupert and the number 6113406:361-Prince Rupert\n",
      " Processing weather for kruisfontein and the number 986717:362-Kruisfontein\n",
      "No data for city {city}\n",
      "No data for city {city}\n",
      "No data for city {city}\n",
      " Processing weather for los llanos de aridane and the number 2514651:363-Los Llanos de Aridane\n",
      "No data for city {city}\n",
      " Processing weather for velesta and the number 784679:364-Velesta\n",
      " Processing weather for maldonado and the number 3441890:365-Departamento de Maldonado\n",
      " Processing weather for sao filipe and the number 3374210:366-São Filipe\n",
      " Processing weather for coaraci and the number 3466041:367-Coaraci\n",
      " Processing weather for singkawang and the number 1626916:368-Singkawang\n",
      " Processing weather for salta and the number 3838233:369-Salta\n",
      " Processing weather for bismarck and the number 5688025:370-Bismarck\n",
      " Processing weather for warrnambool and the number 2144528:371-Warrnambool\n",
      " Processing weather for fairbanks and the number 5861897:372-Fairbanks\n",
      " Processing weather for shache and the number 1280037:373-Shache\n",
      " Processing weather for sechura and the number 3691954:374-Sechura\n",
      " Processing weather for san policarpo and the number 1688696:375-San Policarpo\n",
      " Processing weather for starkville and the number 4447161:376-Starkville\n",
      " Processing weather for paita and the number 3694112:377-Paita\n",
      " Processing weather for chiang klang and the number 1611195:378-Chiang Klang\n",
      " Processing weather for barcelos and the number 2742416:379-Barcelos\n",
      " Processing weather for lompoc and the number 5367788:380-Lompoc\n",
      " Processing weather for mingguang and the number 1800519:381-Mingguang\n",
      " Processing weather for sept-iles and the number 6144312:382-Sept-Îles\n",
      " Processing weather for cuamba and the number 1047660:383-Cuamba\n",
      " Processing weather for okhotsk and the number 2122605:384-Okhotsk\n",
      " Processing weather for ahuimanu and the number 5856516:385-‘Āhuimanu\n",
      "No data for city {city}\n",
      " Processing weather for mwinilunga and the number 902620:386-Mwinilunga\n",
      " Processing weather for yar-sale and the number 1486321:387-Yar-Sale\n",
      "No data for city {city}\n",
      " Processing weather for atikokan and the number 5888001:388-Atikokan\n",
      " Processing weather for vestmannaeyjar and the number 3412093:389-Vestmannaeyjar\n",
      " Processing weather for suoyarvi and the number 486186:390-Suoyarvi\n",
      " Processing weather for nome and the number 5870133:391-Nome\n",
      " Processing weather for rena and the number 3141982:392-Rena\n",
      " Processing weather for komsomolskiy and the number 1513491:393-Yangi Marg`ilon\n",
      " Processing weather for tabou and the number 2281120:394-Tabou\n",
      " Processing weather for micheweni and the number 153955:395-Micheweni\n",
      " Processing weather for sudova vyshnya and the number 692301:396-Sudova Vyshnya\n",
      " Processing weather for yumen and the number 1528998:397-Yumen\n",
      " Processing weather for hit and the number 95788:398-Hīt\n",
      " Processing weather for port hardy and the number 6111862:399-Port Hardy\n",
      "No data for city {city}\n",
      " Processing weather for albert and the number 3038271:400-Albert\n",
      " Processing weather for victoria and the number 1819729:401-Hong Kong\n",
      " Processing weather for chifeng and the number 2038067:402-Chifeng\n",
      " Processing weather for tateyama and the number 1850523:403-Tateyama\n",
      " Processing weather for dongsheng and the number 1812256:404-Dongsheng\n",
      " Processing weather for malkara and the number 741771:405-Malkara\n",
      " Processing weather for wanaka and the number 2184707:406-Wanaka\n",
      " Processing weather for ulladulla and the number 2145554:407-Ulladulla\n",
      " Processing weather for nishihara and the number 1855342:408-Nishihara\n",
      " Processing weather for san ignacio and the number 3581194:409-San Ignacio\n",
      " Processing weather for birao and the number 240210:410-Birao\n",
      "No data for city {city}\n",
      " Processing weather for oktyabrskoye and the number 515805:411-Oktyabr'skoye\n",
      "No data for city {city}\n",
      " Processing weather for lasa and the number 3175096:412-Laas\n",
      " Processing weather for polewali and the number 1630935:413-Polewali\n",
      " Processing weather for araouane and the number 2460954:414-Araouane\n",
      " Processing weather for ponta delgada and the number 3372783:415-Ponta Delgada\n",
      " Processing weather for kudahuvadhoo and the number 1337607:416-Kudahuvadhoo\n",
      " Processing weather for maceio and the number 3395981:417-Maceió\n",
      " Processing weather for bull savanna and the number 3491161:418-Bull Savanna\n",
      " Processing weather for guayaramerin and the number 3915350:419-Guayaramerín\n",
      " Processing weather for slave lake and the number 6149374:420-Slave Lake\n",
      "No data for city {city}\n",
      " Processing weather for ban bung and the number 1608418:421-Ban Bung\n",
      " Processing weather for bay roberts and the number 5895424:422-Bay Roberts\n",
      " Processing weather for gizo and the number 2108857:423-Gizo Government Station\n",
      " Processing weather for tyazhinskiy and the number 1488838:424-Tyazhinskiy\n",
      " Processing weather for saint-joseph and the number 6690296:425-Saint-Joseph\n",
      " Processing weather for omboue and the number 2396853:426-Omboué\n",
      " Processing weather for narodychi and the number 700446:427-Narodychi\n",
      "No data for city {city}\n",
      " Processing weather for abu zabad and the number 380348:428-Abū Zabad\n",
      " Processing weather for kaeo and the number 2189343:429-Kaeo\n",
      " Processing weather for ouro fino and the number 3468869:430-Ouro Fino\n",
      " Processing weather for umm lajj and the number 100926:431-Umluj\n",
      " Processing weather for tacuati and the number 3436880:432-Tacuatí\n",
      " Processing weather for male and the number 1282027:433-Malé\n",
      " Processing weather for ginir and the number 336454:434-Ginir\n",
      " Processing weather for chibuto and the number 1049861:435-Chibuto\n",
      " Processing weather for havre-saint-pierre and the number 5972291:436-Havre-St-Pierre\n",
      " Processing weather for dalbandin and the number 1180729:437-Dalbandin\n",
      " Processing weather for beihai and the number 1816705:438-Beihai\n",
      " Processing weather for nautla and the number 3522788:439-Nautla\n",
      "No data for city {city}\n",
      " Processing weather for linxia and the number 1803331:440-Linxia Chengguanzhen\n",
      " Processing weather for kaitangata and the number 2208248:441-Kaitangata\n",
      " Processing weather for labytnangi and the number 1500933:442-Labytnangi\n",
      " Processing weather for terrace bay and the number 6162951:443-Terrace Bay\n",
      " Processing weather for barranca and the number 3946820:444-Barranca\n",
      " Processing weather for piracanjuba and the number 3453659:445-Piracanjuba\n",
      " Processing weather for ambovombe and the number 1079048:446-Ambovombe\n",
      " Processing weather for bonthe and the number 2409914:447-Bonthe\n",
      " Processing weather for salym and the number 1493162:448-Salym\n",
      " Processing weather for port blair and the number 1259385:449-Port Blair\n",
      "No data for city {city}\n",
      " Processing weather for saint-pierre and the number 935214:450-Saint-Pierre\n",
      "No data for city {city}\n",
      " Processing weather for zheleznodorozhnyy and the number 463355:451-Zheleznodorozhnyy\n",
      " Processing weather for nadbai and the number 1262296:452-Nādbai\n",
      " Processing weather for hohhot and the number 2036892:453-Hohhot\n",
      " Processing weather for northam and the number 2641434:454-Northam\n",
      " Processing weather for chimore and the number 3920736:455-Chimoré\n",
      " Processing weather for stornoway and the number 2636790:456-Stornoway\n",
      " Processing weather for batagay and the number 2027044:457-Batagay\n",
      " Processing weather for talcahuano and the number 3870282:458-Talcahuano\n",
      " Processing weather for port hedland and the number 2063042:459-Port Hedland\n",
      " Processing weather for altamira and the number 3407882:460-Altamira\n",
      " Processing weather for gorontalo and the number 1643837:461-Gorontalo\n"
     ]
    },
    {
     "name": "stdout",
     "output_type": "stream",
     "text": [
      " Processing weather for visby and the number 2662689:462-Visby\n",
      " Processing weather for road town and the number 3577430:463-Road Town\n",
      " Processing weather for celestun and the number 3531368:464-Celestún\n",
      " Processing weather for bralostita and the number 683893:465-Braloştiţa\n",
      " Processing weather for lyubim and the number 532600:466-Lyubim\n",
      " Processing weather for udachnyy and the number 2014624:467-Udachny\n",
      " Processing weather for sao joao da barra and the number 3448903:468-São João da Barra\n",
      " Processing weather for west bay and the number 3580477:469-West Bay\n",
      " Processing weather for marystown and the number 6067472:470-Marystown\n",
      " Processing weather for koulikoro and the number 2454532:471-Koulikoro\n",
      " Processing weather for husavik and the number 2629833:472-Husavik\n",
      " Processing weather for ewa beach and the number 5855051:473-‘Ewa Beach\n",
      " Processing weather for corralillo and the number 3563317:474-Corralillo\n",
      " Processing weather for saint-georges and the number 3579925:475-St. George's\n",
      " Processing weather for ambatondrazaka and the number 1082639:476-Ambatondrazaka\n",
      " Processing weather for svetlaya and the number 2015852:477-Svetlaya\n",
      " Processing weather for sola and the number 2134814:478-Sola\n",
      " Processing weather for barguzin and the number 2027109:479-Barguzin\n",
      " Processing weather for soe and the number 1626703:480-Soe\n",
      " Processing weather for kasongo-lunda and the number 2315026:481-Kasongo-Lunda\n",
      " Processing weather for henties bay and the number 3356832:482-Henties Bay\n",
      " Processing weather for sibolga and the number 1213855:483-Sibolga\n",
      " Processing weather for heishan and the number 2036959:484-Heishan\n",
      " Processing weather for pineville and the number 4337291:485-Pineville\n",
      " Processing weather for sahuaripa and the number 3988265:486-Sahuaripa\n",
      " Processing weather for salto and the number 3440714:487-Salto\n",
      " Processing weather for whitianga and the number 2179103:488-Whitianga\n",
      " Processing weather for puerto escondido and the number 3520994:489-Puerto Escondido\n",
      " Processing weather for belaya gora and the number 2126785:490-Belaya Gora\n",
      " Processing weather for egvekinot and the number 4031742:491-Egvekinot\n",
      " Processing weather for kaseda and the number 1859964:492-Kaseda-shirakame\n",
      " Processing weather for san patricio and the number 4726521:493-San Patricio\n",
      " Processing weather for hami and the number 1529484:494-Kumul\n",
      " Processing weather for atar and the number 2381334:495-Atar\n",
      " Processing weather for meadow lake and the number 5478673:496-Meadow Lake\n",
      " Processing weather for vagur and the number 2610806:497-Vágur\n",
      " Processing weather for luckenwalde and the number 2875484:498-Luckenwalde\n",
      " Processing weather for ust-ishim and the number 1488206:499-Ust'-Ishim\n",
      " Processing weather for azovskaya and the number 580048:500-Azovskaya\n",
      " Processing weather for kupang and the number 2057087:501-Kupang\n",
      " Processing weather for san luis and the number 3837056:502-San Luis\n",
      " Processing weather for antalaha and the number 1071296:503-Antalaha\n",
      " Processing weather for west wendover and the number 5710035:504-West Wendover\n",
      " Processing weather for puerto quijarro and the number 3444201:505-Puerto Quijarro\n",
      " Processing weather for pangnirtung and the number 6096551:506-Pangnirtung\n",
      " Processing weather for port-gentil and the number 2396518:507-Port-Gentil\n",
      " Processing weather for kemin and the number 1528606:508-Kemin\n",
      " Processing weather for balabac and the number 1728675:509-Balabac\n",
      " Processing weather for uvalde and the number 4738723:510-Uvalde\n",
      " Processing weather for dargaville and the number 2191911:511-Dargaville\n",
      " Processing weather for visakhapatnam and the number 1253102:512-Visakhapatnam\n",
      " Processing weather for oranjemund and the number 3354071:513-Oranjemund\n",
      " Processing weather for buchanan and the number 2278158:514-Buchanan\n",
      " Processing weather for oslob and the number 1696989:515-Oslob\n",
      " Processing weather for ashland and the number 5146062:516-Ashland\n",
      " Processing weather for abha and the number 110690:517-Abhā\n",
      " Processing weather for jaitaran and the number 1269498:518-Jaitāran\n",
      " Processing weather for ajaccio and the number 3038333:519-Arrondissement d'Ajaccio\n",
      " Processing weather for mancio lima and the number 3663516:520-Mâncio Lima\n",
      " Processing weather for clearwater and the number 4151316:521-Clearwater\n",
      " Processing weather for abu samrah and the number 172515:522-Abu Samrah\n",
      " Processing weather for kure and the number 1858296:523-Kure\n",
      " Processing weather for menongue and the number 3347353:524-Menongue\n",
      " Processing weather for toul and the number 2972349:525-Arrondissement de Toul\n",
      " Processing weather for alyangula and the number 2079582:526-Alyangula\n",
      "No data for city {city}\n",
      " Processing weather for srivardhan and the number 1255619:527-Srīvardhan\n",
      " Processing weather for karratha and the number 6620339:528-Karratha\n",
      " Processing weather for veendam and the number 2745783:529-Veendam\n",
      " Processing weather for cape canaveral and the number 4149959:530-Cape Canaveral\n",
      " Processing weather for vavuniya and the number 1225018:531-Vavuniya\n",
      " Processing weather for quatre cocos and the number 1106643:532-Quatre Cocos\n",
      " Processing weather for watrous and the number 6176928:533-Watrous\n",
      " Processing weather for dhidhdhoo and the number 1337612:534-Dhidhdhoo\n",
      " Processing weather for namikupa and the number 877631:535-Namikupa\n",
      " Processing weather for ascension and the number 4315067:536-Ascension\n",
      " Processing weather for loudeac and the number 2997465:537-Loudéac\n",
      "No data for city {city}\n",
      " Processing weather for faratsiho and the number 1065140:538-Faratsiho\n",
      " Processing weather for meulaboh and the number 1214488:539-Meulaboh\n",
      " Processing weather for napanee and the number 5965812:540-Napanee\n",
      "No data for city {city}\n",
      " Processing weather for kalmunai and the number 1242110:541-Kalmunai\n",
      " Processing weather for tomatlan and the number 3981391:542-Tomatlán\n",
      " Processing weather for tianmen and the number 1805618:543-Tianmen\n",
      " Processing weather for padang and the number 1633419:544-Padang\n",
      " Processing weather for lima and the number 3936456:545-Lima\n",
      " Processing weather for havelock and the number 4470244:546-Havelock\n",
      " Processing weather for podor and the number 2245170:547-Podor\n",
      " Processing weather for kushmurun and the number 1519924:548-Kushmurun\n"
     ]
    }
   ],
   "source": [
    "url = \"http://api.openweathermap.org/data/2.5/weather?\"\n",
    "units = \"imperial\"\n",
    "\n",
    "\n",
    "#decided not to use the dictionary and creating 9 empty lists and appending to the dict. \n",
    "#I read a values from api call into a list and saved it into csv file.\n",
    "#weather_dict = dict()\n",
    "row=[]\n",
    "# Build partial query URL\n",
    "query_url = f\"{url}appid={weather_api_key}&units={units}&q=\"\n",
    "i=0\n",
    "headers=['City','Lat','Lng','Max Temp','Humidity','Cloudiness','Wind Speed','Country','Date']\n",
    "with open(output_data_file, 'w') as csvfile:\n",
    "    weather_writer = csv.writer(csvfile)\n",
    "    weather_writer.writerow(headers)\n",
    "    for city in cities:\n",
    "        try:\n",
    "            response = requests.get(query_url + city).json()\n",
    "            row.append(city)\n",
    "            row.append(response['coord']['lat'])\n",
    "            row.append(response['coord']['lon'])\n",
    "            row.append(response['main']['temp_max'])\n",
    "            row.append(response['main']['humidity'])\n",
    "            row.append(response['clouds']['all'])\n",
    "            row.append(response['wind']['speed'])\n",
    "            row.append(response['sys']['country'])\n",
    "            row.append(response['dt'])\n",
    "            weather_writer.writerow(row)           \n",
    "            row.clear()\n",
    "#I assumed when you city id it wsa id number I found in response\n",
    "            print(f' Processing weather for {city} and the number {response[\"id\"]}:{i}-{response[\"name\"]}')\n",
    "            i+=1\n",
    "            if i%50 == 0:\n",
    "                time.sleep(40)          \n",
    "        except:\n",
    "            print('No data for city {city}')  "
   ]
  },
  {
   "cell_type": "code",
   "execution_count": null,
   "metadata": {
    "scrolled": true
   },
   "outputs": [],
   "source": []
  },
  {
   "cell_type": "markdown",
   "metadata": {},
   "source": [
    "### Convert Raw Data to DataFrame\n",
    "* Export the city data into a .csv.\n",
    "* Display the DataFrame"
   ]
  },
  {
   "cell_type": "code",
   "execution_count": 93,
   "metadata": {},
   "outputs": [
    {
     "data": {
      "text/html": [
       "<div>\n",
       "<style scoped>\n",
       "    .dataframe tbody tr th:only-of-type {\n",
       "        vertical-align: middle;\n",
       "    }\n",
       "\n",
       "    .dataframe tbody tr th {\n",
       "        vertical-align: top;\n",
       "    }\n",
       "\n",
       "    .dataframe thead th {\n",
       "        text-align: right;\n",
       "    }\n",
       "</style>\n",
       "<table border=\"1\" class=\"dataframe\">\n",
       "  <thead>\n",
       "    <tr style=\"text-align: right;\">\n",
       "      <th></th>\n",
       "      <th>City</th>\n",
       "      <th>Lat</th>\n",
       "      <th>Lng</th>\n",
       "      <th>Max Temp</th>\n",
       "      <th>Humidity</th>\n",
       "      <th>Cloudiness</th>\n",
       "      <th>Wind Speed</th>\n",
       "      <th>Country</th>\n",
       "      <th>Date</th>\n",
       "    </tr>\n",
       "  </thead>\n",
       "  <tbody>\n",
       "    <tr>\n",
       "      <th>0</th>\n",
       "      <td>Provideniya</td>\n",
       "      <td>64.38</td>\n",
       "      <td>-173.30</td>\n",
       "      <td>24.69</td>\n",
       "      <td>88</td>\n",
       "      <td>90</td>\n",
       "      <td>7.78</td>\n",
       "      <td>RU</td>\n",
       "      <td>1604100700</td>\n",
       "    </tr>\n",
       "    <tr>\n",
       "      <th>1</th>\n",
       "      <td>Rikitea</td>\n",
       "      <td>-23.12</td>\n",
       "      <td>-134.97</td>\n",
       "      <td>76.21</td>\n",
       "      <td>64</td>\n",
       "      <td>0</td>\n",
       "      <td>3.87</td>\n",
       "      <td>PF</td>\n",
       "      <td>1604100979</td>\n",
       "    </tr>\n",
       "    <tr>\n",
       "      <th>2</th>\n",
       "      <td>Souillac</td>\n",
       "      <td>-20.52</td>\n",
       "      <td>57.52</td>\n",
       "      <td>68.00</td>\n",
       "      <td>56</td>\n",
       "      <td>40</td>\n",
       "      <td>17.22</td>\n",
       "      <td>MU</td>\n",
       "      <td>1604100979</td>\n",
       "    </tr>\n",
       "    <tr>\n",
       "      <th>3</th>\n",
       "      <td>Puerto Ayora</td>\n",
       "      <td>-0.74</td>\n",
       "      <td>-90.35</td>\n",
       "      <td>70.00</td>\n",
       "      <td>93</td>\n",
       "      <td>66</td>\n",
       "      <td>4.00</td>\n",
       "      <td>EC</td>\n",
       "      <td>1604100979</td>\n",
       "    </tr>\n",
       "    <tr>\n",
       "      <th>4</th>\n",
       "      <td>Atuona</td>\n",
       "      <td>-9.80</td>\n",
       "      <td>-139.03</td>\n",
       "      <td>77.92</td>\n",
       "      <td>73</td>\n",
       "      <td>76</td>\n",
       "      <td>10.51</td>\n",
       "      <td>PF</td>\n",
       "      <td>1604100693</td>\n",
       "    </tr>\n",
       "  </tbody>\n",
       "</table>\n",
       "</div>"
      ],
      "text/plain": [
       "           City    Lat     Lng  Max Temp  Humidity  Cloudiness  Wind Speed  \\\n",
       "0   Provideniya  64.38 -173.30     24.69        88          90        7.78   \n",
       "1       Rikitea -23.12 -134.97     76.21        64           0        3.87   \n",
       "2      Souillac -20.52   57.52     68.00        56          40       17.22   \n",
       "3  Puerto Ayora  -0.74  -90.35     70.00        93          66        4.00   \n",
       "4        Atuona  -9.80 -139.03     77.92        73          76       10.51   \n",
       "\n",
       "  Country        Date  \n",
       "0      RU  1604100700  \n",
       "1      PF  1604100979  \n",
       "2      MU  1604100979  \n",
       "3      EC  1604100979  \n",
       "4      PF  1604100693  "
      ]
     },
     "execution_count": 93,
     "metadata": {},
     "output_type": "execute_result"
    }
   ],
   "source": [
    "weather_data = pd.read_csv(output_data_file)\n",
    "weather_data.head()"
   ]
  },
  {
   "cell_type": "code",
   "execution_count": 94,
   "metadata": {},
   "outputs": [
    {
     "data": {
      "text/plain": [
       "City          544\n",
       "Lat           544\n",
       "Lng           544\n",
       "Max Temp      544\n",
       "Humidity      544\n",
       "Cloudiness    544\n",
       "Wind Speed    544\n",
       "Country       544\n",
       "Date          544\n",
       "dtype: int64"
      ]
     },
     "execution_count": 94,
     "metadata": {},
     "output_type": "execute_result"
    }
   ],
   "source": [
    "cleaned_weather_data = weather_data.dropna(how=\"any\")\n",
    "cleaned_weather_data.count()"
   ]
  },
  {
   "cell_type": "markdown",
   "metadata": {},
   "source": [
    "## Inspect the data and remove the cities where the humidity > 100%.\n",
    "----\n",
    "Skip this step if there are no cities that have humidity > 100%. "
   ]
  },
  {
   "cell_type": "code",
   "execution_count": 95,
   "metadata": {},
   "outputs": [
    {
     "data": {
      "text/html": [
       "<div>\n",
       "<style scoped>\n",
       "    .dataframe tbody tr th:only-of-type {\n",
       "        vertical-align: middle;\n",
       "    }\n",
       "\n",
       "    .dataframe tbody tr th {\n",
       "        vertical-align: top;\n",
       "    }\n",
       "\n",
       "    .dataframe thead th {\n",
       "        text-align: right;\n",
       "    }\n",
       "</style>\n",
       "<table border=\"1\" class=\"dataframe\">\n",
       "  <thead>\n",
       "    <tr style=\"text-align: right;\">\n",
       "      <th></th>\n",
       "      <th>Lat</th>\n",
       "      <th>Lng</th>\n",
       "      <th>Max Temp</th>\n",
       "      <th>Humidity</th>\n",
       "      <th>Cloudiness</th>\n",
       "      <th>Wind Speed</th>\n",
       "      <th>Date</th>\n",
       "    </tr>\n",
       "  </thead>\n",
       "  <tbody>\n",
       "    <tr>\n",
       "      <th>count</th>\n",
       "      <td>544.000000</td>\n",
       "      <td>544.000000</td>\n",
       "      <td>544.000000</td>\n",
       "      <td>544.000000</td>\n",
       "      <td>544.000000</td>\n",
       "      <td>544.000000</td>\n",
       "      <td>5.440000e+02</td>\n",
       "    </tr>\n",
       "    <tr>\n",
       "      <th>mean</th>\n",
       "      <td>19.028125</td>\n",
       "      <td>19.397004</td>\n",
       "      <td>57.866746</td>\n",
       "      <td>73.867647</td>\n",
       "      <td>54.428309</td>\n",
       "      <td>7.929136</td>\n",
       "      <td>1.604101e+09</td>\n",
       "    </tr>\n",
       "    <tr>\n",
       "      <th>std</th>\n",
       "      <td>32.819628</td>\n",
       "      <td>91.802596</td>\n",
       "      <td>21.614098</td>\n",
       "      <td>19.013346</td>\n",
       "      <td>38.199129</td>\n",
       "      <td>5.893339</td>\n",
       "      <td>1.652373e+02</td>\n",
       "    </tr>\n",
       "    <tr>\n",
       "      <th>min</th>\n",
       "      <td>-54.800000</td>\n",
       "      <td>-179.170000</td>\n",
       "      <td>-12.240000</td>\n",
       "      <td>11.000000</td>\n",
       "      <td>0.000000</td>\n",
       "      <td>0.290000</td>\n",
       "      <td>1.604101e+09</td>\n",
       "    </tr>\n",
       "    <tr>\n",
       "      <th>25%</th>\n",
       "      <td>-8.597500</td>\n",
       "      <td>-65.187500</td>\n",
       "      <td>42.800000</td>\n",
       "      <td>64.000000</td>\n",
       "      <td>19.500000</td>\n",
       "      <td>3.717500</td>\n",
       "      <td>1.604101e+09</td>\n",
       "    </tr>\n",
       "    <tr>\n",
       "      <th>50%</th>\n",
       "      <td>21.375000</td>\n",
       "      <td>27.440000</td>\n",
       "      <td>63.545000</td>\n",
       "      <td>78.000000</td>\n",
       "      <td>65.500000</td>\n",
       "      <td>6.495000</td>\n",
       "      <td>1.604101e+09</td>\n",
       "    </tr>\n",
       "    <tr>\n",
       "      <th>75%</th>\n",
       "      <td>47.095000</td>\n",
       "      <td>100.342500</td>\n",
       "      <td>76.045000</td>\n",
       "      <td>87.000000</td>\n",
       "      <td>90.000000</td>\n",
       "      <td>10.592500</td>\n",
       "      <td>1.604101e+09</td>\n",
       "    </tr>\n",
       "    <tr>\n",
       "      <th>max</th>\n",
       "      <td>78.220000</td>\n",
       "      <td>179.320000</td>\n",
       "      <td>88.900000</td>\n",
       "      <td>100.000000</td>\n",
       "      <td>100.000000</td>\n",
       "      <td>39.150000</td>\n",
       "      <td>1.604101e+09</td>\n",
       "    </tr>\n",
       "  </tbody>\n",
       "</table>\n",
       "</div>"
      ],
      "text/plain": [
       "              Lat         Lng    Max Temp    Humidity  Cloudiness  Wind Speed  \\\n",
       "count  544.000000  544.000000  544.000000  544.000000  544.000000  544.000000   \n",
       "mean    19.028125   19.397004   57.866746   73.867647   54.428309    7.929136   \n",
       "std     32.819628   91.802596   21.614098   19.013346   38.199129    5.893339   \n",
       "min    -54.800000 -179.170000  -12.240000   11.000000    0.000000    0.290000   \n",
       "25%     -8.597500  -65.187500   42.800000   64.000000   19.500000    3.717500   \n",
       "50%     21.375000   27.440000   63.545000   78.000000   65.500000    6.495000   \n",
       "75%     47.095000  100.342500   76.045000   87.000000   90.000000   10.592500   \n",
       "max     78.220000  179.320000   88.900000  100.000000  100.000000   39.150000   \n",
       "\n",
       "               Date  \n",
       "count  5.440000e+02  \n",
       "mean   1.604101e+09  \n",
       "std    1.652373e+02  \n",
       "min    1.604101e+09  \n",
       "25%    1.604101e+09  \n",
       "50%    1.604101e+09  \n",
       "75%    1.604101e+09  \n",
       "max    1.604101e+09  "
      ]
     },
     "execution_count": 95,
     "metadata": {},
     "output_type": "execute_result"
    }
   ],
   "source": [
    "cleaned_weather_data.describe()"
   ]
  },
  {
   "cell_type": "code",
   "execution_count": 96,
   "metadata": {},
   "outputs": [],
   "source": [
    "#Save cleaned data\n",
    "cleaned_weather_data.to_csv(output_data_file)"
   ]
  },
  {
   "cell_type": "code",
   "execution_count": 97,
   "metadata": {},
   "outputs": [
    {
     "data": {
      "text/plain": [
       "Int64Index([], dtype='int64')"
      ]
     },
     "execution_count": 97,
     "metadata": {},
     "output_type": "execute_result"
    }
   ],
   "source": [
    "#  Get the indices of cities that have humidity over 100%.\n",
    "greater_than_100_humidity_idx = cleaned_weather_data.loc[cleaned_weather_data['Humidity'] > 100].index\n",
    "greater_than_100_humidity_idx"
   ]
  },
  {
   "cell_type": "code",
   "execution_count": 98,
   "metadata": {},
   "outputs": [
    {
     "data": {
      "text/html": [
       "<div>\n",
       "<style scoped>\n",
       "    .dataframe tbody tr th:only-of-type {\n",
       "        vertical-align: middle;\n",
       "    }\n",
       "\n",
       "    .dataframe tbody tr th {\n",
       "        vertical-align: top;\n",
       "    }\n",
       "\n",
       "    .dataframe thead th {\n",
       "        text-align: right;\n",
       "    }\n",
       "</style>\n",
       "<table border=\"1\" class=\"dataframe\">\n",
       "  <thead>\n",
       "    <tr style=\"text-align: right;\">\n",
       "      <th></th>\n",
       "      <th>City</th>\n",
       "      <th>Lat</th>\n",
       "      <th>Lng</th>\n",
       "      <th>Max Temp</th>\n",
       "      <th>Humidity</th>\n",
       "      <th>Cloudiness</th>\n",
       "      <th>Wind Speed</th>\n",
       "      <th>Country</th>\n",
       "      <th>Date</th>\n",
       "    </tr>\n",
       "  </thead>\n",
       "  <tbody>\n",
       "    <tr>\n",
       "      <th>0</th>\n",
       "      <td>Provideniya</td>\n",
       "      <td>64.38</td>\n",
       "      <td>-173.30</td>\n",
       "      <td>24.69</td>\n",
       "      <td>88</td>\n",
       "      <td>90</td>\n",
       "      <td>7.78</td>\n",
       "      <td>RU</td>\n",
       "      <td>1604100700</td>\n",
       "    </tr>\n",
       "    <tr>\n",
       "      <th>1</th>\n",
       "      <td>Rikitea</td>\n",
       "      <td>-23.12</td>\n",
       "      <td>-134.97</td>\n",
       "      <td>76.21</td>\n",
       "      <td>64</td>\n",
       "      <td>0</td>\n",
       "      <td>3.87</td>\n",
       "      <td>PF</td>\n",
       "      <td>1604100979</td>\n",
       "    </tr>\n",
       "    <tr>\n",
       "      <th>2</th>\n",
       "      <td>Souillac</td>\n",
       "      <td>-20.52</td>\n",
       "      <td>57.52</td>\n",
       "      <td>68.00</td>\n",
       "      <td>56</td>\n",
       "      <td>40</td>\n",
       "      <td>17.22</td>\n",
       "      <td>MU</td>\n",
       "      <td>1604100979</td>\n",
       "    </tr>\n",
       "    <tr>\n",
       "      <th>3</th>\n",
       "      <td>Puerto Ayora</td>\n",
       "      <td>-0.74</td>\n",
       "      <td>-90.35</td>\n",
       "      <td>70.00</td>\n",
       "      <td>93</td>\n",
       "      <td>66</td>\n",
       "      <td>4.00</td>\n",
       "      <td>EC</td>\n",
       "      <td>1604100979</td>\n",
       "    </tr>\n",
       "    <tr>\n",
       "      <th>4</th>\n",
       "      <td>Atuona</td>\n",
       "      <td>-9.80</td>\n",
       "      <td>-139.03</td>\n",
       "      <td>77.92</td>\n",
       "      <td>73</td>\n",
       "      <td>76</td>\n",
       "      <td>10.51</td>\n",
       "      <td>PF</td>\n",
       "      <td>1604100693</td>\n",
       "    </tr>\n",
       "    <tr>\n",
       "      <th>6</th>\n",
       "      <td>Tuatapere</td>\n",
       "      <td>-46.13</td>\n",
       "      <td>167.68</td>\n",
       "      <td>54.00</td>\n",
       "      <td>98</td>\n",
       "      <td>100</td>\n",
       "      <td>11.99</td>\n",
       "      <td>NZ</td>\n",
       "      <td>1604100979</td>\n",
       "    </tr>\n",
       "    <tr>\n",
       "      <th>7</th>\n",
       "      <td>Ushuaia</td>\n",
       "      <td>-54.80</td>\n",
       "      <td>-68.30</td>\n",
       "      <td>50.00</td>\n",
       "      <td>71</td>\n",
       "      <td>75</td>\n",
       "      <td>20.80</td>\n",
       "      <td>AR</td>\n",
       "      <td>1604100861</td>\n",
       "    </tr>\n",
       "    <tr>\n",
       "      <th>8</th>\n",
       "      <td>Caravelas</td>\n",
       "      <td>-17.71</td>\n",
       "      <td>-39.25</td>\n",
       "      <td>76.35</td>\n",
       "      <td>82</td>\n",
       "      <td>99</td>\n",
       "      <td>8.37</td>\n",
       "      <td>BR</td>\n",
       "      <td>1604100979</td>\n",
       "    </tr>\n",
       "    <tr>\n",
       "      <th>9</th>\n",
       "      <td>Port Elizabeth</td>\n",
       "      <td>-33.92</td>\n",
       "      <td>25.57</td>\n",
       "      <td>51.80</td>\n",
       "      <td>81</td>\n",
       "      <td>20</td>\n",
       "      <td>2.24</td>\n",
       "      <td>ZA</td>\n",
       "      <td>1604100701</td>\n",
       "    </tr>\n",
       "    <tr>\n",
       "      <th>10</th>\n",
       "      <td>Bubaque</td>\n",
       "      <td>11.28</td>\n",
       "      <td>-15.83</td>\n",
       "      <td>83.68</td>\n",
       "      <td>76</td>\n",
       "      <td>61</td>\n",
       "      <td>10.71</td>\n",
       "      <td>GW</td>\n",
       "      <td>1604100979</td>\n",
       "    </tr>\n",
       "  </tbody>\n",
       "</table>\n",
       "</div>"
      ],
      "text/plain": [
       "              City    Lat     Lng  Max Temp  Humidity  Cloudiness  Wind Speed  \\\n",
       "0      Provideniya  64.38 -173.30     24.69        88          90        7.78   \n",
       "1          Rikitea -23.12 -134.97     76.21        64           0        3.87   \n",
       "2         Souillac -20.52   57.52     68.00        56          40       17.22   \n",
       "3     Puerto Ayora  -0.74  -90.35     70.00        93          66        4.00   \n",
       "4           Atuona  -9.80 -139.03     77.92        73          76       10.51   \n",
       "6        Tuatapere -46.13  167.68     54.00        98         100       11.99   \n",
       "7          Ushuaia -54.80  -68.30     50.00        71          75       20.80   \n",
       "8        Caravelas -17.71  -39.25     76.35        82          99        8.37   \n",
       "9   Port Elizabeth -33.92   25.57     51.80        81          20        2.24   \n",
       "10         Bubaque  11.28  -15.83     83.68        76          61       10.71   \n",
       "\n",
       "   Country        Date  \n",
       "0       RU  1604100700  \n",
       "1       PF  1604100979  \n",
       "2       MU  1604100979  \n",
       "3       EC  1604100979  \n",
       "4       PF  1604100693  \n",
       "6       NZ  1604100979  \n",
       "7       AR  1604100861  \n",
       "8       BR  1604100979  \n",
       "9       ZA  1604100701  \n",
       "10      GW  1604100979  "
      ]
     },
     "execution_count": 98,
     "metadata": {},
     "output_type": "execute_result"
    }
   ],
   "source": [
    "# Make a new DataFrame equal to the city data to drop all humidity outliers by index.\n",
    "# Passing \"inplace=False\" will make a copy of the city_data DataFrame, which we call \"clean_city_data\".\n",
    "clean_city_data = cleaned_weather_data.drop(greater_than_100_humidity_idx)\n",
    "clean_city_data.head(10)"
   ]
  },
  {
   "cell_type": "code",
   "execution_count": 99,
   "metadata": {},
   "outputs": [
    {
     "data": {
      "text/plain": [
       "'2020-10-30'"
      ]
     },
     "execution_count": 99,
     "metadata": {},
     "output_type": "execute_result"
    }
   ],
   "source": [
    "date_index = clean_city_data.head(10).index.values[0]\n",
    "run_date = clean_city_data.at[date_index,'Date']\n",
    "date_of_analysis = datetime.datetime.fromtimestamp(int(run_date)).strftime('%Y-%m-%d')\n",
    "date_of_analysis"
   ]
  },
  {
   "cell_type": "markdown",
   "metadata": {},
   "source": [
    "## Plotting the Data\n",
    "* Use proper labeling of the plots using plot titles (including date of analysis) and axes labels.\n",
    "* Save the plotted figures as .pngs."
   ]
  },
  {
   "cell_type": "markdown",
   "metadata": {},
   "source": [
    "## Latitude vs. Temperature Plot"
   ]
  },
  {
   "cell_type": "code",
   "execution_count": 100,
   "metadata": {
    "scrolled": true
   },
   "outputs": [
    {
     "data": {
      "image/png": "[encoded data removed]",
      "text/plain": [
       "<Figure size 432x288 with 1 Axes>"
      ]
     },
     "metadata": {
      "needs_background": "light"
     },
     "output_type": "display_data"
    }
   ],
   "source": [
    "ax = clean_city_data.plot(kind='scatter', x='Lat',y='Max Temp',marker=\"o\", facecolors=\"red\", edgecolors=\"black\",alpha=0.75)\n",
    "\n",
    "ax.set_ylabel('Max Temprature(F)')\n",
    "ax.set_xlabel('Latitude')\n",
    "label = 'City Latutude Vs. Max Temprature as of ' + date_of_analysis\n",
    "ax.set_title(label)\n",
    "ax.grid()\n",
    "fig = ax.get_figure()\n",
    "fig.savefig('../output_data/LatvsTemp')"
   ]
  },
  {
   "cell_type": "markdown",
   "metadata": {},
   "source": [
    "## Latitude vs. Humidity Plot"
   ]
  },
  {
   "cell_type": "code",
   "execution_count": 101,
   "metadata": {},
   "outputs": [
    {
     "data": {
      "image/png": "[encoded data removed]",
      "text/plain": [
       "<Figure size 432x288 with 1 Axes>"
      ]
     },
     "metadata": {
      "needs_background": "light"
     },
     "output_type": "display_data"
    }
   ],
   "source": [
    "ax = clean_city_data.plot(kind='scatter', x='Lat',y='Humidity',marker=\"o\", facecolors=\"red\", edgecolors=\"black\",alpha=0.75)\n",
    "ax.set_ylabel('Humidity')\n",
    "ax.set_xlabel('Latitude')\n",
    "label = f'City Latutude Vs. Humidity ({date_of_analysis})'\n",
    "ax.set_title(label)\n",
    "ax.grid()\n",
    "fig = ax.get_figure()\n",
    "fig.savefig('../output_data/latvshumidity.png')"
   ]
  },
  {
   "cell_type": "markdown",
   "metadata": {},
   "source": [
    "## Latitude vs. Cloudiness Plot"
   ]
  },
  {
   "cell_type": "code",
   "execution_count": 102,
   "metadata": {},
   "outputs": [
    {
     "data": {
      "image/png": "[encoded data removed]",
      "text/plain": [
       "<Figure size 432x288 with 1 Axes>"
      ]
     },
     "metadata": {
      "needs_background": "light"
     },
     "output_type": "display_data"
    }
   ],
   "source": [
    "ax = clean_city_data.plot(kind='scatter', x='Lat',y='Cloudiness',marker=\"o\", facecolors=\"red\", edgecolors=\"black\",alpha=0.75)\n",
    "ax.set_ylabel('Cloudiness')\n",
    "ax.set_xlabel('Latitude')\n",
    "label = f'City Latutude Vs. Cloudiness ({date_of_analysis})'\n",
    "ax.set_title(label)\n",
    "ax.grid()\n",
    "fig = ax.get_figure()\n",
    "fig.savefig('../output_data/latvscloudiness.png')"
   ]
  },
  {
   "cell_type": "markdown",
   "metadata": {},
   "source": [
    "## Latitude vs. Wind Speed Plot"
   ]
  },
  {
   "cell_type": "code",
   "execution_count": 103,
   "metadata": {},
   "outputs": [
    {
     "data": {
      "image/png": "[encoded data removed]",
      "text/plain": [
       "<Figure size 432x288 with 1 Axes>"
      ]
     },
     "metadata": {
      "needs_background": "light"
     },
     "output_type": "display_data"
    }
   ],
   "source": [
    "ax = clean_city_data.plot(kind='scatter', x='Lat',y='Wind Speed',marker=\"o\", facecolors=\"red\", edgecolors=\"black\",alpha=0.75)\n",
    "ax.set_ylabel('Wind Speed')\n",
    "ax.set_xlabel('Latitude')\n",
    "label = f'City Latutude Vs. Wind Speed ({date_of_analysis})'\n",
    "ax.set_title(label)\n",
    "ax.grid()\n",
    "fig = ax.get_figure()\n",
    "fig.savefig('../output_data/latvswindspeed.png')"
   ]
  },
  {
   "cell_type": "markdown",
   "metadata": {},
   "source": [
    "## Linear Regression"
   ]
  },
  {
   "cell_type": "code",
   "execution_count": 104,
   "metadata": {},
   "outputs": [
    {
     "data": {
      "text/html": [
       "<div>\n",
       "<style scoped>\n",
       "    .dataframe tbody tr th:only-of-type {\n",
       "        vertical-align: middle;\n",
       "    }\n",
       "\n",
       "    .dataframe tbody tr th {\n",
       "        vertical-align: top;\n",
       "    }\n",
       "\n",
       "    .dataframe thead th {\n",
       "        text-align: right;\n",
       "    }\n",
       "</style>\n",
       "<table border=\"1\" class=\"dataframe\">\n",
       "  <thead>\n",
       "    <tr style=\"text-align: right;\">\n",
       "      <th></th>\n",
       "      <th>index</th>\n",
       "      <th>City</th>\n",
       "      <th>Lat</th>\n",
       "      <th>Lng</th>\n",
       "      <th>Max Temp</th>\n",
       "      <th>Humidity</th>\n",
       "      <th>Cloudiness</th>\n",
       "      <th>Wind Speed</th>\n",
       "      <th>Country</th>\n",
       "      <th>Date</th>\n",
       "    </tr>\n",
       "  </thead>\n",
       "  <tbody>\n",
       "    <tr>\n",
       "      <th>0</th>\n",
       "      <td>0</td>\n",
       "      <td>Provideniya</td>\n",
       "      <td>64.38</td>\n",
       "      <td>-173.30</td>\n",
       "      <td>24.69</td>\n",
       "      <td>88</td>\n",
       "      <td>90</td>\n",
       "      <td>7.78</td>\n",
       "      <td>RU</td>\n",
       "      <td>1604100700</td>\n",
       "    </tr>\n",
       "    <tr>\n",
       "      <th>1</th>\n",
       "      <td>10</td>\n",
       "      <td>Bubaque</td>\n",
       "      <td>11.28</td>\n",
       "      <td>-15.83</td>\n",
       "      <td>83.68</td>\n",
       "      <td>76</td>\n",
       "      <td>61</td>\n",
       "      <td>10.71</td>\n",
       "      <td>GW</td>\n",
       "      <td>1604100979</td>\n",
       "    </tr>\n",
       "    <tr>\n",
       "      <th>2</th>\n",
       "      <td>13</td>\n",
       "      <td>Butaritari</td>\n",
       "      <td>3.07</td>\n",
       "      <td>172.79</td>\n",
       "      <td>82.56</td>\n",
       "      <td>77</td>\n",
       "      <td>72</td>\n",
       "      <td>20.20</td>\n",
       "      <td>KI</td>\n",
       "      <td>1604100682</td>\n",
       "    </tr>\n",
       "    <tr>\n",
       "      <th>3</th>\n",
       "      <td>16</td>\n",
       "      <td>Barrow</td>\n",
       "      <td>71.29</td>\n",
       "      <td>-156.79</td>\n",
       "      <td>15.80</td>\n",
       "      <td>78</td>\n",
       "      <td>1</td>\n",
       "      <td>11.41</td>\n",
       "      <td>US</td>\n",
       "      <td>1604100689</td>\n",
       "    </tr>\n",
       "    <tr>\n",
       "      <th>4</th>\n",
       "      <td>17</td>\n",
       "      <td>Salem</td>\n",
       "      <td>11.65</td>\n",
       "      <td>78.17</td>\n",
       "      <td>70.45</td>\n",
       "      <td>70</td>\n",
       "      <td>34</td>\n",
       "      <td>1.34</td>\n",
       "      <td>IN</td>\n",
       "      <td>1604100980</td>\n",
       "    </tr>\n",
       "    <tr>\n",
       "      <th>...</th>\n",
       "      <td>...</td>\n",
       "      <td>...</td>\n",
       "      <td>...</td>\n",
       "      <td>...</td>\n",
       "      <td>...</td>\n",
       "      <td>...</td>\n",
       "      <td>...</td>\n",
       "      <td>...</td>\n",
       "      <td>...</td>\n",
       "      <td>...</td>\n",
       "    </tr>\n",
       "    <tr>\n",
       "      <th>365</th>\n",
       "      <td>542</td>\n",
       "      <td>Tomatlán</td>\n",
       "      <td>19.93</td>\n",
       "      <td>-105.25</td>\n",
       "      <td>80.67</td>\n",
       "      <td>82</td>\n",
       "      <td>88</td>\n",
       "      <td>2.75</td>\n",
       "      <td>MX</td>\n",
       "      <td>1604101430</td>\n",
       "    </tr>\n",
       "    <tr>\n",
       "      <th>366</th>\n",
       "      <td>543</td>\n",
       "      <td>Tianmen</td>\n",
       "      <td>30.65</td>\n",
       "      <td>113.16</td>\n",
       "      <td>60.39</td>\n",
       "      <td>88</td>\n",
       "      <td>100</td>\n",
       "      <td>4.76</td>\n",
       "      <td>CN</td>\n",
       "      <td>1604101430</td>\n",
       "    </tr>\n",
       "    <tr>\n",
       "      <th>367</th>\n",
       "      <td>546</td>\n",
       "      <td>Havelock</td>\n",
       "      <td>34.88</td>\n",
       "      <td>-76.90</td>\n",
       "      <td>60.80</td>\n",
       "      <td>59</td>\n",
       "      <td>20</td>\n",
       "      <td>10.29</td>\n",
       "      <td>US</td>\n",
       "      <td>1604101431</td>\n",
       "    </tr>\n",
       "    <tr>\n",
       "      <th>368</th>\n",
       "      <td>547</td>\n",
       "      <td>Podor</td>\n",
       "      <td>16.65</td>\n",
       "      <td>-14.96</td>\n",
       "      <td>88.90</td>\n",
       "      <td>13</td>\n",
       "      <td>75</td>\n",
       "      <td>10.58</td>\n",
       "      <td>MR</td>\n",
       "      <td>1604101431</td>\n",
       "    </tr>\n",
       "    <tr>\n",
       "      <th>369</th>\n",
       "      <td>548</td>\n",
       "      <td>Kushmurun</td>\n",
       "      <td>52.45</td>\n",
       "      <td>64.63</td>\n",
       "      <td>35.15</td>\n",
       "      <td>83</td>\n",
       "      <td>20</td>\n",
       "      <td>7.25</td>\n",
       "      <td>KZ</td>\n",
       "      <td>1604101431</td>\n",
       "    </tr>\n",
       "  </tbody>\n",
       "</table>\n",
       "<p>370 rows × 10 columns</p>\n",
       "</div>"
      ],
      "text/plain": [
       "     index         City    Lat     Lng  Max Temp  Humidity  Cloudiness  \\\n",
       "0        0  Provideniya  64.38 -173.30     24.69        88          90   \n",
       "1       10      Bubaque  11.28  -15.83     83.68        76          61   \n",
       "2       13   Butaritari   3.07  172.79     82.56        77          72   \n",
       "3       16       Barrow  71.29 -156.79     15.80        78           1   \n",
       "4       17        Salem  11.65   78.17     70.45        70          34   \n",
       "..     ...          ...    ...     ...       ...       ...         ...   \n",
       "365    542     Tomatlán  19.93 -105.25     80.67        82          88   \n",
       "366    543      Tianmen  30.65  113.16     60.39        88         100   \n",
       "367    546     Havelock  34.88  -76.90     60.80        59          20   \n",
       "368    547        Podor  16.65  -14.96     88.90        13          75   \n",
       "369    548    Kushmurun  52.45   64.63     35.15        83          20   \n",
       "\n",
       "     Wind Speed Country        Date  \n",
       "0          7.78      RU  1604100700  \n",
       "1         10.71      GW  1604100979  \n",
       "2         20.20      KI  1604100682  \n",
       "3         11.41      US  1604100689  \n",
       "4          1.34      IN  1604100980  \n",
       "..          ...     ...         ...  \n",
       "365        2.75      MX  1604101430  \n",
       "366        4.76      CN  1604101430  \n",
       "367       10.29      US  1604101431  \n",
       "368       10.58      MR  1604101431  \n",
       "369        7.25      KZ  1604101431  \n",
       "\n",
       "[370 rows x 10 columns]"
      ]
     },
     "execution_count": 104,
     "metadata": {},
     "output_type": "execute_result"
    }
   ],
   "source": [
    "northern_hemi = clean_city_data.loc[clean_city_data.Lat > 0]\n",
    "northern_hemi.reset_index()"
   ]
  },
  {
   "cell_type": "markdown",
   "metadata": {},
   "source": [
    "####  Northern Hemisphere - Max Temp vs. Latitude Linear Regression"
   ]
  },
  {
   "cell_type": "code",
   "execution_count": 105,
   "metadata": {},
   "outputs": [
    {
     "data": {
      "image/png": "[encoded data removed]",
      "text/plain": [
       "<Figure size 432x288 with 1 Axes>"
      ]
     },
     "metadata": {
      "needs_background": "light"
     },
     "output_type": "display_data"
    },
    {
     "name": "stdout",
     "output_type": "stream",
     "text": [
      "The r-value is: -0.8737408155810775\n"
     ]
    }
   ],
   "source": [
    "x_values = northern_hemi['Lat']\n",
    "y_values = northern_hemi['Max Temp']\n",
    "(slope, intercept, rvalue, pvalue, stderr) = linregress(x_values,y_values)\n",
    "regress_values = x_values * slope + intercept\n",
    "line_eq = \"y = \" + str(round(slope,2)) + \"x + \" + str(round(intercept,2))\n",
    "plt.scatter(x_values,y_values)\n",
    "plt.plot(x_values,regress_values,\"r-\")\n",
    "plt.annotate(line_eq,(6,10),fontsize=15,color=\"red\")\n",
    "plt.xlabel('Latitude')\n",
    "plt.ylabel('Max Temp')\n",
    "plt.show()\n",
    "print(f'The r-value is: {rvalue}')"
   ]
  },
  {
   "cell_type": "markdown",
   "metadata": {},
   "source": [
    "####  Southern Hemisphere - Max Temp vs. Latitude Linear Regression"
   ]
  },
  {
   "cell_type": "code",
   "execution_count": 106,
   "metadata": {},
   "outputs": [
    {
     "data": {
      "image/png": "[encoded data removed]",
      "text/plain": [
       "<Figure size 432x288 with 1 Axes>"
      ]
     },
     "metadata": {
      "needs_background": "light"
     },
     "output_type": "display_data"
    },
    {
     "name": "stdout",
     "output_type": "stream",
     "text": [
      "The r-value is: 0.6404577385658441\n"
     ]
    }
   ],
   "source": [
    "southern_hemi = clean_city_data.loc[clean_city_data.Lat < 0]\n",
    "southern_hemi.reset_index()\n",
    "x_values = southern_hemi['Lat']\n",
    "y_values = southern_hemi['Max Temp']\n",
    "(slope, intercept, rvalue, pvalue, stderr) = linregress(x_values,y_values)\n",
    "regress_values = x_values * slope + intercept\n",
    "line_eq = \"y = \" + str(round(slope,2)) + \"x + \" + str(round(intercept,2))\n",
    "plt.scatter(x_values,y_values)\n",
    "plt.plot(x_values,regress_values,\"r-\")\n",
    "plt.annotate(line_eq,(6,10),fontsize=15,color=\"red\")\n",
    "plt.xlabel('Latitude')\n",
    "plt.ylabel('Max Temp')\n",
    "plt.show()\n",
    "print(f'The r-value is: {rvalue}')"
   ]
  },
  {
   "cell_type": "markdown",
   "metadata": {},
   "source": [
    "####  Northern Hemisphere - Humidity (%) vs. Latitude Linear Regression"
   ]
  },
  {
   "cell_type": "code",
   "execution_count": 107,
   "metadata": {},
   "outputs": [
    {
     "data": {
      "image/png": "[encoded data removed]",
      "text/plain": [
       "<Figure size 432x288 with 1 Axes>"
      ]
     },
     "metadata": {
      "needs_background": "light"
     },
     "output_type": "display_data"
    },
    {
     "name": "stdout",
     "output_type": "stream",
     "text": [
      "The r-value is: 0.26746441444636737\n"
     ]
    }
   ],
   "source": [
    "x_values = northern_hemi['Lat']\n",
    "y_values = northern_hemi['Humidity']\n",
    "(slope, intercept, rvalue, pvalue, stderr) = linregress(x_values,y_values)\n",
    "regress_values = x_values * slope + intercept\n",
    "line_eq = \"y = \" + str(round(slope,2)) + \"x + \" + str(round(intercept,2))\n",
    "plt.scatter(x_values,y_values)\n",
    "plt.plot(x_values,regress_values,\"r-\")\n",
    "plt.annotate(line_eq,(6,10),fontsize=15,color=\"red\")\n",
    "plt.xlabel('Latitude')\n",
    "plt.ylabel('Humidity')\n",
    "plt.show()\n",
    "print(f'The r-value is: {rvalue}')"
   ]
  },
  {
   "cell_type": "markdown",
   "metadata": {},
   "source": [
    "####  Southern Hemisphere - Humidity (%) vs. Latitude Linear Regression"
   ]
  },
  {
   "cell_type": "code",
   "execution_count": 108,
   "metadata": {},
   "outputs": [
    {
     "data": {
      "image/png": "[encoded data removed]",
      "text/plain": [
       "<Figure size 432x288 with 1 Axes>"
      ]
     },
     "metadata": {
      "needs_background": "light"
     },
     "output_type": "display_data"
    },
    {
     "name": "stdout",
     "output_type": "stream",
     "text": [
      "The r-value is: 0.1800674552501712\n"
     ]
    }
   ],
   "source": [
    "southern_hemi = clean_city_data.loc[clean_city_data.Lat < 0]\n",
    "southern_hemi.reset_index()\n",
    "x_values = southern_hemi['Lat']\n",
    "y_values = southern_hemi['Humidity']\n",
    "(slope, intercept, rvalue, pvalue, stderr) = linregress(x_values,y_values)\n",
    "regress_values = x_values * slope + intercept\n",
    "line_eq = \"y = \" + str(round(slope,2)) + \"x + \" + str(round(intercept,2))\n",
    "plt.scatter(x_values,y_values)\n",
    "plt.plot(x_values,regress_values,\"r-\")\n",
    "plt.annotate(line_eq,(6,10),fontsize=15,color=\"red\")\n",
    "plt.xlabel('Latitude')\n",
    "plt.ylabel('Humidity')\n",
    "plt.show()\n",
    "print(f'The r-value is: {rvalue}')"
   ]
  },
  {
   "cell_type": "markdown",
   "metadata": {},
   "source": [
    "####  Northern Hemisphere - Cloudiness (%) vs. Latitude Linear Regression"
   ]
  },
  {
   "cell_type": "code",
   "execution_count": 109,
   "metadata": {},
   "outputs": [
    {
     "data": {
      "image/png": "[encoded data removed]",
      "text/plain": [
       "<Figure size 432x288 with 1 Axes>"
      ]
     },
     "metadata": {
      "needs_background": "light"
     },
     "output_type": "display_data"
    },
    {
     "name": "stdout",
     "output_type": "stream",
     "text": [
      "The r-value is: 0.13101090804850785\n"
     ]
    }
   ],
   "source": [
    "x_values = northern_hemi['Lat']\n",
    "y_values = northern_hemi['Cloudiness']\n",
    "(slope, intercept, rvalue, pvalue, stderr) = linregress(x_values,y_values)\n",
    "regress_values = x_values * slope + intercept\n",
    "line_eq = \"y = \" + str(round(slope,2)) + \"x + \" + str(round(intercept,2))\n",
    "plt.scatter(x_values,y_values)\n",
    "plt.plot(x_values,regress_values,\"r-\")\n",
    "plt.annotate(line_eq,(6,10),fontsize=15,color=\"red\")\n",
    "plt.xlabel('Latitude')\n",
    "plt.ylabel('Cloudiness')\n",
    "plt.show()\n",
    "print(f'The r-value is: {rvalue}')"
   ]
  },
  {
   "cell_type": "markdown",
   "metadata": {},
   "source": [
    "####  Southern Hemisphere - Cloudiness (%) vs. Latitude Linear Regression"
   ]
  },
  {
   "cell_type": "code",
   "execution_count": 110,
   "metadata": {},
   "outputs": [
    {
     "data": {
      "image/png": "[encoded data removed]",
      "text/plain": [
       "<Figure size 432x288 with 1 Axes>"
      ]
     },
     "metadata": {
      "needs_background": "light"
     },
     "output_type": "display_data"
    },
    {
     "name": "stdout",
     "output_type": "stream",
     "text": [
      "The r-value is: 0.23153352227429014\n"
     ]
    }
   ],
   "source": [
    "x_values = southern_hemi['Lat']\n",
    "y_values = southern_hemi['Cloudiness']\n",
    "(slope, intercept, rvalue, pvalue, stderr) = linregress(x_values,y_values)\n",
    "regress_values = x_values * slope + intercept\n",
    "line_eq = \"y = \" + str(round(slope,2)) + \"x + \" + str(round(intercept,2))\n",
    "plt.scatter(x_values,y_values)\n",
    "plt.plot(x_values,regress_values,\"r-\")\n",
    "plt.annotate(line_eq,(6,10),fontsize=15,color=\"red\")\n",
    "plt.xlabel('Latitude')\n",
    "plt.ylabel('Cloudiness')\n",
    "plt.show()\n",
    "print(f'The r-value is: {rvalue}')"
   ]
  },
  {
   "cell_type": "markdown",
   "metadata": {},
   "source": [
    "####  Northern Hemisphere - Wind Speed (mph) vs. Latitude Linear Regression"
   ]
  },
  {
   "cell_type": "code",
   "execution_count": 111,
   "metadata": {},
   "outputs": [
    {
     "data": {
      "image/png": "[encoded data removed]",
      "text/plain": [
       "<Figure size 432x288 with 1 Axes>"
      ]
     },
     "metadata": {
      "needs_background": "light"
     },
     "output_type": "display_data"
    },
    {
     "name": "stdout",
     "output_type": "stream",
     "text": [
      "The r-value is: 0.10872778282203098\n"
     ]
    }
   ],
   "source": [
    "x_values = northern_hemi['Lat']\n",
    "y_values = northern_hemi['Wind Speed']\n",
    "(slope, intercept, rvalue, pvalue, stderr) = linregress(x_values,y_values)\n",
    "regress_values = x_values * slope + intercept\n",
    "line_eq = \"y = \" + str(round(slope,2)) + \"x + \" + str(round(intercept,2))\n",
    "plt.scatter(x_values,y_values)\n",
    "plt.plot(x_values,regress_values,\"r-\")\n",
    "plt.annotate(line_eq,(6,10),fontsize=15,color=\"red\")\n",
    "plt.xlabel('Latitude')\n",
    "plt.ylabel('Wind Speed')\n",
    "plt.show()\n",
    "print(f'The r-value is: {rvalue}')"
   ]
  },
  {
   "cell_type": "markdown",
   "metadata": {},
   "source": [
    "####  Southern Hemisphere - Wind Speed (mph) vs. Latitude Linear Regression"
   ]
  },
  {
   "cell_type": "code",
   "execution_count": 112,
   "metadata": {},
   "outputs": [
    {
     "data": {
      "image/png": "[encoded data removed]",
      "text/plain": [
       "<Figure size 432x288 with 1 Axes>"
      ]
     },
     "metadata": {
      "needs_background": "light"
     },
     "output_type": "display_data"
    },
    {
     "name": "stdout",
     "output_type": "stream",
     "text": [
      "The r-value is: -0.34338730977315546\n"
     ]
    },
    {
     "data": {
      "text/plain": [
       "<Figure size 432x288 with 0 Axes>"
      ]
     },
     "metadata": {},
     "output_type": "display_data"
    }
   ],
   "source": [
    "x_values = southern_hemi['Lat']\n",
    "y_values = southern_hemi['Wind Speed']\n",
    "(slope, intercept, rvalue, pvalue, stderr) = linregress(x_values,y_values)\n",
    "regress_values = x_values * slope + intercept\n",
    "line_eq = \"y = \" + str(round(slope,2)) + \"x + \" + str(round(intercept,2))\n",
    "plt.scatter(x_values,y_values)\n",
    "plt.plot(x_values,regress_values,\"r-\")\n",
    "plt.annotate(line_eq,(6,10),fontsize=15,color=\"red\")\n",
    "plt.xlabel('Latitude')\n",
    "plt.ylabel('Wind Speed')\n",
    "plt.show()\n",
    "print(f'The r-value is: {rvalue}')\n",
    "plt.savefig('output/')"
   ]
  },
  {
   "cell_type": "code",
   "execution_count": null,
   "metadata": {},
   "outputs": [],
   "source": []
  }
 ],
 "metadata": {
  "anaconda-cloud": {},
  "kernel_info": {
   "name": "python3"
  },
  "kernelspec": {
   "display_name": "Python 3",
   "language": "python",
   "name": "python3"
  },
  "language_info": {
   "codemirror_mode": {
    "name": "ipython",
    "version": 3
   },
   "file_extension": ".py",
   "mimetype": "text/x-python",
   "name": "python",
   "nbconvert_exporter": "python",
   "pygments_lexer": "ipython3",
   "version": "3.6.10"
  },
  "latex_envs": {
   "LaTeX_envs_menu_present": true,
   "autoclose": false,
   "autocomplete": true,
   "bibliofile": "biblio.bib",
   "cite_by": "apalike",
   "current_citInitial": 1,
   "eqLabelWithNumbers": true,
   "eqNumInitial": 1,
   "hotkeys": {
    "equation": "Ctrl-E",
    "itemize": "Ctrl-I"
   },
   "labels_anchors": false,
   "latex_user_defs": false,
   "report_style_numbering": false,
   "user_envs_cfg": false
  },
  "nteract": {
   "version": "0.12.3"
  }
 },
 "nbformat": 4,
 "nbformat_minor": 2
}
