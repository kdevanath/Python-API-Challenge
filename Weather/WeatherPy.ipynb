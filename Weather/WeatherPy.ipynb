{
 "cells": [
  {
   "cell_type": "markdown",
   "metadata": {},
   "source": [
    "# WeatherPy\n",
    "----\n",
    "\n",
    "#### Note\n",
    "* Instructions have been included for each segment. You do not have to follow them exactly, but they are included to help you think through the steps."
   ]
  },
  {
   "cell_type": "code",
   "execution_count": 2,
   "metadata": {
    "scrolled": true
   },
   "outputs": [],
   "source": [
    "# Dependencies\n",
    "import csv\n",
    "import os\n",
    "import matplotlib.pyplot as plt\n",
    "import pandas as pd\n",
    "import numpy as np\n",
    "import requests\n",
    "import time\n",
    "import datetime\n",
    "from scipy.stats import linregress\n",
    "from citipy import citipy\n",
    "\n",
    "from api_keys import weather_api_key\n",
    "\n",
    "# Output File (CSV)\n",
    "output_data_file = \"../output_data/cities.csv\"\n",
    "\n",
    "# Range of latitudes and longitudes\n",
    "lat_range = (-90, 90)\n",
    "lng_range = (-180, 180)"
   ]
  },
  {
   "cell_type": "markdown",
   "metadata": {},
   "source": [
    "## Generate Cities List"
   ]
  },
  {
   "cell_type": "code",
   "execution_count": 3,
   "metadata": {},
   "outputs": [
    {
     "data": {
      "text/plain": [
       "604"
      ]
     },
     "execution_count": 3,
     "metadata": {},
     "output_type": "execute_result"
    }
   ],
   "source": [
    "lats = np.random.uniform(lat_range[0], lat_range[1], size=1500)\n",
    "lngs = np.random.uniform(lng_range[0], lng_range[1], size=1500)\n",
    "\n",
    "lat_lngs = zip(lats,lngs)\n",
    "#city\n",
    "cities=[]\n",
    "for lat_lang in lat_lngs:\n",
    "    city = citipy.nearest_city(lat_lang[0],lat_lang[1]).city_name\n",
    "    if city not in cities:\n",
    "        cities.append(city)\n",
    "    \n",
    "len(cities)"
   ]
  },
  {
   "cell_type": "markdown",
   "metadata": {},
   "source": [
    "### Perform API Calls\n",
    "* Perform a weather check on each city using a series of successive API calls.\n",
    "* Include a print log of each city as it'sbeing processed (with the city number and city name).\n"
   ]
  },
  {
   "cell_type": "code",
   "execution_count": 4,
   "metadata": {
    "scrolled": false
   },
   "outputs": [
    {
     "name": "stdout",
     "output_type": "stream",
     "text": [
      " Processing weather for yellowknife and the number 6185377:0-Yellowknife\n",
      " Processing weather for bethel and the number 5282297:1-Bethel\n",
      " Processing weather for vaini and the number 4032243:2-Vaini\n",
      " Processing weather for georgetown and the number 1735106:3-George Town\n",
      " Processing weather for alta floresta and the number 6316343:4-Alta Floresta\n",
      " Processing weather for rikitea and the number 4030556:5-Rikitea\n",
      " Processing weather for pevek and the number 2122090:6-Pevek\n",
      " Processing weather for maceio and the number 3395981:7-Maceió\n",
      " Processing weather for port alfred and the number 964432:8-Port Alfred\n",
      " Processing weather for carnarvon and the number 2074865:9-Carnarvon\n",
      " Processing weather for bonthe and the number 2409914:10-Bonthe\n",
      " Processing weather for srednekolymsk and the number 2121025:11-Srednekolymsk\n",
      " Processing weather for megion and the number 1499053:12-Megion\n",
      " Processing weather for saint-philippe and the number 935215:13-Saint-Philippe\n",
      " Processing weather for hobart and the number 2163355:14-Hobart\n",
      " Processing weather for port blair and the number 1259385:15-Port Blair\n",
      " Processing weather for labuhan and the number 8079926:16-Labuhan\n",
      " Processing weather for oriximina and the number 3393471:17-Oriximiná\n",
      " Processing weather for upernavik and the number 3418910:18-Upernavik\n",
      "No data for city {city}\n",
      " Processing weather for cabo san lucas and the number 3985710:19-Cabo San Lucas\n",
      " Processing weather for chuy and the number 3443061:20-Chui\n",
      " Processing weather for new norfolk and the number 2155415:21-New Norfolk\n",
      " Processing weather for mahebourg and the number 934322:22-Mahébourg\n",
      " Processing weather for zaysan and the number 1517060:23-Zaysan\n",
      " Processing weather for cape town and the number 3369157:24-Cape Town\n",
      " Processing weather for marrakesh and the number 2542997:25-Marrakesh\n",
      " Processing weather for vestmanna and the number 2610343:26-Vestmanna\n",
      " Processing weather for nanortalik and the number 3421765:27-Nanortalik\n",
      " Processing weather for kapaa and the number 5848280:28-Kapaa\n",
      " Processing weather for beidao and the number 1816751:29-Beidao\n",
      " Processing weather for barrow and the number 5880054:30-Barrow\n",
      " Processing weather for ushuaia and the number 3833367:31-Ushuaia\n",
      " Processing weather for faanui and the number 4034551:32-Faanui\n",
      " Processing weather for likasi and the number 922741:33-Likasi\n",
      " Processing weather for khatanga and the number 2022572:34-Khatanga\n",
      " Processing weather for saskylakh and the number 2017155:35-Saskylakh\n",
      "No data for city {city}\n",
      " Processing weather for aklavik and the number 5882953:36-Aklavik\n",
      " Processing weather for santiago del estero and the number 3835869:37-Santiago del Estero\n",
      " Processing weather for talnakh and the number 1490256:38-Talnakh\n",
      " Processing weather for albany and the number 5106841:39-Albany\n",
      " Processing weather for gouyave and the number 3580279:40-Gouyave\n",
      " Processing weather for punta arenas and the number 3874787:41-Punta Arenas\n",
      " Processing weather for biak and the number 1637001:42-Biak\n",
      " Processing weather for busselton and the number 2075265:43-Busselton\n",
      " Processing weather for puerto ayora and the number 3652764:44-Puerto Ayora\n",
      " Processing weather for saint george and the number 5546220:45-Saint George\n",
      " Processing weather for tarquinia and the number 6536909:46-Tarquinia\n",
      " Processing weather for butaritari and the number 2110227:47-Butaritari\n",
      " Processing weather for port-gentil and the number 2396518:48-Port-Gentil\n",
      " Processing weather for margate and the number 2643044:49-Margate\n",
      " Processing weather for high rock and the number 3572189:50-High Rock\n",
      " Processing weather for hilo and the number 5855927:51-Hilo\n",
      " Processing weather for yoichi and the number 2129218:52-Yoichi\n",
      " Processing weather for koshurnikovo and the number 1502389:53-Koshurnikovo\n",
      " Processing weather for emerald and the number 2167426:54-Emerald\n",
      " Processing weather for lasa and the number 3175096:55-Laas\n",
      " Processing weather for ucluelet and the number 6171633:56-Ucluelet\n",
      " Processing weather for vitim and the number 2013375:57-Vitim\n",
      " Processing weather for pamplona and the number 3114472:58-Pamplona\n",
      " Processing weather for sao joao da barra and the number 3448903:59-São João da Barra\n",
      " Processing weather for lebu and the number 3883457:60-Lebu\n",
      " Processing weather for serov and the number 1492663:61-Serov\n",
      " Processing weather for necochea and the number 3430443:62-Necochea\n",
      " Processing weather for atuona and the number 4020109:63-Atuona\n",
      " Processing weather for castro and the number 3466704:64-Castro\n",
      " Processing weather for hue and the number 1580240:65-Hue\n",
      " Processing weather for tuktoyaktuk and the number 6170031:66-Tuktoyaktuk\n",
      " Processing weather for belen and the number 321572:67-Belen\n",
      " Processing weather for port augusta and the number 2063056:68-Port Augusta\n",
      " Processing weather for iquique and the number 3887127:69-Iquique\n",
      " Processing weather for avarua and the number 4035715:70-Avarua\n",
      " Processing weather for ponta do sol and the number 2264557:71-Ponta do Sol\n",
      " Processing weather for ancud and the number 3899695:72-Ancud\n",
      " Processing weather for fomboni and the number 921889:73-Fomboni\n",
      " Processing weather for shalinskoye and the number 1492466:74-Shalinskoye\n",
      " Processing weather for sturgis and the number 5011428:75-Sturgis\n",
      "No data for city {city}\n",
      " Processing weather for hermanus and the number 3366880:76-Hermanus\n",
      " Processing weather for chicama and the number 3698359:77-Chicama\n",
      " Processing weather for zhezkazgan and the number 1516589:78-Zhezkazgan\n",
      " Processing weather for klaksvik and the number 2618795:79-Klaksvík\n",
      " Processing weather for byron bay and the number 2172880:80-Byron Bay\n",
      " Processing weather for balikpapan and the number 1650527:81-Balikpapan\n",
      " Processing weather for kaitangata and the number 2208248:82-Kaitangata\n",
      " Processing weather for east london and the number 1006984:83-East London\n",
      " Processing weather for cidreira and the number 3466165:84-Cidreira\n",
      " Processing weather for lagoa and the number 3372964:85-Lagoa\n",
      " Processing weather for aripuana and the number 3665202:86-Aripuanã\n",
      " Processing weather for muros and the number 3115824:87-Muros\n",
      " Processing weather for odweyne and the number 53372:88-Oodweyne\n",
      " Processing weather for ust-kuyga and the number 2013921:89-Ust-Kuyga\n",
      " Processing weather for nagua and the number 3496021:90-Nagua\n",
      " Processing weather for nyurba and the number 2018735:91-Nyurba\n",
      " Processing weather for mar del plata and the number 3430863:92-Mar del Plata\n",
      " Processing weather for taitung and the number 6949678:93-Taitung City\n",
      " Processing weather for sucua and the number 3650956:94-Sucúa\n",
      " Processing weather for sinnamary and the number 3380290:95-Sinnamary\n",
      " Processing weather for bambous virieux and the number 1106677:96-Bambous Virieux\n",
      " Processing weather for hithadhoo and the number 1282256:97-Hithadhoo\n",
      " Processing weather for tuatapere and the number 2180815:98-Tuatapere\n",
      " Processing weather for najran and the number 103630:99-Najrān\n",
      " Processing weather for jumla and the number 1283285:100-Jumla\n",
      " Processing weather for namatanai and the number 2090021:101-Namatanai\n",
      " Processing weather for san cristobal and the number 3628473:102-San Cristobal\n",
      " Processing weather for jamestown and the number 5122534:103-Jamestown\n",
      " Processing weather for umm kaddadah and the number 364933:104-Umm Kaddadah\n",
      " Processing weather for aberdeen and the number 2657832:105-Aberdeen\n",
      " Processing weather for nikolskoye and the number 546105:106-Nikolskoye\n",
      " Processing weather for sobolevo and the number 525426:107-Sobolevo\n",
      " Processing weather for yelan and the number 468063:108-Yelan'\n",
      " Processing weather for chokurdakh and the number 2126123:109-Chokurdakh\n",
      " Processing weather for bluff and the number 2206939:110-Bluff\n",
      " Processing weather for arraial do cabo and the number 3471451:111-Arraial do Cabo\n",
      " Processing weather for yinchuan and the number 1786657:112-Yinchuan\n",
      " Processing weather for tasiilaq and the number 3424607:113-Tasiilaq\n",
      " Processing weather for ouesso and the number 2255564:114-Ouésso\n",
      " Processing weather for redmond and the number 5808079:115-Redmond\n",
      " Processing weather for cradock and the number 1012600:116-Cradock\n",
      " Processing weather for college and the number 5859699:117-College\n",
      " Processing weather for sigli and the number 1213821:118-Sigli\n",
      " Processing weather for pryazha and the number 504409:119-Pryazha\n",
      " Processing weather for mataura and the number 6201424:120-Mataura\n"
     ]
    },
    {
     "name": "stdout",
     "output_type": "stream",
     "text": [
      " Processing weather for evensk and the number 2125693:121-Evensk\n",
      " Processing weather for dingle and the number 1714733:122-Dingle\n",
      " Processing weather for fairbanks and the number 5861897:123-Fairbanks\n",
      " Processing weather for bengkulu and the number 1649150:124-Bengkulu\n",
      " Processing weather for bredasdorp and the number 1015776:125-Bredasdorp\n",
      " Processing weather for teknaf and the number 1185095:126-Teknāf\n",
      "No data for city {city}\n",
      " Processing weather for mount gambier and the number 2156643:127-Mount Gambier\n",
      " Processing weather for taree and the number 2147381:128-Taree\n",
      " Processing weather for bereda and the number 3105522:129-Bereda\n",
      " Processing weather for jalu and the number 86049:130-Jalu\n",
      " Processing weather for hasaki and the number 2112802:131-Hasaki\n",
      " Processing weather for dikson and the number 1507390:132-Dikson\n",
      " Processing weather for dilla and the number 338998:133-Dilla\n",
      " Processing weather for da nang and the number 1583992:134-Turan\n",
      " Processing weather for tiznit and the number 2527087:135-Tiznit Province\n",
      " Processing weather for thompson and the number 6165406:136-Thompson\n",
      " Processing weather for skelleftea and the number 602913:137-Skellefteå\n",
      " Processing weather for ngunguru and the number 2186111:138-Ngunguru\n",
      " Processing weather for ambon and the number 1651531:139-Ambon City\n",
      " Processing weather for inirida and the number 3671450:140-Inírida\n",
      " Processing weather for saryozek and the number 1519580:141-Saryozek\n",
      " Processing weather for ribeira grande and the number 3372707:142-Ribeira Grande\n",
      " Processing weather for camacha and the number 2270385:143-Camacha\n",
      "No data for city {city}\n",
      " Processing weather for kalmunai and the number 1242110:144-Kalmunai\n",
      " Processing weather for yaan and the number 2338660:145-Yaan\n",
      " Processing weather for lompoc and the number 5367788:146-Lompoc\n",
      " Processing weather for chitipa and the number 235751:147-Chitipa\n",
      " Processing weather for bandarbeyla and the number 64814:148-Bandarbeyla\n",
      " Processing weather for bereznik and the number 577240:149-Dvinskoy Bereznik\n",
      " Processing weather for thinadhoo and the number 1337610:150-Thinadhoo\n",
      " Processing weather for shasta lake and the number 5571109:151-Lake Shasta\n",
      "No data for city {city}\n",
      " Processing weather for maldonado and the number 3441890:152-Departamento de Maldonado\n",
      " Processing weather for nizhneudinsk and the number 1497549:153-Nizhneudinsk\n",
      " Processing weather for kodiak and the number 5866583:154-Saint Paul Harbor\n",
      " Processing weather for salalah and the number 286621:155-Salalah\n",
      " Processing weather for samara and the number 499068:156-Samara Oblast\n",
      " Processing weather for poum and the number 2138555:157-Poum\n",
      " Processing weather for brigantine and the number 4500920:158-Brigantine\n",
      " Processing weather for altayskoye and the number 1511736:159-Altayskoye\n",
      " Processing weather for ulaanbaatar and the number 2028462:160-Ulaanbaatar\n",
      "No data for city {city}\n",
      " Processing weather for lazaro cardenas and the number 4026082:161-Lázaro Cárdenas\n",
      " Processing weather for camacupa and the number 3351014:162-Camacupa\n",
      " Processing weather for mporokoso and the number 175967:163-Mporokoso\n",
      " Processing weather for nagato and the number 1899102:164-Nagato\n",
      " Processing weather for touros and the number 3386213:165-Touros\n",
      " Processing weather for stokmarknes and the number 3136690:166-Stokmarknes\n",
      " Processing weather for cravo norte and the number 3685702:167-Cravo Norte\n",
      " Processing weather for caravelas and the number 3466980:168-Caravelas\n",
      " Processing weather for linping and the number 1803374:169-Linping\n",
      " Processing weather for gorontalo and the number 1643837:170-Gorontalo\n",
      " Processing weather for urrao and the number 3666395:171-Urrao\n",
      "No data for city {city}\n",
      " Processing weather for dunkwa and the number 2301400:172-Dunkwa\n",
      " Processing weather for dwarka and the number 1272140:173-Dwārka\n",
      " Processing weather for val-david and the number 6173001:174-Val-David\n",
      "No data for city {city}\n",
      " Processing weather for tiksi and the number 2015306:175-Tiksi\n",
      " Processing weather for yerbogachen and the number 2012956:176-Yerbogachën\n",
      " Processing weather for baie-comeau and the number 5889745:177-Baie-Comeau\n",
      " Processing weather for zhigalovo and the number 2012532:178-Zhigalovo\n",
      " Processing weather for uige and the number 2236568:179-Uíge\n",
      " Processing weather for nieuw amsterdam and the number 3383434:180-Nieuw Amsterdam\n",
      " Processing weather for mozarlandia and the number 3456642:181-Mozarlândia\n",
      " Processing weather for usinsk and the number 863061:182-Usinsk\n",
      " Processing weather for tilichiki and the number 2120591:183-Tilichiki\n",
      " Processing weather for husavik and the number 2629833:184-Husavik\n",
      " Processing weather for bobon and the number 1724535:185-Bobon\n",
      " Processing weather for vanimo and the number 2084442:186-Vanimo\n",
      " Processing weather for cherskiy and the number 2126199:187-Cherskiy\n",
      " Processing weather for provideniya and the number 4031574:188-Provideniya\n",
      " Processing weather for tamandare and the number 3386931:189-Tamandaré\n",
      " Processing weather for longyearbyen and the number 2729907:190-Longyearbyen\n",
      " Processing weather for bosaso and the number 64013:191-Bosaso\n",
      " Processing weather for cayenne and the number 3382160:192-Cayenne\n",
      " Processing weather for svetlogorsk and the number 10722858:193-Forsytheganj\n",
      " Processing weather for nanzhou and the number 1799552:194-Nanzhou\n",
      "No data for city {city}\n",
      " Processing weather for mbalmayo and the number 2228079:195-Mbalmayo\n",
      " Processing weather for naze and the number 1855540:196-Naze\n",
      " Processing weather for airai and the number 1651810:197-Airai\n",
      " Processing weather for nikel and the number 522260:198-Nikel\n",
      " Processing weather for clyde river and the number 5924351:199-Clyde River\n",
      " Processing weather for kununurra and the number 2068110:200-Kununurra\n",
      " Processing weather for souillac and the number 933995:201-Souillac\n",
      " Processing weather for sao gabriel da cachoeira and the number 3662342:202-São Gabriel da Cachoeira\n",
      " Processing weather for olafsvik and the number 3414079:203-Olafsvik\n",
      " Processing weather for victoria and the number 1819729:204-Hong Kong\n",
      " Processing weather for smolenka and the number 2016405:205-Smolenka\n",
      " Processing weather for yenagoa and the number 2318123:206-Yenagoa\n",
      " Processing weather for inhambane and the number 1045114:207-Inhambane\n",
      "No data for city {city}\n",
      " Processing weather for qaanaaq and the number 3831208:208-Qaanaaq\n",
      " Processing weather for campestre and the number 3467908:209-Campestre\n",
      " Processing weather for ukiah and the number 5404476:210-Ukiah\n",
      " Processing weather for porangatu and the number 3453014:211-Porangatu\n",
      " Processing weather for laguna and the number 5364271:212-Laguna\n",
      "No data for city {city}\n",
      " Processing weather for jutai and the number 3663693:213-Jutaí\n",
      "No data for city {city}\n",
      " Processing weather for half moon bay and the number 5354943:214-Half Moon Bay\n",
      " Processing weather for burns lake and the number 5911745:215-Burns Lake\n",
      "No data for city {city}\n",
      " Processing weather for boa vista and the number 3664980:216-Boa Vista\n",
      " Processing weather for griffith and the number 4920986:217-Griffith\n",
      " Processing weather for nemuro and the number 2128975:218-Nemuro\n",
      " Processing weather for codrington and the number 2171099:219-Codrington\n",
      " Processing weather for rioja and the number 3848950:220-La Rioja\n",
      " Processing weather for huarmey and the number 3939168:221-Huarmey\n",
      " Processing weather for katsuura and the number 2112309:222-Katsuura\n",
      " Processing weather for port elizabeth and the number 964420:223-Port Elizabeth\n",
      " Processing weather for komsomolskiy and the number 1513491:224-Yangi Marg`ilon\n",
      " Processing weather for leningradskiy and the number 2123814:225-Leningradskiy\n",
      "No data for city {city}\n",
      " Processing weather for ahipara and the number 2194098:226-Ahipara\n",
      " Processing weather for port lincoln and the number 2063036:227-Port Lincoln\n",
      " Processing weather for khandyga and the number 2022773:228-Khandyga\n",
      " Processing weather for bronnoysund and the number 3159954:229-Brønnøysund\n",
      " Processing weather for trelew and the number 3833883:230-Trelew\n",
      " Processing weather for kumano and the number 1862415:231-Kumano\n",
      " Processing weather for uthal and the number 1162862:232-Uthal\n",
      "No data for city {city}\n",
      " Processing weather for saint-pierre and the number 935214:233-Saint-Pierre\n",
      " Processing weather for bud and the number 4255151:234-Bud\n"
     ]
    },
    {
     "name": "stdout",
     "output_type": "stream",
     "text": [
      "No data for city {city}\n",
      " Processing weather for itarema and the number 3393692:235-Itarema\n",
      " Processing weather for galveston and the number 4692856:236-Galveston\n",
      "No data for city {city}\n",
      "No data for city {city}\n",
      "No data for city {city}\n",
      " Processing weather for batagay-alyta and the number 2027042:237-Batagay-Alyta\n",
      " Processing weather for whitehorse and the number 6180550:238-Whitehorse\n",
      " Processing weather for constitucion and the number 3893726:239-Constitución\n",
      " Processing weather for pudozh and the number 504269:240-Pudozh\n",
      " Processing weather for prince rupert and the number 6113406:241-Prince Rupert\n",
      " Processing weather for portland and the number 5746545:242-Portland\n",
      " Processing weather for auki and the number 2109701:243-Auki\n",
      " Processing weather for champasak and the number 1657818:244-Champasak\n",
      " Processing weather for mortka and the number 1498402:245-Mortka\n",
      " Processing weather for torbay and the number 6167817:246-Torbay\n",
      " Processing weather for fayaoue and the number 2141305:247-Fayaoué\n",
      " Processing weather for luebo and the number 210939:248-Luebo\n",
      "No data for city {city}\n",
      " Processing weather for sakakah and the number 102527:249-Sakakah\n",
      " Processing weather for beringovskiy and the number 2126710:250-Beringovskiy\n",
      " Processing weather for hastings and the number 2647356:251-Hastings\n",
      " Processing weather for asau and the number 686090:252-Asău\n",
      " Processing weather for vao and the number 2137773:253-Vao\n",
      " Processing weather for saldanha and the number 3361934:254-Saldanha\n",
      " Processing weather for mayo and the number 4362001:255-Mayo\n",
      " Processing weather for seoul and the number 1835848:256-Seoul\n",
      " Processing weather for tsumeb and the number 3352593:257-Tsumeb\n",
      " Processing weather for zhigansk and the number 2012530:258-Zhigansk\n",
      " Processing weather for ampanihy and the number 1078553:259-Ampanihy\n",
      "No data for city {city}\n",
      " Processing weather for pangkalanbuun and the number 1632694:260-Pangkalanbuun\n",
      " Processing weather for fort morgan and the number 5577158:261-Fort Morgan\n",
      " Processing weather for halifax and the number 6324729:262-Halifax\n",
      " Processing weather for gerash and the number 133595:263-Gerāsh\n",
      " Processing weather for araouane and the number 2460954:264-Araouane\n",
      " Processing weather for acapulco and the number 3533462:265-Acapulco de Juárez\n",
      " Processing weather for sinop and the number 739598:266-Sinop Province\n",
      " Processing weather for gilgit and the number 1178338:267-Gilgit\n",
      " Processing weather for bambanglipuro and the number 1650434:268-Bambanglipuro\n",
      "No data for city {city}\n",
      " Processing weather for namibe and the number 3347019:269-Mossamedes\n",
      " Processing weather for saiki and the number 1853237:270-Saiki\n",
      " Processing weather for ozernovskiy and the number 2122293:271-Ozernovskiy\n",
      " Processing weather for beitbridge and the number 895269:272-Beitbridge\n",
      " Processing weather for tecate and the number 3982266:273-Tecate\n",
      " Processing weather for martyush and the number 1499288:274-Martyush\n",
      " Processing weather for matara and the number 1235846:275-Matara\n",
      " Processing weather for dzerzhinsk and the number 563708:276-Dzerzhinsk\n",
      " Processing weather for flinders and the number 6255012:277-Flinders\n",
      " Processing weather for ridgecrest and the number 5387494:278-Ridgecrest\n",
      "No data for city {city}\n",
      "No data for city {city}\n",
      " Processing weather for aswan and the number 359792:279-Aswān\n",
      " Processing weather for laval and the number 6050610:280-Laval\n",
      " Processing weather for mount barker and the number 2065665:281-Mount Barker\n",
      " Processing weather for kruisfontein and the number 986717:282-Kruisfontein\n",
      " Processing weather for ostrovnoy and the number 556268:283-Ostrovnoy\n",
      " Processing weather for turbat and the number 1163054:284-Turbat\n",
      " Processing weather for ginir and the number 336454:285-Ginir\n",
      " Processing weather for saint anthony and the number 5044290:286-Saint Anthony\n",
      " Processing weather for ust-koksa and the number 1488167:287-Ust'-Koksa\n",
      " Processing weather for yulara and the number 6355222:288-Yulara\n",
      " Processing weather for payo and the number 1638775:289-Payo\n",
      " Processing weather for fortuna and the number 5563839:290-Fortuna\n",
      " Processing weather for cabedelo and the number 3404558:291-Cabedelo\n",
      " Processing weather for neuquen and the number 3843123:292-Neuquén\n",
      " Processing weather for hukuntsi and the number 933726:293-Hukuntsi\n",
      " Processing weather for billings and the number 5640350:294-Billings Metropolitan Area\n",
      " Processing weather for kamina and the number 214614:295-Kamina\n",
      " Processing weather for murray bridge and the number 2065176:296-Murray Bridge\n",
      " Processing weather for jaguey grande and the number 3556437:297-Jagüey Grande\n",
      "No data for city {city}\n",
      " Processing weather for belmonte and the number 3470137:298-Belmonte\n",
      " Processing weather for lokosovo and the number 1500399:299-Lokosovo\n",
      " Processing weather for panama city and the number 3703443:300-Panama City\n",
      "No data for city {city}\n",
      " Processing weather for nishihara and the number 1855342:301-Nishihara\n",
      " Processing weather for kushima and the number 1895695:302-Kushima\n",
      " Processing weather for callaway and the number 4149635:303-Callaway\n",
      " Processing weather for aligudarz and the number 143921:304-Aligoodarz\n",
      " Processing weather for surgut and the number 1490624:305-Surgut\n",
      "No data for city {city}\n",
      " Processing weather for havoysund and the number 779622:306-Havøysund\n",
      " Processing weather for kutum and the number 371745:307-Kutum\n",
      "No data for city {city}\n",
      " Processing weather for lloydminster and the number 6058024:308-Lloydminster\n",
      "No data for city {city}\n",
      " Processing weather for drayton valley and the number 5942547:309-Drayton Valley\n",
      " Processing weather for kinkala and the number 2258984:310-Kinkala\n",
      " Processing weather for lukaya and the number 232490:311-Lukaya\n",
      " Processing weather for nuevitas and the number 3545841:312-Nuevitas\n",
      " Processing weather for ambatondrazaka and the number 1082639:313-Ambatondrazaka\n",
      " Processing weather for bantry and the number 2966356:314-Bantry\n",
      " Processing weather for burnie and the number 2173125:315-Burnie\n",
      " Processing weather for jaisalmer and the number 1269507:316-Jaisalmer\n",
      " Processing weather for valparaiso and the number 3868626:317-Valparaíso\n",
      " Processing weather for ponta delgada and the number 3372783:318-Ponta Delgada\n",
      " Processing weather for isangel and the number 2136825:319-Isangel\n",
      " Processing weather for semey and the number 1519422:320-Semey\n",
      " Processing weather for iqaluit and the number 5983720:321-Iqaluit\n",
      " Processing weather for puerto escondido and the number 3520994:322-Puerto Escondido\n",
      " Processing weather for madang and the number 2091996:323-Madang\n",
      " Processing weather for kribi and the number 2229761:324-Kribi\n",
      "No data for city {city}\n",
      " Processing weather for novyy urengoy and the number 1496511:325-Novy Urengoy\n",
      " Processing weather for roebourne and the number 2062276:326-Roebourne\n",
      " Processing weather for rakiv lis and the number 695826:327-Rakiv Lis\n",
      " Processing weather for nirgua and the number 3631507:328-Nirgua\n",
      " Processing weather for filadelfia and the number 4560349:329-Philadelphia\n",
      " Processing weather for leshukonskoye and the number 535839:330-Leshukonskoye\n",
      " Processing weather for korla and the number 1529376:331-Korla\n",
      " Processing weather for hambantota and the number 1244926:332-Hambantota\n",
      " Processing weather for sawakin and the number 367544:333-Sawākin\n",
      " Processing weather for duldurga and the number 2024812:334-Dul'durga\n",
      " Processing weather for norilsk and the number 1497337:335-Noril'sk\n",
      " Processing weather for venancio aires and the number 3445350:336-Venâncio Aires\n",
      " Processing weather for kaihua and the number 1804874:337-Kaihua\n",
      " Processing weather for erenhot and the number 2037485:338-Erenhot\n",
      " Processing weather for broome and the number 5110365:339-Broome\n",
      " Processing weather for san juan de uraba and the number 3669461:340-San Juan de Urabá\n",
      "No data for city {city}\n",
      " Processing weather for cap malheureux and the number 934649:341-Cap Malheureux\n",
      " Processing weather for puerto del rosario and the number 2512186:342-Puerto del Rosario\n",
      "No data for city {city}\n",
      " Processing weather for ipixuna and the number 3408424:343-Ipixuna\n",
      " Processing weather for axim and the number 2303611:344-Esim\n",
      " Processing weather for niquelandia and the number 3456285:345-Niquelândia\n",
      " Processing weather for aracruz and the number 3471848:346-Aracruz\n"
     ]
    },
    {
     "name": "stdout",
     "output_type": "stream",
     "text": [
      " Processing weather for llangefni and the number 2644037:347-Llangefni\n",
      " Processing weather for kiunga and the number 2093846:348-Kiunga\n",
      " Processing weather for dicabisagan and the number 1715015:349-Dicabisagan\n",
      " Processing weather for olinda and the number 3393536:350-Olinda\n",
      " Processing weather for port keats and the number 2063039:351-Port Keats\n",
      " Processing weather for kiama and the number 2161515:352-Kiama\n",
      "No data for city {city}\n",
      "No data for city {city}\n",
      " Processing weather for nizwa and the number 286987:353-Nizwá\n",
      " Processing weather for bardiyah and the number 80509:354-Al Bardīyah\n",
      " Processing weather for havre-saint-pierre and the number 5972291:355-Havre-St-Pierre\n",
      " Processing weather for port hedland and the number 2063042:356-Port Hedland\n",
      " Processing weather for sorland and the number 3137469:357-Sørland\n",
      " Processing weather for wenatchee and the number 5815342:358-Wenatchee\n",
      " Processing weather for guerrero negro and the number 4021858:359-Guerrero Negro\n",
      "No data for city {city}\n",
      " Processing weather for camabatela and the number 2242885:360-Camabatela\n",
      " Processing weather for ullapool and the number 2635199:361-Ullapool\n",
      " Processing weather for ilulissat and the number 3423146:362-Ilulissat\n",
      " Processing weather for birjand and the number 140463:363-Birjand\n",
      " Processing weather for bilma and the number 2446796:364-Bilma\n",
      " Processing weather for norman wells and the number 6089245:365-Norman Wells\n",
      " Processing weather for banda aceh and the number 1215502:366-Banda Aceh\n",
      " Processing weather for faya and the number 110690:367-Faya\n",
      " Processing weather for innisfail and the number 2162683:368-Innisfail\n",
      " Processing weather for berdigestyakh and the number 2026861:369-Berdigestyakh\n",
      " Processing weather for bijar and the number 140521:370-Bījār\n",
      " Processing weather for adrar and the number 2381972:371-Adrar\n",
      " Processing weather for bunbury and the number 2075432:372-Bunbury\n",
      " Processing weather for khuzhir and the number 2022143:373-Khuzhir\n",
      " Processing weather for denpasar and the number 1645528:374-Denpasar\n",
      "No data for city {city}\n",
      " Processing weather for nsanje and the number 924572:375-Nsanje\n",
      " Processing weather for mount pleasant and the number 4588165:376-Mt. Pleasant\n",
      " Processing weather for riyadh and the number 108410:377-Riyadh\n",
      " Processing weather for chapais and the number 5919850:378-Chapais\n",
      " Processing weather for khambhat and the number 1267090:379-Khambhāt\n",
      " Processing weather for kilis and the number 307864:380-Kilis\n",
      " Processing weather for smithers and the number 6149996:381-Smithers\n",
      " Processing weather for natal and the number 3394023:382-Natal\n",
      " Processing weather for sept-iles and the number 6144312:383-Sept-Îles\n",
      " Processing weather for ohara and the number 2111495:384-Ōhara\n",
      " Processing weather for kostino and the number 543939:385-Kostino\n",
      " Processing weather for bela vista and the number 3470177:386-Bela Vista\n",
      " Processing weather for ambilobe and the number 1082243:387-Ambilobe\n",
      " Processing weather for taltal and the number 3870243:388-Taltal\n",
      " Processing weather for narsaq and the number 3421719:389-Narsaq\n",
      " Processing weather for astana and the number 1526273:390-Nur-Sultan\n",
      " Processing weather for dakar and the number 2253354:391-Dakar\n",
      " Processing weather for khudumelapye and the number 933633:392-Khudumelapye\n",
      " Processing weather for eureka and the number 5563397:393-Eureka\n",
      "No data for city {city}\n",
      " Processing weather for kieta and the number 2094027:394-Kieta\n",
      " Processing weather for udachnyy and the number 2014624:395-Udachny\n",
      " Processing weather for erzin and the number 296852:396-Erzin\n",
      " Processing weather for scottsbluff and the number 5699404:397-Scottsbluff\n",
      " Processing weather for key biscayne and the number 4160789:398-Key Biscayne\n",
      " Processing weather for broken hill and the number 2173911:399-Broken Hill\n",
      " Processing weather for caibarien and the number 3566356:400-Caibarién\n",
      " Processing weather for villanueva and the number 3600327:401-Villanueva\n",
      " Processing weather for smederevo and the number 785756:402-Semendria\n",
      " Processing weather for waipawa and the number 2206874:403-Waipawa\n",
      " Processing weather for shakiso and the number 328716:404-Shakiso\n",
      " Processing weather for nome and the number 5870133:405-Nome\n",
      " Processing weather for kamenka and the number 553766:406-Kamenka\n",
      " Processing weather for carupano and the number 3646382:407-Carupano\n",
      "No data for city {city}\n",
      "No data for city {city}\n",
      " Processing weather for moss point and the number 4436743:408-Moss Point\n",
      " Processing weather for alice springs and the number 2077895:409-Alice Springs\n",
      " Processing weather for almeirim and the number 3407903:410-Almeirim\n",
      " Processing weather for aksu and the number 1529660:411-Aksu\n",
      " Processing weather for golynki and the number 560452:412-Golynki\n",
      " Processing weather for jiangkou and the number 1806327:413-Jiangkou\n",
      " Processing weather for zheleznodorozhnyy and the number 463355:414-Zheleznodorozhnyy\n",
      " Processing weather for zyryanka and the number 2119283:415-Zyryanka\n",
      " Processing weather for san policarpo and the number 1688696:416-San Policarpo\n",
      " Processing weather for elko and the number 5703673:417-Elko\n",
      " Processing weather for anchorage and the number 5879400:418-Anchorage\n",
      " Processing weather for ariquemes and the number 3665199:419-Ariquemes\n",
      " Processing weather for taoudenni and the number 2450173:420-Taoudenni\n",
      "No data for city {city}\n",
      " Processing weather for nurota and the number 1513087:421-Nurota\n",
      " Processing weather for washington and the number 5815135:422-Washington\n",
      " Processing weather for barreirinha and the number 3406202:423-Barreirinha\n",
      " Processing weather for coihaique and the number 3894426:424-Coyhaique\n",
      " Processing weather for kualakapuas and the number 1639304:425-Kualakapuas\n",
      " Processing weather for elliot lake and the number 5947866:426-Elliot Lake\n",
      " Processing weather for vanavara and the number 2013727:427-Vanavara\n",
      " Processing weather for tual and the number 1623197:428-Tual\n",
      " Processing weather for severo-kurilsk and the number 2121385:429-Severo-Kuril'sk\n",
      " Processing weather for mackenzie and the number 6063191:430-Mackenzie\n",
      " Processing weather for yanam and the number 1252795:431-Yanam\n",
      " Processing weather for sao jose da coroa grande and the number 3388456:432-São José da Coroa Grande\n",
      "No data for city {city}\n",
      " Processing weather for sao filipe and the number 3374210:433-São Filipe\n",
      " Processing weather for bukavu and the number 217831:434-Bukavu\n",
      " Processing weather for sokoto and the number 2322911:435-Sokoto\n",
      " Processing weather for srivardhan and the number 1255619:436-Srīvardhan\n",
      " Processing weather for agadez and the number 2448083:437-Agadez\n",
      " Processing weather for tura and the number 1254046:438-Tura\n",
      " Processing weather for sonoita and the number 3982837:439-Sonoita\n",
      " Processing weather for krasnogvardeyskiy and the number 1502100:440-Krasnogvardeyskiy\n",
      " Processing weather for nalut and the number 2214432:441-Nālūt\n",
      " Processing weather for changji and the number 1529569:442-Changji\n",
      "No data for city {city}\n",
      " Processing weather for koslan and the number 544084:443-Koslan\n",
      "No data for city {city}\n",
      " Processing weather for saint-louis and the number 2246451:444-Saint-Louis\n",
      " Processing weather for sainte-luce and the number 3569928:445-Sainte-Luce\n",
      " Processing weather for itoman and the number 1861280:446-Itoman\n",
      " Processing weather for turayf and the number 101312:447-Turaif\n",
      " Processing weather for quelimane and the number 1028434:448-Quelimane\n",
      " Processing weather for kahului and the number 5847411:449-Kahului\n",
      " Processing weather for miri and the number 1738050:450-Marabu\n",
      " Processing weather for esna and the number 355449:451-Esna\n",
      " Processing weather for skjervoy and the number 777682:452-Skjervøy\n",
      "No data for city {city}\n",
      " Processing weather for petropavlovsk-kamchatskiy and the number 2122104:453-Petropavlovsk-Kamchatskiy\n",
      " Processing weather for atambua and the number 1651103:454-Atambua\n",
      " Processing weather for remanso and the number 3408064:455-Remanso\n",
      " Processing weather for orillia and the number 6094325:456-Orillia\n",
      " Processing weather for hofn and the number 2630299:457-Hofn\n",
      " Processing weather for kuandian and the number 2036283:458-Kuandian\n",
      "No data for city {city}\n",
      " Processing weather for ulladulla and the number 2145554:459-Ulladulla\n",
      " Processing weather for esperance and the number 2071860:460-Esperance\n",
      " Processing weather for sena madureira and the number 3662155:461-Sena Madureira\n",
      " Processing weather for moquegua and the number 3934608:462-Moquegua\n"
     ]
    },
    {
     "name": "stdout",
     "output_type": "stream",
     "text": [
      " Processing weather for moron and the number 3430545:463-Morón\n",
      "No data for city {city}\n",
      " Processing weather for kavaratti and the number 1267390:464-Kavaratti\n",
      " Processing weather for salcininkai and the number 595016:465-Šalčininkai\n",
      " Processing weather for dawei and the number 1293625:466-Dawei\n",
      " Processing weather for angola and the number 3351879:467-Angola\n",
      " Processing weather for coquimbo and the number 3893629:468-Coquimbo\n",
      " Processing weather for haines junction and the number 5969025:469-Haines Junction\n",
      " Processing weather for tabuk and the number 1684803:470-Tabuk\n",
      " Processing weather for juneau and the number 5554072:471-Juneau\n",
      " Processing weather for praia and the number 3374333:472-Praia\n",
      " Processing weather for wewak and the number 2083537:473-Wewak\n",
      " Processing weather for luderitz and the number 3355672:474-Lüderitz\n",
      " Processing weather for honningsvag and the number 779554:475-Honningsvåg\n",
      " Processing weather for penzance and the number 2640377:476-Penzance\n",
      " Processing weather for usak and the number 298298:477-Uşak Province\n",
      " Processing weather for wairoa and the number 2206808:478-Wairoa\n",
      " Processing weather for hokitika and the number 2206894:479-Hokitika\n",
      " Processing weather for gasa and the number 281133:480-Gaza\n",
      " Processing weather for umea and the number 602150:481-Umeå\n",
      " Processing weather for mut and the number 304013:482-Mut\n",
      " Processing weather for masindi and the number 229362:483-Masindi\n",
      " Processing weather for egvekinot and the number 4031742:484-Egvekinot\n",
      "No data for city {city}\n",
      " Processing weather for sicamous and the number 6147353:485-Sicamous\n",
      "No data for city {city}\n",
      " Processing weather for dasoguz and the number 601734:486-Daşoguz\n",
      " Processing weather for reitz and the number 962847:487-Reitz\n",
      " Processing weather for ust-ordynskiy and the number 2013894:488-Ust'-Ordynskiy\n",
      " Processing weather for geraldton and the number 2070998:489-Geraldton\n",
      " Processing weather for springbok and the number 3361142:490-Springbok\n",
      " Processing weather for cortez and the number 5418104:491-Cortez\n",
      " Processing weather for bowen and the number 2174444:492-Bowen\n",
      "No data for city {city}\n",
      " Processing weather for mwinilunga and the number 902620:493-Mwinilunga\n",
      " Processing weather for polson and the number 5671996:494-Polson\n",
      " Processing weather for lichinga and the number 1043893:495-Lichinga\n",
      " Processing weather for lata and the number 2738381:496-Lata\n",
      " Processing weather for quatre cocos and the number 1106643:497-Quatre Cocos\n",
      " Processing weather for strezhevoy and the number 1490796:498-Strezhevoy\n",
      "No data for city {city}\n",
      " Processing weather for sibolga and the number 1213855:499-Sibolga\n",
      " Processing weather for merauke and the number 2082539:500-Merauke\n",
      " Processing weather for grand gaube and the number 934479:501-Grand Gaube\n",
      " Processing weather for the valley and the number 3573374:502-The Valley\n",
      " Processing weather for nchelenge and the number 175499:503-Nchelenge\n",
      " Processing weather for salym and the number 1493162:504-Salym\n",
      " Processing weather for along and the number 1278969:505-Along\n",
      " Processing weather for robertson and the number 4653638:506-Robertson\n",
      " Processing weather for carballo and the number 3126369:507-Carballo\n",
      " Processing weather for abu kamal and the number 174448:508-Abu Kamal\n",
      " Processing weather for caranavi and the number 3922037:509-Caranavi\n",
      " Processing weather for san patricio and the number 4726521:510-San Patricio\n",
      "No data for city {city}\n",
      " Processing weather for kautokeino and the number 779330:511-Kautokeino\n",
      " Processing weather for kavieng and the number 2094342:512-Kavieng\n",
      " Processing weather for pingxiang and the number 1798654:513-Pingxiang\n",
      " Processing weather for parrsboro and the number 6098717:514-Parrsboro\n",
      " Processing weather for nuuk and the number 3421319:515-Nuuk\n",
      " Processing weather for dalhousie and the number 1273648:516-Dalhousie\n",
      " Processing weather for poya and the number 2138522:517-Poya\n",
      " Processing weather for hovd and the number 1516048:518-Khovd\n",
      "No data for city {city}\n",
      " Processing weather for sainte-anne-des-monts and the number 6137749:519-Sainte-Anne-des-Monts\n",
      " Processing weather for slavyanka and the number 2016430:520-Slavyanka\n",
      " Processing weather for sechura and the number 3691954:521-Sechura\n",
      " Processing weather for saint-raymond and the number 6138980:522-Saint-Raymond\n",
      " Processing weather for boyolangu and the number 1648082:523-Boyolangu\n",
      " Processing weather for miandoab and the number 124085:524-Mīāndoāb\n",
      "No data for city {city}\n",
      " Processing weather for varna and the number 726050:525-Varna\n",
      " Processing weather for padang and the number 1633419:526-Padang\n",
      " Processing weather for porto novo and the number 2392087:527-Porto-Novo\n",
      " Processing weather for springdale and the number 4132093:528-Springdale\n",
      " Processing weather for arauco and the number 3899462:529-Arauco\n",
      " Processing weather for lorengau and the number 2092164:530-Lorengau\n",
      " Processing weather for vieux-habitants and the number 3578278:531-Vieux-Habitants\n",
      " Processing weather for kawalu and the number 1640902:532-Kawalu\n",
      " Processing weather for marsh harbour and the number 3571913:533-Marsh Harbour\n",
      " Processing weather for majene and the number 1636806:534-Majene\n",
      " Processing weather for piacabucu and the number 3454005:535-Piaçabuçu\n",
      " Processing weather for dhidhdhoo and the number 1337612:536-Dhidhdhoo\n",
      " Processing weather for rawson and the number 3839307:537-Rawson\n",
      " Processing weather for kosum phisai and the number 1609476:538-Kosum Phisai\n",
      " Processing weather for eyl and the number 60019:539-Eyl\n",
      "No data for city {city}\n",
      " Processing weather for malanje and the number 2239862:540-Malanje\n",
      " Processing weather for akyab and the number 1295765:541-Sittwe\n",
      " Processing weather for lachhmangarh and the number 1271910:542-Lachhmangarh\n",
      " Processing weather for teguldet and the number 1489822:543-Tegul'det\n",
      " Processing weather for pochutla and the number 3517970:544-Pochutla\n",
      " Processing weather for achacachi and the number 3924610:545-Achacachi\n",
      " Processing weather for ortigueira and the number 3455777:546-Ortigueira\n",
      " Processing weather for ardakan and the number 143073:547-Ardakān\n",
      " Processing weather for la primavera and the number 3678000:548-La Primavera\n"
     ]
    }
   ],
   "source": [
    "url = \"http://api.openweathermap.org/data/2.5/weather?\"\n",
    "units = \"imperial\"\n",
    "#decided not to use the dictionary and creating 9 empty lists and appending to the dict. \n",
    "#I decided to go with one list\n",
    "data=[]\n",
    "# Build partial query URL\n",
    "query_url = f\"{url}appid={weather_api_key}&units={units}&q=\"\n",
    "i=0\n",
    "headers=['City','Lat','Lng','Max Temp','Humidity','Cloudiness','Wind Speed','Country','Date']\n",
    "for city in cities:\n",
    "    try:\n",
    "        response = requests.get(query_url + city).json()\n",
    "        data.append([response['name'],response['coord']['lat'],response['coord']['lon'],response['main']['temp_max'],\n",
    "                   response['main']['humidity'],response['clouds']['all'],response['wind']['speed'],\n",
    "                   response['sys']['country'],response['dt']])\n",
    "#I assumed when you city id it was id number I found in response\n",
    "        print(f' Processing weather for {city} and the number {response[\"id\"]}:{i}-{response[\"name\"]}')\n",
    "        i+=1\n",
    "        if i%50 == 0:\n",
    "            time.sleep(40)          \n",
    "    except:\n",
    "        print('No data for city {city}')  "
   ]
  },
  {
   "cell_type": "code",
   "execution_count": null,
   "metadata": {
    "scrolled": true
   },
   "outputs": [],
   "source": []
  },
  {
   "cell_type": "markdown",
   "metadata": {},
   "source": [
    "### Convert Raw Data to DataFrame\n",
    "* Export the city data into a .csv.\n",
    "* Display the DataFrame"
   ]
  },
  {
   "cell_type": "code",
   "execution_count": 5,
   "metadata": {},
   "outputs": [
    {
     "data": {
      "text/html": [
       "<div>\n",
       "<style scoped>\n",
       "    .dataframe tbody tr th:only-of-type {\n",
       "        vertical-align: middle;\n",
       "    }\n",
       "\n",
       "    .dataframe tbody tr th {\n",
       "        vertical-align: top;\n",
       "    }\n",
       "\n",
       "    .dataframe thead th {\n",
       "        text-align: right;\n",
       "    }\n",
       "</style>\n",
       "<table border=\"1\" class=\"dataframe\">\n",
       "  <thead>\n",
       "    <tr style=\"text-align: right;\">\n",
       "      <th></th>\n",
       "      <th>City</th>\n",
       "      <th>Lat</th>\n",
       "      <th>Lng</th>\n",
       "      <th>Max Temp</th>\n",
       "      <th>Humidity</th>\n",
       "      <th>Cloudiness</th>\n",
       "      <th>Wind Speed</th>\n",
       "      <th>Country</th>\n",
       "      <th>Date</th>\n",
       "    </tr>\n",
       "  </thead>\n",
       "  <tbody>\n",
       "    <tr>\n",
       "      <th>0</th>\n",
       "      <td>Yellowknife</td>\n",
       "      <td>62.46</td>\n",
       "      <td>-114.35</td>\n",
       "      <td>21.20</td>\n",
       "      <td>92</td>\n",
       "      <td>90</td>\n",
       "      <td>16.11</td>\n",
       "      <td>CA</td>\n",
       "      <td>1604178627</td>\n",
       "    </tr>\n",
       "    <tr>\n",
       "      <th>1</th>\n",
       "      <td>Bethel</td>\n",
       "      <td>41.37</td>\n",
       "      <td>-73.41</td>\n",
       "      <td>45.00</td>\n",
       "      <td>39</td>\n",
       "      <td>1</td>\n",
       "      <td>6.93</td>\n",
       "      <td>US</td>\n",
       "      <td>1604178781</td>\n",
       "    </tr>\n",
       "    <tr>\n",
       "      <th>2</th>\n",
       "      <td>Vaini</td>\n",
       "      <td>-21.20</td>\n",
       "      <td>-175.20</td>\n",
       "      <td>75.20</td>\n",
       "      <td>83</td>\n",
       "      <td>75</td>\n",
       "      <td>11.41</td>\n",
       "      <td>TO</td>\n",
       "      <td>1604178782</td>\n",
       "    </tr>\n",
       "    <tr>\n",
       "      <th>3</th>\n",
       "      <td>George Town</td>\n",
       "      <td>5.41</td>\n",
       "      <td>100.34</td>\n",
       "      <td>75.20</td>\n",
       "      <td>94</td>\n",
       "      <td>20</td>\n",
       "      <td>4.70</td>\n",
       "      <td>MY</td>\n",
       "      <td>1604178782</td>\n",
       "    </tr>\n",
       "    <tr>\n",
       "      <th>4</th>\n",
       "      <td>Alta Floresta</td>\n",
       "      <td>-9.88</td>\n",
       "      <td>-56.09</td>\n",
       "      <td>85.71</td>\n",
       "      <td>58</td>\n",
       "      <td>100</td>\n",
       "      <td>2.33</td>\n",
       "      <td>BR</td>\n",
       "      <td>1604178782</td>\n",
       "    </tr>\n",
       "  </tbody>\n",
       "</table>\n",
       "</div>"
      ],
      "text/plain": [
       "            City    Lat     Lng  Max Temp  Humidity  Cloudiness  Wind Speed  \\\n",
       "0    Yellowknife  62.46 -114.35     21.20        92          90       16.11   \n",
       "1         Bethel  41.37  -73.41     45.00        39           1        6.93   \n",
       "2          Vaini -21.20 -175.20     75.20        83          75       11.41   \n",
       "3    George Town   5.41  100.34     75.20        94          20        4.70   \n",
       "4  Alta Floresta  -9.88  -56.09     85.71        58         100        2.33   \n",
       "\n",
       "  Country        Date  \n",
       "0      CA  1604178627  \n",
       "1      US  1604178781  \n",
       "2      TO  1604178782  \n",
       "3      MY  1604178782  \n",
       "4      BR  1604178782  "
      ]
     },
     "execution_count": 5,
     "metadata": {},
     "output_type": "execute_result"
    }
   ],
   "source": [
    "weather_data = pd.DataFrame(data,columns=['City','Lat','Lng','Max Temp','Humidity','Cloudiness','Wind Speed','Country','Date'])\n",
    "weather_data.head()"
   ]
  },
  {
   "cell_type": "code",
   "execution_count": 6,
   "metadata": {},
   "outputs": [
    {
     "data": {
      "text/plain": [
       "City          549\n",
       "Lat           549\n",
       "Lng           549\n",
       "Max Temp      549\n",
       "Humidity      549\n",
       "Cloudiness    549\n",
       "Wind Speed    549\n",
       "Country       549\n",
       "Date          549\n",
       "dtype: int64"
      ]
     },
     "execution_count": 6,
     "metadata": {},
     "output_type": "execute_result"
    }
   ],
   "source": [
    "cleaned_weather_data = weather_data.dropna(how=\"any\")\n",
    "cleaned_weather_data.count()"
   ]
  },
  {
   "cell_type": "markdown",
   "metadata": {},
   "source": [
    "## Inspect the data and remove the cities where the humidity > 100%.\n",
    "----\n",
    "Skip this step if there are no cities that have humidity > 100%. "
   ]
  },
  {
   "cell_type": "code",
   "execution_count": 7,
   "metadata": {},
   "outputs": [
    {
     "data": {
      "text/html": [
       "<div>\n",
       "<style scoped>\n",
       "    .dataframe tbody tr th:only-of-type {\n",
       "        vertical-align: middle;\n",
       "    }\n",
       "\n",
       "    .dataframe tbody tr th {\n",
       "        vertical-align: top;\n",
       "    }\n",
       "\n",
       "    .dataframe thead th {\n",
       "        text-align: right;\n",
       "    }\n",
       "</style>\n",
       "<table border=\"1\" class=\"dataframe\">\n",
       "  <thead>\n",
       "    <tr style=\"text-align: right;\">\n",
       "      <th></th>\n",
       "      <th>Lat</th>\n",
       "      <th>Lng</th>\n",
       "      <th>Max Temp</th>\n",
       "      <th>Humidity</th>\n",
       "      <th>Cloudiness</th>\n",
       "      <th>Wind Speed</th>\n",
       "      <th>Date</th>\n",
       "    </tr>\n",
       "  </thead>\n",
       "  <tbody>\n",
       "    <tr>\n",
       "      <th>count</th>\n",
       "      <td>549.000000</td>\n",
       "      <td>549.000000</td>\n",
       "      <td>549.000000</td>\n",
       "      <td>549.000000</td>\n",
       "      <td>549.000000</td>\n",
       "      <td>549.000000</td>\n",
       "      <td>5.490000e+02</td>\n",
       "    </tr>\n",
       "    <tr>\n",
       "      <th>mean</th>\n",
       "      <td>18.809545</td>\n",
       "      <td>20.241457</td>\n",
       "      <td>58.423297</td>\n",
       "      <td>71.797814</td>\n",
       "      <td>50.763206</td>\n",
       "      <td>7.858251</td>\n",
       "      <td>1.604179e+09</td>\n",
       "    </tr>\n",
       "    <tr>\n",
       "      <th>std</th>\n",
       "      <td>33.471107</td>\n",
       "      <td>89.912069</td>\n",
       "      <td>22.554715</td>\n",
       "      <td>21.367251</td>\n",
       "      <td>40.182958</td>\n",
       "      <td>5.365404</td>\n",
       "      <td>1.570319e+02</td>\n",
       "    </tr>\n",
       "    <tr>\n",
       "      <th>min</th>\n",
       "      <td>-54.800000</td>\n",
       "      <td>-179.170000</td>\n",
       "      <td>-11.600000</td>\n",
       "      <td>7.000000</td>\n",
       "      <td>0.000000</td>\n",
       "      <td>0.510000</td>\n",
       "      <td>1.604178e+09</td>\n",
       "    </tr>\n",
       "    <tr>\n",
       "      <th>25%</th>\n",
       "      <td>-8.900000</td>\n",
       "      <td>-63.040000</td>\n",
       "      <td>43.590000</td>\n",
       "      <td>63.000000</td>\n",
       "      <td>1.000000</td>\n",
       "      <td>3.470000</td>\n",
       "      <td>1.604179e+09</td>\n",
       "    </tr>\n",
       "    <tr>\n",
       "      <th>50%</th>\n",
       "      <td>22.080000</td>\n",
       "      <td>26.690000</td>\n",
       "      <td>64.400000</td>\n",
       "      <td>77.000000</td>\n",
       "      <td>51.000000</td>\n",
       "      <td>6.930000</td>\n",
       "      <td>1.604179e+09</td>\n",
       "    </tr>\n",
       "    <tr>\n",
       "      <th>75%</th>\n",
       "      <td>47.500000</td>\n",
       "      <td>100.350000</td>\n",
       "      <td>76.620000</td>\n",
       "      <td>88.000000</td>\n",
       "      <td>92.000000</td>\n",
       "      <td>10.630000</td>\n",
       "      <td>1.604179e+09</td>\n",
       "    </tr>\n",
       "    <tr>\n",
       "      <th>max</th>\n",
       "      <td>78.220000</td>\n",
       "      <td>179.320000</td>\n",
       "      <td>95.410000</td>\n",
       "      <td>100.000000</td>\n",
       "      <td>100.000000</td>\n",
       "      <td>32.210000</td>\n",
       "      <td>1.604179e+09</td>\n",
       "    </tr>\n",
       "  </tbody>\n",
       "</table>\n",
       "</div>"
      ],
      "text/plain": [
       "              Lat         Lng    Max Temp    Humidity  Cloudiness  Wind Speed  \\\n",
       "count  549.000000  549.000000  549.000000  549.000000  549.000000  549.000000   \n",
       "mean    18.809545   20.241457   58.423297   71.797814   50.763206    7.858251   \n",
       "std     33.471107   89.912069   22.554715   21.367251   40.182958    5.365404   \n",
       "min    -54.800000 -179.170000  -11.600000    7.000000    0.000000    0.510000   \n",
       "25%     -8.900000  -63.040000   43.590000   63.000000    1.000000    3.470000   \n",
       "50%     22.080000   26.690000   64.400000   77.000000   51.000000    6.930000   \n",
       "75%     47.500000  100.350000   76.620000   88.000000   92.000000   10.630000   \n",
       "max     78.220000  179.320000   95.410000  100.000000  100.000000   32.210000   \n",
       "\n",
       "               Date  \n",
       "count  5.490000e+02  \n",
       "mean   1.604179e+09  \n",
       "std    1.570319e+02  \n",
       "min    1.604178e+09  \n",
       "25%    1.604179e+09  \n",
       "50%    1.604179e+09  \n",
       "75%    1.604179e+09  \n",
       "max    1.604179e+09  "
      ]
     },
     "execution_count": 7,
     "metadata": {},
     "output_type": "execute_result"
    }
   ],
   "source": [
    "cleaned_weather_data.describe()"
   ]
  },
  {
   "cell_type": "code",
   "execution_count": 8,
   "metadata": {},
   "outputs": [],
   "source": [
    "#Save cleaned data\n",
    "cleaned_weather_data.to_csv(output_data_file)"
   ]
  },
  {
   "cell_type": "code",
   "execution_count": 9,
   "metadata": {},
   "outputs": [
    {
     "data": {
      "text/plain": [
       "Int64Index([], dtype='int64')"
      ]
     },
     "execution_count": 9,
     "metadata": {},
     "output_type": "execute_result"
    }
   ],
   "source": [
    "#  Get the indices of cities that have humidity over 100%.\n",
    "greater_than_100_humidity_idx = cleaned_weather_data.loc[cleaned_weather_data['Humidity'] > 100].index\n",
    "greater_than_100_humidity_idx"
   ]
  },
  {
   "cell_type": "code",
   "execution_count": 10,
   "metadata": {},
   "outputs": [
    {
     "data": {
      "text/html": [
       "<div>\n",
       "<style scoped>\n",
       "    .dataframe tbody tr th:only-of-type {\n",
       "        vertical-align: middle;\n",
       "    }\n",
       "\n",
       "    .dataframe tbody tr th {\n",
       "        vertical-align: top;\n",
       "    }\n",
       "\n",
       "    .dataframe thead th {\n",
       "        text-align: right;\n",
       "    }\n",
       "</style>\n",
       "<table border=\"1\" class=\"dataframe\">\n",
       "  <thead>\n",
       "    <tr style=\"text-align: right;\">\n",
       "      <th></th>\n",
       "      <th>City</th>\n",
       "      <th>Lat</th>\n",
       "      <th>Lng</th>\n",
       "      <th>Max Temp</th>\n",
       "      <th>Humidity</th>\n",
       "      <th>Cloudiness</th>\n",
       "      <th>Wind Speed</th>\n",
       "      <th>Country</th>\n",
       "      <th>Date</th>\n",
       "    </tr>\n",
       "  </thead>\n",
       "  <tbody>\n",
       "    <tr>\n",
       "      <th>0</th>\n",
       "      <td>Yellowknife</td>\n",
       "      <td>62.46</td>\n",
       "      <td>-114.35</td>\n",
       "      <td>21.20</td>\n",
       "      <td>92</td>\n",
       "      <td>90</td>\n",
       "      <td>16.11</td>\n",
       "      <td>CA</td>\n",
       "      <td>1604178627</td>\n",
       "    </tr>\n",
       "    <tr>\n",
       "      <th>1</th>\n",
       "      <td>Bethel</td>\n",
       "      <td>41.37</td>\n",
       "      <td>-73.41</td>\n",
       "      <td>45.00</td>\n",
       "      <td>39</td>\n",
       "      <td>1</td>\n",
       "      <td>6.93</td>\n",
       "      <td>US</td>\n",
       "      <td>1604178781</td>\n",
       "    </tr>\n",
       "    <tr>\n",
       "      <th>2</th>\n",
       "      <td>Vaini</td>\n",
       "      <td>-21.20</td>\n",
       "      <td>-175.20</td>\n",
       "      <td>75.20</td>\n",
       "      <td>83</td>\n",
       "      <td>75</td>\n",
       "      <td>11.41</td>\n",
       "      <td>TO</td>\n",
       "      <td>1604178782</td>\n",
       "    </tr>\n",
       "    <tr>\n",
       "      <th>3</th>\n",
       "      <td>George Town</td>\n",
       "      <td>5.41</td>\n",
       "      <td>100.34</td>\n",
       "      <td>75.20</td>\n",
       "      <td>94</td>\n",
       "      <td>20</td>\n",
       "      <td>4.70</td>\n",
       "      <td>MY</td>\n",
       "      <td>1604178782</td>\n",
       "    </tr>\n",
       "    <tr>\n",
       "      <th>4</th>\n",
       "      <td>Alta Floresta</td>\n",
       "      <td>-9.88</td>\n",
       "      <td>-56.09</td>\n",
       "      <td>85.71</td>\n",
       "      <td>58</td>\n",
       "      <td>100</td>\n",
       "      <td>2.33</td>\n",
       "      <td>BR</td>\n",
       "      <td>1604178782</td>\n",
       "    </tr>\n",
       "    <tr>\n",
       "      <th>5</th>\n",
       "      <td>Rikitea</td>\n",
       "      <td>-23.12</td>\n",
       "      <td>-134.97</td>\n",
       "      <td>75.47</td>\n",
       "      <td>68</td>\n",
       "      <td>0</td>\n",
       "      <td>6.04</td>\n",
       "      <td>PF</td>\n",
       "      <td>1604178782</td>\n",
       "    </tr>\n",
       "    <tr>\n",
       "      <th>6</th>\n",
       "      <td>Pevek</td>\n",
       "      <td>69.70</td>\n",
       "      <td>170.31</td>\n",
       "      <td>13.30</td>\n",
       "      <td>96</td>\n",
       "      <td>62</td>\n",
       "      <td>11.97</td>\n",
       "      <td>RU</td>\n",
       "      <td>1604178782</td>\n",
       "    </tr>\n",
       "    <tr>\n",
       "      <th>7</th>\n",
       "      <td>Maceió</td>\n",
       "      <td>-9.67</td>\n",
       "      <td>-35.74</td>\n",
       "      <td>80.60</td>\n",
       "      <td>78</td>\n",
       "      <td>20</td>\n",
       "      <td>14.99</td>\n",
       "      <td>BR</td>\n",
       "      <td>1604178782</td>\n",
       "    </tr>\n",
       "    <tr>\n",
       "      <th>8</th>\n",
       "      <td>Port Alfred</td>\n",
       "      <td>-33.59</td>\n",
       "      <td>26.89</td>\n",
       "      <td>63.36</td>\n",
       "      <td>81</td>\n",
       "      <td>63</td>\n",
       "      <td>13.40</td>\n",
       "      <td>ZA</td>\n",
       "      <td>1604178782</td>\n",
       "    </tr>\n",
       "    <tr>\n",
       "      <th>9</th>\n",
       "      <td>Carnarvon</td>\n",
       "      <td>-24.87</td>\n",
       "      <td>113.63</td>\n",
       "      <td>69.80</td>\n",
       "      <td>83</td>\n",
       "      <td>75</td>\n",
       "      <td>12.75</td>\n",
       "      <td>AU</td>\n",
       "      <td>1604178782</td>\n",
       "    </tr>\n",
       "  </tbody>\n",
       "</table>\n",
       "</div>"
      ],
      "text/plain": [
       "            City    Lat     Lng  Max Temp  Humidity  Cloudiness  Wind Speed  \\\n",
       "0    Yellowknife  62.46 -114.35     21.20        92          90       16.11   \n",
       "1         Bethel  41.37  -73.41     45.00        39           1        6.93   \n",
       "2          Vaini -21.20 -175.20     75.20        83          75       11.41   \n",
       "3    George Town   5.41  100.34     75.20        94          20        4.70   \n",
       "4  Alta Floresta  -9.88  -56.09     85.71        58         100        2.33   \n",
       "5        Rikitea -23.12 -134.97     75.47        68           0        6.04   \n",
       "6          Pevek  69.70  170.31     13.30        96          62       11.97   \n",
       "7         Maceió  -9.67  -35.74     80.60        78          20       14.99   \n",
       "8    Port Alfred -33.59   26.89     63.36        81          63       13.40   \n",
       "9      Carnarvon -24.87  113.63     69.80        83          75       12.75   \n",
       "\n",
       "  Country        Date  \n",
       "0      CA  1604178627  \n",
       "1      US  1604178781  \n",
       "2      TO  1604178782  \n",
       "3      MY  1604178782  \n",
       "4      BR  1604178782  \n",
       "5      PF  1604178782  \n",
       "6      RU  1604178782  \n",
       "7      BR  1604178782  \n",
       "8      ZA  1604178782  \n",
       "9      AU  1604178782  "
      ]
     },
     "execution_count": 10,
     "metadata": {},
     "output_type": "execute_result"
    }
   ],
   "source": [
    "# Make a new DataFrame equal to the city data to drop all humidity outliers by index.\n",
    "# Passing \"inplace=False\" will make a copy of the city_data DataFrame, which we call \"clean_city_data\".\n",
    "clean_city_data = cleaned_weather_data.drop(greater_than_100_humidity_idx)\n",
    "clean_city_data.head(10)"
   ]
  },
  {
   "cell_type": "code",
   "execution_count": 11,
   "metadata": {},
   "outputs": [
    {
     "data": {
      "text/plain": [
       "'2020-10-31'"
      ]
     },
     "execution_count": 11,
     "metadata": {},
     "output_type": "execute_result"
    }
   ],
   "source": [
    "date_index = clean_city_data.head(10).index.values[0]\n",
    "run_date = clean_city_data.at[date_index,'Date']\n",
    "date_of_analysis = datetime.datetime.fromtimestamp(int(run_date)).strftime('%Y-%m-%d')\n",
    "date_of_analysis"
   ]
  },
  {
   "cell_type": "markdown",
   "metadata": {},
   "source": [
    "## Plotting the Data\n",
    "* Use proper labeling of the plots using plot titles (including date of analysis) and axes labels.\n",
    "* Save the plotted figures as .pngs."
   ]
  },
  {
   "cell_type": "markdown",
   "metadata": {},
   "source": [
    "## Latitude vs. Temperature Plot"
   ]
  },
  {
   "cell_type": "code",
   "execution_count": 12,
   "metadata": {
    "scrolled": true
   },
   "outputs": [
    {
     "data": {
      "image/png": "[encoded data removed]",
      "text/plain": [
       "<Figure size 432x288 with 1 Axes>"
      ]
     },
     "metadata": {
      "needs_background": "light"
     },
     "output_type": "display_data"
    }
   ],
   "source": [
    "ax = clean_city_data.plot(kind='scatter', x='Lat',y='Max Temp',marker=\"o\", facecolors=\"red\", edgecolors=\"black\",alpha=0.75)\n",
    "\n",
    "ax.set_ylabel('Max Temprature(F)')\n",
    "ax.set_xlabel('Latitude')\n",
    "label = 'City Latutude Vs. Max Temprature as of ' + date_of_analysis\n",
    "ax.set_title(label)\n",
    "ax.grid()\n",
    "fig = ax.get_figure()\n",
    "fig.savefig('../output_data/LatvsTemp')"
   ]
  },
  {
   "cell_type": "markdown",
   "metadata": {},
   "source": [
    "Based on the curve, it looks like there is a relationship betwen max temp and latitude. As we move away from 0 (equator) in the positive direction (northern hemisphere) the temprature decreses and towards the negative latitude temprature i.e. souther hemisphere is in the higher range."
   ]
  },
  {
   "cell_type": "markdown",
   "metadata": {},
   "source": [
    "## Latitude vs. Humidity Plot"
   ]
  },
  {
   "cell_type": "code",
   "execution_count": 13,
   "metadata": {},
   "outputs": [
    {
     "data": {
      "image/png": "[encoded data removed]",
      "text/plain": [
       "<Figure size 432x288 with 1 Axes>"
      ]
     },
     "metadata": {
      "needs_background": "light"
     },
     "output_type": "display_data"
    }
   ],
   "source": [
    "ax = clean_city_data.plot(kind='scatter', x='Lat',y='Humidity',marker=\"o\", facecolors=\"red\", edgecolors=\"black\",alpha=0.75)\n",
    "ax.set_ylabel('Humidity')\n",
    "ax.set_xlabel('Latitude')\n",
    "label = f'City Latutude Vs. Humidity ({date_of_analysis})'\n",
    "ax.set_title(label)\n",
    "ax.grid()\n",
    "fig = ax.get_figure()\n",
    "fig.savefig('../output_data/latvshumidity.png')"
   ]
  },
  {
   "cell_type": "markdown",
   "metadata": {},
   "source": [
    "Looks like there is not much of relationship as the points are scattered and does not fit a pattern."
   ]
  },
  {
   "cell_type": "markdown",
   "metadata": {},
   "source": [
    "## Latitude vs. Cloudiness Plot"
   ]
  },
  {
   "cell_type": "code",
   "execution_count": 14,
   "metadata": {},
   "outputs": [
    {
     "data": {
      "image/png": "[encoded data removed]",
      "text/plain": [
       "<Figure size 432x288 with 1 Axes>"
      ]
     },
     "metadata": {
      "needs_background": "light"
     },
     "output_type": "display_data"
    }
   ],
   "source": [
    "ax = clean_city_data.plot(kind='scatter', x='Lat',y='Cloudiness',marker=\"o\", facecolors=\"red\", edgecolors=\"black\",alpha=0.75)\n",
    "ax.set_ylabel('Cloudiness')\n",
    "ax.set_xlabel('Latitude')\n",
    "label = f'City Latutude Vs. Cloudiness ({date_of_analysis})'\n",
    "ax.set_title(label)\n",
    "ax.grid()\n",
    "fig = ax.get_figure()\n",
    "fig.savefig('../output_data/latvscloudiness.png')"
   ]
  },
  {
   "cell_type": "markdown",
   "metadata": {},
   "source": [
    "Cloudiness and where you are in the latitude has no relationship. Points are scattered and no pattern (linear relationship) emerges."
   ]
  },
  {
   "cell_type": "markdown",
   "metadata": {},
   "source": [
    "## Latitude vs. Wind Speed Plot"
   ]
  },
  {
   "cell_type": "code",
   "execution_count": 15,
   "metadata": {},
   "outputs": [
    {
     "data": {
      "image/png": "[encoded data removed]",
      "text/plain": [
       "<Figure size 432x288 with 1 Axes>"
      ]
     },
     "metadata": {
      "needs_background": "light"
     },
     "output_type": "display_data"
    }
   ],
   "source": [
    "ax = clean_city_data.plot(kind='scatter', x='Lat',y='Wind Speed',marker=\"o\", facecolors=\"red\", edgecolors=\"black\",alpha=0.75)\n",
    "ax.set_ylabel('Wind Speed')\n",
    "ax.set_xlabel('Latitude')\n",
    "label = f'City Latutude Vs. Wind Speed ({date_of_analysis})'\n",
    "ax.set_title(label)\n",
    "ax.grid()\n",
    "fig = ax.get_figure()\n",
    "fig.savefig('../output_data/latvswindspeed.png')"
   ]
  },
  {
   "cell_type": "markdown",
   "metadata": {},
   "source": [
    "Wind speed remains a constant whereever you are in the latiture except for a few outliers."
   ]
  },
  {
   "cell_type": "markdown",
   "metadata": {},
   "source": [
    "## Linear Regression"
   ]
  },
  {
   "cell_type": "code",
   "execution_count": 16,
   "metadata": {},
   "outputs": [
    {
     "data": {
      "text/html": [
       "<div>\n",
       "<style scoped>\n",
       "    .dataframe tbody tr th:only-of-type {\n",
       "        vertical-align: middle;\n",
       "    }\n",
       "\n",
       "    .dataframe tbody tr th {\n",
       "        vertical-align: top;\n",
       "    }\n",
       "\n",
       "    .dataframe thead th {\n",
       "        text-align: right;\n",
       "    }\n",
       "</style>\n",
       "<table border=\"1\" class=\"dataframe\">\n",
       "  <thead>\n",
       "    <tr style=\"text-align: right;\">\n",
       "      <th></th>\n",
       "      <th>index</th>\n",
       "      <th>City</th>\n",
       "      <th>Lat</th>\n",
       "      <th>Lng</th>\n",
       "      <th>Max Temp</th>\n",
       "      <th>Humidity</th>\n",
       "      <th>Cloudiness</th>\n",
       "      <th>Wind Speed</th>\n",
       "      <th>Country</th>\n",
       "      <th>Date</th>\n",
       "    </tr>\n",
       "  </thead>\n",
       "  <tbody>\n",
       "    <tr>\n",
       "      <th>0</th>\n",
       "      <td>0</td>\n",
       "      <td>Yellowknife</td>\n",
       "      <td>62.46</td>\n",
       "      <td>-114.35</td>\n",
       "      <td>21.20</td>\n",
       "      <td>92</td>\n",
       "      <td>90</td>\n",
       "      <td>16.11</td>\n",
       "      <td>CA</td>\n",
       "      <td>1604178627</td>\n",
       "    </tr>\n",
       "    <tr>\n",
       "      <th>1</th>\n",
       "      <td>1</td>\n",
       "      <td>Bethel</td>\n",
       "      <td>41.37</td>\n",
       "      <td>-73.41</td>\n",
       "      <td>45.00</td>\n",
       "      <td>39</td>\n",
       "      <td>1</td>\n",
       "      <td>6.93</td>\n",
       "      <td>US</td>\n",
       "      <td>1604178781</td>\n",
       "    </tr>\n",
       "    <tr>\n",
       "      <th>2</th>\n",
       "      <td>3</td>\n",
       "      <td>George Town</td>\n",
       "      <td>5.41</td>\n",
       "      <td>100.34</td>\n",
       "      <td>75.20</td>\n",
       "      <td>94</td>\n",
       "      <td>20</td>\n",
       "      <td>4.70</td>\n",
       "      <td>MY</td>\n",
       "      <td>1604178782</td>\n",
       "    </tr>\n",
       "    <tr>\n",
       "      <th>3</th>\n",
       "      <td>6</td>\n",
       "      <td>Pevek</td>\n",
       "      <td>69.70</td>\n",
       "      <td>170.31</td>\n",
       "      <td>13.30</td>\n",
       "      <td>96</td>\n",
       "      <td>62</td>\n",
       "      <td>11.97</td>\n",
       "      <td>RU</td>\n",
       "      <td>1604178782</td>\n",
       "    </tr>\n",
       "    <tr>\n",
       "      <th>4</th>\n",
       "      <td>10</td>\n",
       "      <td>Bonthe</td>\n",
       "      <td>7.53</td>\n",
       "      <td>-12.51</td>\n",
       "      <td>79.25</td>\n",
       "      <td>80</td>\n",
       "      <td>0</td>\n",
       "      <td>4.29</td>\n",
       "      <td>SL</td>\n",
       "      <td>1604178782</td>\n",
       "    </tr>\n",
       "    <tr>\n",
       "      <th>...</th>\n",
       "      <td>...</td>\n",
       "      <td>...</td>\n",
       "      <td>...</td>\n",
       "      <td>...</td>\n",
       "      <td>...</td>\n",
       "      <td>...</td>\n",
       "      <td>...</td>\n",
       "      <td>...</td>\n",
       "      <td>...</td>\n",
       "      <td>...</td>\n",
       "    </tr>\n",
       "    <tr>\n",
       "      <th>356</th>\n",
       "      <td>542</td>\n",
       "      <td>Lachhmangarh</td>\n",
       "      <td>27.82</td>\n",
       "      <td>75.03</td>\n",
       "      <td>59.22</td>\n",
       "      <td>31</td>\n",
       "      <td>0</td>\n",
       "      <td>0.83</td>\n",
       "      <td>IN</td>\n",
       "      <td>1604179223</td>\n",
       "    </tr>\n",
       "    <tr>\n",
       "      <th>357</th>\n",
       "      <td>543</td>\n",
       "      <td>Tegul'det</td>\n",
       "      <td>57.31</td>\n",
       "      <td>88.17</td>\n",
       "      <td>32.83</td>\n",
       "      <td>96</td>\n",
       "      <td>100</td>\n",
       "      <td>8.81</td>\n",
       "      <td>RU</td>\n",
       "      <td>1604179223</td>\n",
       "    </tr>\n",
       "    <tr>\n",
       "      <th>358</th>\n",
       "      <td>544</td>\n",
       "      <td>Pochutla</td>\n",
       "      <td>15.74</td>\n",
       "      <td>-96.47</td>\n",
       "      <td>88.00</td>\n",
       "      <td>62</td>\n",
       "      <td>20</td>\n",
       "      <td>9.17</td>\n",
       "      <td>MX</td>\n",
       "      <td>1604179224</td>\n",
       "    </tr>\n",
       "    <tr>\n",
       "      <th>359</th>\n",
       "      <td>547</td>\n",
       "      <td>Ardakān</td>\n",
       "      <td>32.31</td>\n",
       "      <td>54.02</td>\n",
       "      <td>57.20</td>\n",
       "      <td>22</td>\n",
       "      <td>0</td>\n",
       "      <td>2.30</td>\n",
       "      <td>IR</td>\n",
       "      <td>1604179224</td>\n",
       "    </tr>\n",
       "    <tr>\n",
       "      <th>360</th>\n",
       "      <td>548</td>\n",
       "      <td>La Primavera</td>\n",
       "      <td>5.49</td>\n",
       "      <td>-70.41</td>\n",
       "      <td>77.47</td>\n",
       "      <td>86</td>\n",
       "      <td>100</td>\n",
       "      <td>6.96</td>\n",
       "      <td>CO</td>\n",
       "      <td>1604179224</td>\n",
       "    </tr>\n",
       "  </tbody>\n",
       "</table>\n",
       "<p>361 rows × 10 columns</p>\n",
       "</div>"
      ],
      "text/plain": [
       "     index          City    Lat     Lng  Max Temp  Humidity  Cloudiness  \\\n",
       "0        0   Yellowknife  62.46 -114.35     21.20        92          90   \n",
       "1        1        Bethel  41.37  -73.41     45.00        39           1   \n",
       "2        3   George Town   5.41  100.34     75.20        94          20   \n",
       "3        6         Pevek  69.70  170.31     13.30        96          62   \n",
       "4       10        Bonthe   7.53  -12.51     79.25        80           0   \n",
       "..     ...           ...    ...     ...       ...       ...         ...   \n",
       "356    542  Lachhmangarh  27.82   75.03     59.22        31           0   \n",
       "357    543     Tegul'det  57.31   88.17     32.83        96         100   \n",
       "358    544      Pochutla  15.74  -96.47     88.00        62          20   \n",
       "359    547       Ardakān  32.31   54.02     57.20        22           0   \n",
       "360    548  La Primavera   5.49  -70.41     77.47        86         100   \n",
       "\n",
       "     Wind Speed Country        Date  \n",
       "0         16.11      CA  1604178627  \n",
       "1          6.93      US  1604178781  \n",
       "2          4.70      MY  1604178782  \n",
       "3         11.97      RU  1604178782  \n",
       "4          4.29      SL  1604178782  \n",
       "..          ...     ...         ...  \n",
       "356        0.83      IN  1604179223  \n",
       "357        8.81      RU  1604179223  \n",
       "358        9.17      MX  1604179224  \n",
       "359        2.30      IR  1604179224  \n",
       "360        6.96      CO  1604179224  \n",
       "\n",
       "[361 rows x 10 columns]"
      ]
     },
     "execution_count": 16,
     "metadata": {},
     "output_type": "execute_result"
    }
   ],
   "source": [
    "northern_hemi = clean_city_data.loc[clean_city_data.Lat > 0]\n",
    "northern_hemi.reset_index()"
   ]
  },
  {
   "cell_type": "markdown",
   "metadata": {},
   "source": [
    "####  Northern Hemisphere - Max Temp vs. Latitude Linear Regression"
   ]
  },
  {
   "cell_type": "code",
   "execution_count": 17,
   "metadata": {},
   "outputs": [
    {
     "data": {
      "image/png": "[encoded data removed]",
      "text/plain": [
       "<Figure size 432x288 with 1 Axes>"
      ]
     },
     "metadata": {
      "needs_background": "light"
     },
     "output_type": "display_data"
    },
    {
     "name": "stdout",
     "output_type": "stream",
     "text": [
      "The r-value is: -0.8616164391826315\n"
     ]
    },
    {
     "data": {
      "text/plain": [
       "<Figure size 432x288 with 0 Axes>"
      ]
     },
     "metadata": {},
     "output_type": "display_data"
    }
   ],
   "source": [
    "x_values = northern_hemi['Lat']\n",
    "y_values = northern_hemi['Max Temp']\n",
    "(slope, intercept, rvalue, pvalue, stderr) = linregress(x_values,y_values)\n",
    "regress_values = x_values * slope + intercept\n",
    "line_eq = \"y = \" + str(round(slope,2)) + \"x + \" + str(round(intercept,2))\n",
    "plt.scatter(x_values,y_values)\n",
    "plt.plot(x_values,regress_values,\"r-\")\n",
    "plt.annotate(line_eq,(6,10),fontsize=15,color=\"red\")\n",
    "plt.xlabel('Latitude')\n",
    "plt.ylabel('Max Temp')\n",
    "plt.show()\n",
    "print(f'The r-value is: {rvalue}')\n",
    "plt.savefig('../output_data/regr_nh_temp_v_lat.png')"
   ]
  },
  {
   "cell_type": "markdown",
   "metadata": {},
   "source": [
    "In the northern hemisphere the latitude and the max temprature seem to have a strong inverse relationship. The farther you are from latitude of 0 (northern hemisphere > 0) the temprature goes down. Makes sense as the sun is closest to equator (which is latitude of 0) Ravlue of -0.87 proves the negative linear relationship."
   ]
  },
  {
   "cell_type": "markdown",
   "metadata": {},
   "source": [
    "####  Southern Hemisphere - Max Temp vs. Latitude Linear Regression"
   ]
  },
  {
   "cell_type": "code",
   "execution_count": 18,
   "metadata": {},
   "outputs": [
    {
     "data": {
      "image/png": "[encoded data removed]",
      "text/plain": [
       "<Figure size 432x288 with 1 Axes>"
      ]
     },
     "metadata": {
      "needs_background": "light"
     },
     "output_type": "display_data"
    },
    {
     "name": "stdout",
     "output_type": "stream",
     "text": [
      "The r-value is: 0.6327850841276177\n"
     ]
    },
    {
     "data": {
      "text/plain": [
       "<Figure size 432x288 with 0 Axes>"
      ]
     },
     "metadata": {},
     "output_type": "display_data"
    }
   ],
   "source": [
    "southern_hemi = clean_city_data.loc[clean_city_data.Lat < 0]\n",
    "southern_hemi.reset_index()\n",
    "x_values = southern_hemi['Lat']\n",
    "y_values = southern_hemi['Max Temp']\n",
    "(slope, intercept, rvalue, pvalue, stderr) = linregress(x_values,y_values)\n",
    "regress_values = x_values * slope + intercept\n",
    "line_eq = \"y = \" + str(round(slope,2)) + \"x + \" + str(round(intercept,2))\n",
    "plt.scatter(x_values,y_values)\n",
    "plt.plot(x_values,regress_values,\"r-\")\n",
    "plt.annotate(line_eq,(6,10),fontsize=15,color=\"red\")\n",
    "plt.xlabel('Latitude')\n",
    "plt.ylabel('Max Temp')\n",
    "plt.show()\n",
    "print(f'The r-value is: {rvalue}')\n",
    "plt.savefig('../output_data/regr_sh_temp_v_lat.png')"
   ]
  },
  {
   "cell_type": "markdown",
   "metadata": {},
   "source": [
    "In the southern hemisphere the rvalue of 0.62 indicates a somewhat strong linear uphill relation ship between latitude and max temp. The closer to 0 latitude higher the max temprature. If I did not compute and I saw the points I would have put rvalue at 0.4."
   ]
  },
  {
   "cell_type": "markdown",
   "metadata": {},
   "source": [
    "####  Northern Hemisphere - Humidity (%) vs. Latitude Linear Regression"
   ]
  },
  {
   "cell_type": "code",
   "execution_count": 19,
   "metadata": {},
   "outputs": [
    {
     "data": {
      "image/png": "[encoded data removed]",
      "text/plain": [
       "<Figure size 432x288 with 1 Axes>"
      ]
     },
     "metadata": {
      "needs_background": "light"
     },
     "output_type": "display_data"
    },
    {
     "name": "stdout",
     "output_type": "stream",
     "text": [
      "The r-value is: 0.2421947588259392\n"
     ]
    },
    {
     "data": {
      "text/plain": [
       "<Figure size 432x288 with 0 Axes>"
      ]
     },
     "metadata": {},
     "output_type": "display_data"
    }
   ],
   "source": [
    "x_values = northern_hemi['Lat']\n",
    "y_values = northern_hemi['Humidity']\n",
    "(slope, intercept, rvalue, pvalue, stderr) = linregress(x_values,y_values)\n",
    "regress_values = x_values * slope + intercept\n",
    "line_eq = \"y = \" + str(round(slope,2)) + \"x + \" + str(round(intercept,2))\n",
    "plt.scatter(x_values,y_values)\n",
    "plt.plot(x_values,regress_values,\"r-\")\n",
    "plt.annotate(line_eq,(6,10),fontsize=15,color=\"red\")\n",
    "plt.xlabel('Latitude')\n",
    "plt.ylabel('Humidity')\n",
    "plt.show()\n",
    "print(f'The r-value is: {rvalue}')\n",
    "plt.savefig('../output_data/regr_nh_humid_v_lat.png')"
   ]
  },
  {
   "cell_type": "markdown",
   "metadata": {},
   "source": [
    "Rvalue os 0.30. There is somewhat of weak correlation between latitude and humidity. As you can note the points are disparate around the line. Where you are on the latitude does not really matter if humidity is a factor you are measuring."
   ]
  },
  {
   "cell_type": "markdown",
   "metadata": {},
   "source": [
    "####  Southern Hemisphere - Humidity (%) vs. Latitude Linear Regression"
   ]
  },
  {
   "cell_type": "code",
   "execution_count": 20,
   "metadata": {},
   "outputs": [
    {
     "data": {
      "image/png": "[encoded data removed]",
      "text/plain": [
       "<Figure size 432x288 with 1 Axes>"
      ]
     },
     "metadata": {
      "needs_background": "light"
     },
     "output_type": "display_data"
    },
    {
     "name": "stdout",
     "output_type": "stream",
     "text": [
      "The r-value is: 0.27666999360311323\n"
     ]
    },
    {
     "data": {
      "text/plain": [
       "<Figure size 432x288 with 0 Axes>"
      ]
     },
     "metadata": {},
     "output_type": "display_data"
    }
   ],
   "source": [
    "southern_hemi = clean_city_data.loc[clean_city_data.Lat < 0]\n",
    "southern_hemi.reset_index()\n",
    "x_values = southern_hemi['Lat']\n",
    "y_values = southern_hemi['Humidity']\n",
    "(slope, intercept, rvalue, pvalue, stderr) = linregress(x_values,y_values)\n",
    "regress_values = x_values * slope + intercept\n",
    "line_eq = \"y = \" + str(round(slope,2)) + \"x + \" + str(round(intercept,2))\n",
    "plt.scatter(x_values,y_values)\n",
    "plt.plot(x_values,regress_values,\"r-\")\n",
    "plt.annotate(line_eq,(6,10),fontsize=15,color=\"red\")\n",
    "plt.xlabel('Latitude')\n",
    "plt.ylabel('Humidity')\n",
    "plt.show()\n",
    "print(f'The r-value is: {rvalue}')\n",
    "plt.savefig('../output_data/regr_sh_humid_v_lat.png')"
   ]
  },
  {
   "cell_type": "markdown",
   "metadata": {},
   "source": [
    "In the souther hemisphere there very little correlation between latitude and humidity. The rvalue of 0.11 clearly shows that there is not much of a relationship between the 2 variables."
   ]
  },
  {
   "cell_type": "markdown",
   "metadata": {},
   "source": [
    "####  Northern Hemisphere - Cloudiness (%) vs. Latitude Linear Regression"
   ]
  },
  {
   "cell_type": "code",
   "execution_count": 21,
   "metadata": {},
   "outputs": [
    {
     "data": {
      "image/png": "[encoded data removed]",
      "text/plain": [
       "<Figure size 432x288 with 1 Axes>"
      ]
     },
     "metadata": {
      "needs_background": "light"
     },
     "output_type": "display_data"
    },
    {
     "name": "stdout",
     "output_type": "stream",
     "text": [
      "The r-value is: 0.07790988287084008\n"
     ]
    },
    {
     "data": {
      "text/plain": [
       "<Figure size 432x288 with 0 Axes>"
      ]
     },
     "metadata": {},
     "output_type": "display_data"
    }
   ],
   "source": [
    "x_values = northern_hemi['Lat']\n",
    "y_values = northern_hemi['Cloudiness']\n",
    "(slope, intercept, rvalue, pvalue, stderr) = linregress(x_values,y_values)\n",
    "regress_values = x_values * slope + intercept\n",
    "line_eq = \"y = \" + str(round(slope,2)) + \"x + \" + str(round(intercept,2))\n",
    "plt.scatter(x_values,y_values)\n",
    "plt.plot(x_values,regress_values,\"r-\")\n",
    "plt.annotate(line_eq,(6,10),fontsize=15,color=\"red\")\n",
    "plt.xlabel('Latitude')\n",
    "plt.ylabel('Cloudiness')\n",
    "plt.show()\n",
    "print(f'The r-value is: {rvalue}')\n",
    "plt.savefig('../output_data/regr_nh_cloudy_v_lat.png')"
   ]
  },
  {
   "cell_type": "markdown",
   "metadata": {},
   "source": [
    "####  Southern Hemisphere - Cloudiness (%) vs. Latitude Linear Regression"
   ]
  },
  {
   "cell_type": "code",
   "execution_count": 22,
   "metadata": {},
   "outputs": [
    {
     "data": {
      "image/png": "[encoded data removed]",
      "text/plain": [
       "<Figure size 432x288 with 1 Axes>"
      ]
     },
     "metadata": {
      "needs_background": "light"
     },
     "output_type": "display_data"
    },
    {
     "name": "stdout",
     "output_type": "stream",
     "text": [
      "The r-value is: 0.3093761388172272\n"
     ]
    },
    {
     "data": {
      "text/plain": [
       "<Figure size 432x288 with 0 Axes>"
      ]
     },
     "metadata": {},
     "output_type": "display_data"
    }
   ],
   "source": [
    "x_values = southern_hemi['Lat']\n",
    "y_values = southern_hemi['Cloudiness']\n",
    "(slope, intercept, rvalue, pvalue, stderr) = linregress(x_values,y_values)\n",
    "regress_values = x_values * slope + intercept\n",
    "line_eq = \"y = \" + str(round(slope,2)) + \"x + \" + str(round(intercept,2))\n",
    "plt.scatter(x_values,y_values)\n",
    "plt.plot(x_values,regress_values,\"r-\")\n",
    "plt.annotate(line_eq,(6,10),fontsize=15,color=\"red\")\n",
    "plt.xlabel('Latitude')\n",
    "plt.ylabel('Cloudiness')\n",
    "plt.show()\n",
    "print(f'The r-value is: {rvalue}')\n",
    "plt.savefig('../output_data/regr_sh_cloudy_v_lat.png')"
   ]
  },
  {
   "cell_type": "markdown",
   "metadata": {},
   "source": [
    "If you look at both the above pictures depicting the hemispheres vs. cloudiness there is no correlation at all. You see the points scattered everywhere meaning no linear relationship could be established. The rvalues which are 0.19 for northern hemisphere and cloudiness, 0.20 for southern hemisphere and cloudiness attest to the fact that there is not much of anything."
   ]
  },
  {
   "cell_type": "markdown",
   "metadata": {},
   "source": [
    "####  Northern Hemisphere - Wind Speed (mph) vs. Latitude Linear Regression"
   ]
  },
  {
   "cell_type": "code",
   "execution_count": 23,
   "metadata": {},
   "outputs": [
    {
     "data": {
      "image/png": "[encoded data removed]",
      "text/plain": [
       "<Figure size 432x288 with 1 Axes>"
      ]
     },
     "metadata": {
      "needs_background": "light"
     },
     "output_type": "display_data"
    },
    {
     "name": "stdout",
     "output_type": "stream",
     "text": [
      "The r-value is: 0.1254724051032868\n"
     ]
    },
    {
     "data": {
      "text/plain": [
       "<Figure size 432x288 with 0 Axes>"
      ]
     },
     "metadata": {},
     "output_type": "display_data"
    }
   ],
   "source": [
    "x_values = northern_hemi['Lat']\n",
    "y_values = northern_hemi['Wind Speed']\n",
    "(slope, intercept, rvalue, pvalue, stderr) = linregress(x_values,y_values)\n",
    "regress_values = x_values * slope + intercept\n",
    "line_eq = \"y = \" + str(round(slope,2)) + \"x + \" + str(round(intercept,2))\n",
    "plt.scatter(x_values,y_values)\n",
    "plt.plot(x_values,regress_values,\"r-\")\n",
    "plt.annotate(line_eq,(6,10),fontsize=15,color=\"red\")\n",
    "plt.xlabel('Latitude')\n",
    "plt.ylabel('Wind Speed')\n",
    "plt.show()\n",
    "print(f'The r-value is: {rvalue}')\n",
    "plt.savefig('../output_data/regr_nh_windspeed_v_lat.png')"
   ]
  },
  {
   "cell_type": "markdown",
   "metadata": {},
   "source": [
    "####  Southern Hemisphere - Wind Speed (mph) vs. Latitude Linear Regression"
   ]
  },
  {
   "cell_type": "code",
   "execution_count": 24,
   "metadata": {},
   "outputs": [
    {
     "data": {
      "image/png": "[encoded data removed]",
      "text/plain": [
       "<Figure size 432x288 with 1 Axes>"
      ]
     },
     "metadata": {
      "needs_background": "light"
     },
     "output_type": "display_data"
    },
    {
     "name": "stdout",
     "output_type": "stream",
     "text": [
      "The r-value is: -0.2028214941512071\n"
     ]
    },
    {
     "data": {
      "text/plain": [
       "<Figure size 432x288 with 0 Axes>"
      ]
     },
     "metadata": {},
     "output_type": "display_data"
    }
   ],
   "source": [
    "x_values = southern_hemi['Lat']\n",
    "y_values = southern_hemi['Wind Speed']\n",
    "(slope, intercept, rvalue, pvalue, stderr) = linregress(x_values,y_values)\n",
    "regress_values = x_values * slope + intercept\n",
    "line_eq = \"y = \" + str(round(slope,2)) + \"x + \" + str(round(intercept,2))\n",
    "plt.scatter(x_values,y_values)\n",
    "plt.plot(x_values,regress_values,\"r-\")\n",
    "plt.annotate(line_eq,(6,10),fontsize=15,color=\"red\")\n",
    "plt.xlabel('Latitude')\n",
    "plt.ylabel('Wind Speed')\n",
    "plt.show()\n",
    "print(f'The r-value is: {rvalue}')\n",
    "plt.savefig('../output_data/regr_sh_windspeed_v_lat.png')"
   ]
  },
  {
   "cell_type": "markdown",
   "metadata": {},
   "source": [
    "0.12 rvalue for northern hemisphere vs wind speed and -0.20 rvalue for southern hemisphere and wind speed indicate that there is barely any relationship to be established. Eventhough one is a +ve number indication a positive linear relationship the number is too small to establish one. The same can be said about the southern hemisphere."
   ]
  },
  {
   "cell_type": "code",
   "execution_count": null,
   "metadata": {},
   "outputs": [],
   "source": []
  }
 ],
 "metadata": {
  "anaconda-cloud": {},
  "kernel_info": {
   "name": "python3"
  },
  "kernelspec": {
   "display_name": "Python 3",
   "language": "python",
   "name": "python3"
  },
  "language_info": {
   "codemirror_mode": {
    "name": "ipython",
    "version": 3
   },
   "file_extension": ".py",
   "mimetype": "text/x-python",
   "name": "python",
   "nbconvert_exporter": "python",
   "pygments_lexer": "ipython3",
   "version": "3.6.10"
  },
  "latex_envs": {
   "LaTeX_envs_menu_present": true,
   "autoclose": false,
   "autocomplete": true,
   "bibliofile": "biblio.bib",
   "cite_by": "apalike",
   "current_citInitial": 1,
   "eqLabelWithNumbers": true,
   "eqNumInitial": 1,
   "hotkeys": {
    "equation": "Ctrl-E",
    "itemize": "Ctrl-I"
   },
   "labels_anchors": false,
   "latex_user_defs": false,
   "report_style_numbering": false,
   "user_envs_cfg": false
  },
  "nteract": {
   "version": "0.12.3"
  }
 },
 "nbformat": 4,
 "nbformat_minor": 2
}
