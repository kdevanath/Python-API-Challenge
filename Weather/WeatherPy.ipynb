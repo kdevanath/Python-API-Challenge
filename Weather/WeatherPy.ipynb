{
 "cells": [
  {
   "cell_type": "markdown",
   "metadata": {},
   "source": [
    "# WeatherPy\n",
    "----\n",
    "\n",
    "#### Note\n",
    "* Instructions have been included for each segment. You do not have to follow them exactly, but they are included to help you think through the steps."
   ]
  },
  {
   "cell_type": "code",
   "execution_count": 1,
   "metadata": {
    "scrolled": true
   },
   "outputs": [],
   "source": [
    "# Dependencies\n",
    "import csv\n",
    "import os\n",
    "import matplotlib.pyplot as plt\n",
    "import pandas as pd\n",
    "import numpy as np\n",
    "import requests\n",
    "import time\n",
    "import datetime\n",
    "from scipy.stats import linregress\n",
    "from citipy import citipy\n",
    "\n",
    "from api_keys import weather_api_key\n",
    "\n",
    "# Output File (CSV)\n",
    "output_data_file = \"../output_data/cities.csv\"\n",
    "\n",
    "# Range of latitudes and longitudes\n",
    "lat_range = (-90, 90)\n",
    "lng_range = (-180, 180)"
   ]
  },
  {
   "cell_type": "markdown",
   "metadata": {},
   "source": [
    "## Generate Cities List"
   ]
  },
  {
   "cell_type": "code",
   "execution_count": 34,
   "metadata": {},
   "outputs": [
    {
     "data": {
      "text/plain": [
       "635"
      ]
     },
     "execution_count": 34,
     "metadata": {},
     "output_type": "execute_result"
    }
   ],
   "source": [
    "lats = np.random.uniform(lat_range[0], lat_range[1], size=1500)\n",
    "lngs = np.random.uniform(lng_range[0], lng_range[1], size=1500)\n",
    "\n",
    "lat_lngs = zip(lats,lngs)\n",
    "#city\n",
    "cities=[]\n",
    "for lat_lang in lat_lngs:\n",
    "    city = citipy.nearest_city(lat_lang[0],lat_lang[1]).city_name\n",
    "    if city not in cities:\n",
    "        cities.append(city)\n",
    "    \n",
    "len(cities)"
   ]
  },
  {
   "cell_type": "markdown",
   "metadata": {},
   "source": [
    "### Perform API Calls\n",
    "* Perform a weather check on each city using a series of successive API calls.\n",
    "* Include a print log of each city as it'sbeing processed (with the city number and city name).\n"
   ]
  },
  {
   "cell_type": "code",
   "execution_count": 35,
   "metadata": {
    "scrolled": false
   },
   "outputs": [
    {
     "name": "stdout",
     "output_type": "stream",
     "text": [
      " Processing weather for whyalla and the number 2058430:0-Whyalla\n",
      " Processing weather for poum and the number 2138555:1-Poum\n",
      " Processing weather for provideniya and the number 4031574:2-Provideniya\n",
      " Processing weather for baruun-urt and the number 2032614:3-Baruun-Urt\n",
      " Processing weather for skjervoy and the number 777682:4-Skjervøy\n",
      " Processing weather for kaitangata and the number 2208248:5-Kaitangata\n",
      " Processing weather for boende and the number 218680:6-Boende\n",
      " Processing weather for farah and the number 1142263:7-Farah\n",
      " Processing weather for nemuro and the number 2128975:8-Nemuro\n",
      " Processing weather for busselton and the number 2075265:9-Busselton\n",
      " Processing weather for saskylakh and the number 2017155:10-Saskylakh\n",
      " Processing weather for okhotsk and the number 2122605:11-Okhotsk\n",
      " Processing weather for urumqi and the number 1529102:12-Ürümqi\n",
      " Processing weather for punta arenas and the number 3874787:13-Punta Arenas\n",
      " Processing weather for yar-sale and the number 1486321:14-Yar-Sale\n",
      " Processing weather for beringovskiy and the number 2126710:15-Beringovskiy\n",
      " Processing weather for kruisfontein and the number 986717:16-Kruisfontein\n",
      " Processing weather for triggiano and the number 6538949:17-Triggiano\n",
      " Processing weather for tuktoyaktuk and the number 6170031:18-Tuktoyaktuk\n",
      " Processing weather for albany and the number 5106841:19-Albany\n",
      " Processing weather for atuona and the number 4020109:20-Atuona\n",
      "No data for city {city}\n",
      "No data for city {city}\n",
      " Processing weather for palora and the number 3653523:21-Palora\n",
      "No data for city {city}\n",
      " Processing weather for vaini and the number 4032243:22-Vaini\n",
      " Processing weather for port blair and the number 1259385:23-Port Blair\n",
      " Processing weather for hermanus and the number 3366880:24-Hermanus\n",
      " Processing weather for clarence town and the number 2171465:25-Clarence Town\n",
      " Processing weather for moranbah and the number 6533368:26-Moranbah\n",
      " Processing weather for mega and the number 331259:27-Mēga\n",
      " Processing weather for esperance and the number 2071860:28-Esperance\n",
      " Processing weather for yuryev-polskiy and the number 466215:29-Yur’yev-Pol’skiy\n",
      " Processing weather for uruzgan and the number 1131461:30-Oruzgan\n",
      " Processing weather for bagotville and the number 2177254:31-Bagotville\n",
      "No data for city {city}\n",
      " Processing weather for qaanaaq and the number 3831208:32-Qaanaaq\n",
      " Processing weather for pisco and the number 3932145:33-Pisco\n",
      "No data for city {city}\n",
      " Processing weather for rikitea and the number 4030556:34-Rikitea\n",
      "No data for city {city}\n",
      " Processing weather for gilgit and the number 1178338:35-Gilgit\n",
      " Processing weather for atasu and the number 1526041:36-Atasū\n",
      " Processing weather for ilhabela and the number 3461425:37-Ilhabela\n",
      " Processing weather for eqbaliyeh and the number 406993:38-Eqbālīyeh\n",
      " Processing weather for butaritari and the number 2110227:39-Butaritari\n",
      " Processing weather for saint-francois and the number 2980080:40-Saint-François\n",
      " Processing weather for puerto ayora and the number 3652764:41-Puerto Ayora\n",
      " Processing weather for yellowknife and the number 6185377:42-Yellowknife\n",
      " Processing weather for port alfred and the number 964432:43-Port Alfred\n",
      " Processing weather for faanui and the number 4034551:44-Faanui\n",
      " Processing weather for campina verde and the number 3467860:45-Campina Verde\n",
      " Processing weather for ushuaia and the number 3833367:46-Ushuaia\n",
      " Processing weather for saint-philippe and the number 935215:47-Saint-Philippe\n",
      " Processing weather for gorontalo and the number 1643837:48-Gorontalo\n",
      " Processing weather for skelleftea and the number 602913:49-Skellefteå\n",
      " Processing weather for jamestown and the number 5122534:50-Jamestown\n",
      " Processing weather for santa maria and the number 3450083:51-Santa Maria\n",
      " Processing weather for kapaa and the number 5848280:52-Kapaa\n",
      " Processing weather for bredasdorp and the number 1015776:53-Bredasdorp\n",
      " Processing weather for hobart and the number 2163355:54-Hobart\n",
      "No data for city {city}\n",
      " Processing weather for imbituba and the number 3461370:55-Imbituba\n",
      " Processing weather for rantauprapat and the number 1214073:56-Rantauprapat\n",
      " Processing weather for chokurdakh and the number 2126123:57-Chokurdakh\n",
      " Processing weather for manta and the number 3654410:58-Manta\n",
      " Processing weather for fereydunshahr and the number 134601:59-Fareydūnshahr\n",
      " Processing weather for port lincoln and the number 2063036:60-Port Lincoln\n",
      " Processing weather for warud and the number 1252919:61-Warud\n",
      " Processing weather for kavieng and the number 2094342:62-Kavieng\n",
      " Processing weather for marsh harbour and the number 3571913:63-Marsh Harbour\n",
      " Processing weather for bluff and the number 2206939:64-Bluff\n",
      " Processing weather for binga and the number 895057:65-Binga\n",
      " Processing weather for tasiilaq and the number 3424607:66-Tasiilaq\n",
      " Processing weather for miandrivazo and the number 1059051:67-Miandrivazo\n",
      " Processing weather for dikson and the number 1507390:68-Dikson\n",
      " Processing weather for mount gambier and the number 2156643:69-Mount Gambier\n",
      " Processing weather for vao and the number 2137773:70-Vao\n",
      " Processing weather for nevers and the number 2990473:71-Arrondissement de Nevers\n",
      " Processing weather for castro and the number 3466704:72-Castro\n",
      " Processing weather for torbay and the number 6167817:73-Torbay\n",
      "No data for city {city}\n",
      " Processing weather for upernavik and the number 3418910:74-Upernavik\n",
      "No data for city {city}\n",
      " Processing weather for khatanga and the number 2022572:75-Khatanga\n",
      " Processing weather for mataura and the number 6201424:76-Mataura\n",
      " Processing weather for karratha and the number 6620339:77-Karratha\n",
      " Processing weather for morgan city and the number 4333811:78-Morgan City\n",
      " Processing weather for flin flon and the number 5954718:79-Flin Flon\n",
      " Processing weather for nikolskoye and the number 546105:80-Nikolskoye\n",
      " Processing weather for saldanha and the number 3361934:81-Saldanha\n",
      " Processing weather for primo tapia and the number 3979430:82-Primo Tapia\n",
      "No data for city {city}\n",
      "No data for city {city}\n",
      " Processing weather for narsaq and the number 3421719:83-Narsaq\n",
      " Processing weather for saint george and the number 5546220:84-Saint George\n",
      " Processing weather for dingle and the number 1714733:85-Dingle\n",
      " Processing weather for port elizabeth and the number 964420:86-Port Elizabeth\n",
      " Processing weather for nuuk and the number 3421319:87-Nuuk\n",
      " Processing weather for tandil and the number 3427833:88-Tandil\n",
      " Processing weather for san isidro and the number 3929631:89-San Isidro\n",
      " Processing weather for thompson and the number 6165406:90-Thompson\n",
      " Processing weather for georgetown and the number 1735106:91-George Town\n",
      " Processing weather for beisfjord and the number 3144987:92-Beisfjord\n",
      " Processing weather for grand gaube and the number 934479:93-Grand Gaube\n",
      "No data for city {city}\n",
      " Processing weather for choix and the number 4014109:94-Choix\n",
      " Processing weather for codrington and the number 2171099:95-Codrington\n",
      " Processing weather for lac du bonnet and the number 6014443:96-Lac du Bonnet\n",
      " Processing weather for mahebourg and the number 934322:97-Mahébourg\n",
      " Processing weather for mar del plata and the number 3430863:98-Mar del Plata\n",
      " Processing weather for pevek and the number 2122090:99-Pevek\n",
      " Processing weather for east london and the number 1006984:100-East London\n",
      " Processing weather for airai and the number 1651810:101-Airai\n",
      " Processing weather for mont-de-marsan and the number 2992770:102-Arrondissement de Mont-de-Marsan\n",
      " Processing weather for tiksi and the number 2015306:103-Tiksi\n",
      " Processing weather for norman wells and the number 6089245:104-Norman Wells\n",
      " Processing weather for hasaki and the number 2112802:105-Hasaki\n",
      " Processing weather for cape town and the number 3369157:106-Cape Town\n",
      " Processing weather for luderitz and the number 3355672:107-Lüderitz\n",
      " Processing weather for pangnirtung and the number 6096551:108-Pangnirtung\n",
      "No data for city {city}\n",
      " Processing weather for guaratinga and the number 3461860:109-Guaratinga\n",
      " Processing weather for mangan and the number 1263776:110-Mangan\n",
      " Processing weather for vestmannaeyjar and the number 3412093:111-Vestmannaeyjar\n",
      " Processing weather for tuatapere and the number 2180815:112-Tuatapere\n",
      "No data for city {city}\n",
      "No data for city {city}\n",
      " Processing weather for fort smith and the number 4111410:113-Fort Smith\n"
     ]
    },
    {
     "name": "stdout",
     "output_type": "stream",
     "text": [
      " Processing weather for broken hill and the number 2173911:114-Broken Hill\n",
      " Processing weather for yulara and the number 6355222:115-Yulara\n",
      " Processing weather for avarua and the number 4035715:116-Avarua\n",
      " Processing weather for vanavara and the number 2013727:117-Vanavara\n",
      " Processing weather for kupang and the number 2057087:118-Kupang\n",
      "No data for city {city}\n",
      " Processing weather for mount isa and the number 2065594:119-Mount Isa\n",
      " Processing weather for lasa and the number 3175096:120-Laas\n",
      " Processing weather for abu samrah and the number 172515:121-Abu Samrah\n",
      " Processing weather for tias and the number 2510485:122-Tías\n",
      " Processing weather for vila and the number 7117100:123-Vila\n",
      "No data for city {city}\n",
      " Processing weather for olafsvik and the number 3414079:124-Olafsvik\n",
      " Processing weather for hilo and the number 5855927:125-Hilo\n",
      "No data for city {city}\n",
      " Processing weather for seoul and the number 1835848:126-Seoul\n",
      " Processing weather for shache and the number 1280037:127-Shache\n",
      " Processing weather for santa rosalia and the number 3983805:128-Santa Rosalía\n",
      " Processing weather for bulungu and the number 2316259:129-Bulungu\n",
      " Processing weather for cayeli and the number 749502:130-Çayeli\n",
      " Processing weather for nicolas bravo and the number 3522742:131-Nicolás Bravo\n",
      " Processing weather for masuri and the number 1842559:132-Masuri\n",
      " Processing weather for matara and the number 1235846:133-Matara\n",
      " Processing weather for severo-kurilsk and the number 2121385:134-Severo-Kuril'sk\n",
      " Processing weather for teknaf and the number 1185095:135-Teknāf\n",
      " Processing weather for arraial do cabo and the number 3471451:136-Arraial do Cabo\n",
      " Processing weather for chuy and the number 3443061:137-Chui\n",
      " Processing weather for ulaanbaatar and the number 2028462:138-Ulaanbaatar\n",
      " Processing weather for college and the number 5859699:139-College\n",
      " Processing weather for buluang and the number 1722803:140-Buluang\n",
      " Processing weather for kitgum and the number 230893:141-Kitgum\n",
      "No data for city {city}\n",
      " Processing weather for vostok and the number 2013279:142-Vostok\n",
      " Processing weather for ribeira grande and the number 3372707:143-Ribeira Grande\n",
      " Processing weather for bambanglipuro and the number 1650434:144-Bambanglipuro\n",
      " Processing weather for hithadhoo and the number 1282256:145-Hithadhoo\n",
      " Processing weather for shuyskoye and the number 493201:146-Shuyskoye\n",
      "No data for city {city}\n",
      " Processing weather for aktas and the number 1526619:147-Aktas\n",
      " Processing weather for andenes and the number 3163146:148-Andenes\n",
      " Processing weather for cortez and the number 5418104:149-Cortez\n",
      " Processing weather for egvekinot and the number 4031742:150-Egvekinot\n",
      " Processing weather for oranjemund and the number 3354071:151-Oranjemund\n",
      " Processing weather for lugovoy and the number 1521293:152-Lugovoy\n",
      " Processing weather for kudahuvadhoo and the number 1337607:153-Kudahuvadhoo\n",
      " Processing weather for kiama and the number 2161515:154-Kiama\n",
      " Processing weather for lorengau and the number 2092164:155-Lorengau\n",
      " Processing weather for sisimiut and the number 3419842:156-Sisimiut\n",
      " Processing weather for new norfolk and the number 2155415:157-New Norfolk\n",
      " Processing weather for khash and the number 1160571:158-Khāsh\n",
      " Processing weather for walvis bay and the number 3359638:159-Walvis Bay\n",
      " Processing weather for hinton and the number 5975503:160-Hinton\n",
      " Processing weather for iskateley and the number 866062:161-Iskateley\n",
      " Processing weather for taicheng and the number 1790959:162-Taicheng\n",
      "No data for city {city}\n",
      " Processing weather for ponta do sol and the number 2264557:163-Ponta do Sol\n",
      " Processing weather for acapulco and the number 3533462:164-Acapulco de Juárez\n",
      "No data for city {city}\n",
      " Processing weather for konde and the number 156513:165-Konde\n",
      " Processing weather for magistralnyy and the number 2020584:166-Magistral'nyy\n",
      " Processing weather for la ronge and the number 6050066:167-La Ronge\n",
      " Processing weather for chapais and the number 5919850:168-Chapais\n",
      " Processing weather for warri and the number 2319133:169-Warri\n",
      " Processing weather for umm kaddadah and the number 364933:170-Umm Kaddadah\n",
      " Processing weather for tromso and the number 6453316:171-Tromsø\n",
      " Processing weather for canutama and the number 3664716:172-Canutama\n",
      " Processing weather for rio claro and the number 3451234:173-Rio Claro\n",
      " Processing weather for dzilam gonzalez and the number 3529654:174-Dzilam González\n",
      " Processing weather for guerrero negro and the number 4021858:175-Guerrero Negro\n",
      " Processing weather for lobatse and the number 933521:176-Lobatse\n",
      " Processing weather for satana and the number 1257060:177-Satānā\n",
      " Processing weather for alice springs and the number 2077895:178-Alice Springs\n",
      " Processing weather for klyuchi and the number 1503153:179-Klyuchi\n",
      " Processing weather for kloulklubed and the number 7671223:180-Kloulklubed\n",
      " Processing weather for mehamn and the number 778707:181-Mehamn\n",
      " Processing weather for barrow and the number 5880054:182-Barrow\n",
      " Processing weather for clyde river and the number 5924351:183-Clyde River\n",
      " Processing weather for nabire and the number 1634614:184-Nabire\n",
      " Processing weather for mvangue and the number 2225703:185-Mvangué\n",
      " Processing weather for saint-augustin and the number 6137462:186-Saint-Augustin\n",
      " Processing weather for verkhnetulomskiy and the number 475469:187-Verkhnetulomskiy\n",
      " Processing weather for husavik and the number 2629833:188-Husavik\n",
      " Processing weather for moron and the number 3430545:189-Morón\n",
      " Processing weather for les cayes and the number 3728097:190-Les Cayes\n",
      " Processing weather for kodiak and the number 5866583:191-Saint Paul Harbor\n",
      " Processing weather for wajima and the number 1848976:192-Wajima\n",
      " Processing weather for taksimo and the number 2015701:193-Taksimo\n",
      " Processing weather for paracuru and the number 3393115:194-Paracuru\n",
      " Processing weather for armeria and the number 4018227:195-Ciudad de Armería\n",
      " Processing weather for mount pleasant and the number 4588165:196-Mt. Pleasant\n",
      " Processing weather for longyearbyen and the number 2729907:197-Longyearbyen\n",
      " Processing weather for petropavlovsk-kamchatskiy and the number 2122104:198-Petropavlovsk-Kamchatskiy\n",
      " Processing weather for campbell river and the number 5914132:199-Campbell River\n",
      " Processing weather for quatre cocos and the number 1106643:200-Quatre Cocos\n",
      " Processing weather for yerbogachen and the number 2012956:201-Yerbogachën\n",
      "No data for city {city}\n",
      " Processing weather for port shepstone and the number 964406:202-Port Shepstone\n",
      "No data for city {city}\n",
      " Processing weather for progreso and the number 3521108:203-Progreso\n",
      " Processing weather for cockburn town and the number 3576994:204-Cockburn Town\n",
      " Processing weather for hit and the number 95788:205-Hīt\n",
      " Processing weather for nartan and the number 523408:206-Nartan\n",
      " Processing weather for san felipe and the number 3628423:207-San Felipe\n",
      " Processing weather for plettenberg bay and the number 964712:208-Plettenberg Bay\n",
      " Processing weather for usinsk and the number 863061:209-Usinsk\n",
      " Processing weather for muros and the number 3115824:210-Muros\n",
      " Processing weather for najran and the number 103630:211-Najrān\n",
      " Processing weather for saint-martin-de-crau and the number 2978396:212-Saint-Martin-de-Crau\n",
      " Processing weather for cidreira and the number 3466165:213-Cidreira\n",
      " Processing weather for klaksvik and the number 2618795:214-Klaksvík\n",
      " Processing weather for labuan and the number 1733782:215-Labuan\n",
      " Processing weather for ulladulla and the number 2145554:216-Ulladulla\n",
      " Processing weather for talcahuano and the number 3870282:217-Talcahuano\n",
      " Processing weather for beyla and the number 2423126:218-Beyla\n",
      "No data for city {city}\n",
      " Processing weather for liberal and the number 5445820:219-Liberal\n",
      " Processing weather for salalah and the number 286621:220-Salalah\n",
      " Processing weather for chililabombwe and the number 919544:221-Chililabombwe\n",
      " Processing weather for novyy urengoy and the number 1496511:222-Novy Urengoy\n",
      " Processing weather for sitka and the number 5557293:223-Sitka\n",
      "No data for city {city}\n",
      " Processing weather for port hardy and the number 6111862:224-Port Hardy\n",
      " Processing weather for simpang empat and the number 1734576:225-Simpang Empat\n",
      " Processing weather for kanniyakumari and the number 1268008:226-Kanniyākumāri\n",
      "No data for city {city}\n",
      " Processing weather for cherskiy and the number 2126199:227-Cherskiy\n"
     ]
    },
    {
     "name": "stdout",
     "output_type": "stream",
     "text": [
      " Processing weather for buckeye and the number 5287262:228-Buckeye\n",
      " Processing weather for san patricio and the number 4726521:229-San Patricio\n",
      " Processing weather for carutapera and the number 3402648:230-Carutapera\n",
      " Processing weather for graciano sanchez and the number 3527413:231-Graciano Sánchez\n",
      "No data for city {city}\n",
      "No data for city {city}\n",
      "No data for city {city}\n",
      "No data for city {city}\n",
      " Processing weather for muisne and the number 3653967:232-Muisne\n",
      " Processing weather for porto novo and the number 2392087:233-Porto-Novo\n",
      "No data for city {city}\n",
      " Processing weather for martil and the number 2542987:234-Martil\n",
      " Processing weather for vestmanna and the number 2610343:235-Vestmanna\n",
      " Processing weather for neuquen and the number 3843123:236-Neuquén\n",
      " Processing weather for abha and the number 110690:237-Abhā\n",
      " Processing weather for marsa matruh and the number 352733:238-Marsá Maţrūḩ\n",
      " Processing weather for coquimbo and the number 3893629:239-Coquimbo\n",
      " Processing weather for santa maria del oro and the number 3984078:240-Santa María del Oro\n",
      " Processing weather for aklavik and the number 5882953:241-Aklavik\n",
      " Processing weather for lokosovo and the number 1500399:242-Lokosovo\n",
      " Processing weather for bengkulu and the number 1649150:243-Bengkulu\n",
      " Processing weather for skegness and the number 2637762:244-Skegness\n",
      " Processing weather for general roca and the number 3855065:245-General Roca\n",
      "No data for city {city}\n",
      " Processing weather for ahipara and the number 2194098:246-Ahipara\n",
      " Processing weather for kutum and the number 371745:247-Kutum\n",
      " Processing weather for bethel and the number 5282297:248-Bethel\n",
      " Processing weather for axim and the number 2303611:249-Esim\n",
      " Processing weather for westport and the number 4845585:250-Westport\n",
      " Processing weather for praia da vitoria and the number 3372760:251-Praia da Vitória\n",
      " Processing weather for veraval and the number 1253237:252-Verāval\n",
      " Processing weather for iralaya and the number 3608828:253-Iralaya\n",
      "No data for city {city}\n",
      " Processing weather for ust-omchug and the number 2120047:254-Ust'-Omchug\n",
      " Processing weather for mezhdurechensk and the number 1498920:255-Mezhdurechensk\n",
      " Processing weather for hienghene and the number 2141050:256-Hienghène\n",
      " Processing weather for verkhoyansk and the number 2013465:257-Verkhoyansk\n",
      " Processing weather for garowe and the number 58933:258-Garoowe\n",
      " Processing weather for talnakh and the number 1490256:259-Talnakh\n",
      "No data for city {city}\n",
      " Processing weather for beloha and the number 1067565:260-Beloha\n",
      " Processing weather for omboue and the number 2396853:261-Omboué\n",
      " Processing weather for taseyevo and the number 1490058:262-Taseyevo\n",
      " Processing weather for santa cruz and the number 3904906:263-Santa Cruz de la Sierra\n",
      " Processing weather for srednekolymsk and the number 2121025:264-Srednekolymsk\n",
      " Processing weather for nanortalik and the number 3421765:265-Nanortalik\n",
      " Processing weather for niamey and the number 2440485:266-Niamey\n",
      " Processing weather for carnarvon and the number 2074865:267-Carnarvon\n",
      " Processing weather for geraldton and the number 2070998:268-Geraldton\n",
      " Processing weather for batagay-alyta and the number 2027042:269-Batagay-Alyta\n",
      " Processing weather for fairbanks and the number 5861897:270-Fairbanks\n",
      " Processing weather for matagami and the number 6067747:271-Matagami\n",
      " Processing weather for karpathos and the number 260895:272-Karpathos\n",
      " Processing weather for bereda and the number 3105522:273-Bereda\n",
      " Processing weather for celestun and the number 3531368:274-Celestún\n",
      " Processing weather for launceston and the number 2160517:275-Launceston\n",
      " Processing weather for sooke and the number 6151264:276-Sooke\n",
      " Processing weather for baykit and the number 1510689:277-Baykit\n",
      "No data for city {city}\n",
      " Processing weather for constitucion and the number 3893726:278-Constitución\n",
      " Processing weather for macau and the number 1821274:279-Macao\n",
      " Processing weather for malartic and the number 6064704:280-Malartic\n",
      " Processing weather for qeshm and the number 119374:281-Qeshm\n",
      " Processing weather for cabedelo and the number 3404558:282-Cabedelo\n",
      " Processing weather for hambantota and the number 1244926:283-Hambantota\n",
      "No data for city {city}\n",
      " Processing weather for wewak and the number 2083537:284-Wewak\n",
      " Processing weather for sao filipe and the number 3374210:285-São Filipe\n",
      " Processing weather for severnoye and the number 1492607:286-Severnoye\n",
      "No data for city {city}\n",
      " Processing weather for kungurtug and the number 1501377:287-Kungurtug\n",
      " Processing weather for polis and the number 146137:288-Polis\n",
      " Processing weather for aktau and the number 610612:289-Aktau\n",
      " Processing weather for hofn and the number 2630299:290-Hofn\n",
      " Processing weather for isla mujeres and the number 3526756:291-Isla Mujeres\n",
      " Processing weather for xingyi and the number 1787599:292-Xingyi\n",
      " Processing weather for krasnoselkup and the number 1502073:293-Krasnosel'kup\n",
      " Processing weather for aberdeen and the number 2657832:294-Aberdeen\n",
      " Processing weather for sebina and the number 933117:295-Sebina\n",
      " Processing weather for rio gallegos and the number 3838859:296-Río Gallegos\n",
      " Processing weather for kamakwie and the number 2408154:297-Kamakwie\n",
      " Processing weather for dhangadhi and the number 1283467:298-Dhangadhi\n",
      " Processing weather for luba and the number 2309528:299-Luba\n",
      " Processing weather for fuerte olimpo and the number 3438102:300-Fuerte Olimpo\n",
      " Processing weather for ostrovnoy and the number 556268:301-Ostrovnoy\n",
      "No data for city {city}\n",
      " Processing weather for togur and the number 1489499:302-Togur\n",
      " Processing weather for kaoma and the number 913323:303-Kaoma\n",
      " Processing weather for vaitape and the number 4033077:304-Vaitape\n",
      " Processing weather for adrar and the number 2381972:305-Adrar\n",
      " Processing weather for howard springs and the number 6301965:306-Howard Springs\n",
      " Processing weather for tazovskiy and the number 1489853:307-Tazovsky\n",
      " Processing weather for saint anthony and the number 5044290:308-Saint Anthony\n",
      " Processing weather for brighton and the number 2654710:309-Brighton\n",
      " Processing weather for aykhal and the number 2027296:310-Aykhal\n",
      " Processing weather for miracema do tocantins and the number 3384937:311-Miracema do Tocantins\n",
      " Processing weather for nuevo progreso and the number 3522526:312-Nuevo Progreso\n",
      " Processing weather for yangambi and the number 203717:313-Yangambi\n",
      " Processing weather for hovd and the number 1516048:314-Khovd\n",
      " Processing weather for finschhafen and the number 2097418:315-Finschhafen\n",
      " Processing weather for barroquinha and the number 3406041:316-Barroquinha\n",
      " Processing weather for medicine hat and the number 6071618:317-Medicine Hat\n",
      " Processing weather for riyadh and the number 108410:318-Riyadh\n",
      " Processing weather for kyenjojo and the number 230299:319-Kyenjojo\n",
      " Processing weather for iesolo and the number 3175627:320-Jesolo\n",
      " Processing weather for banagher and the number 2966371:321-Banagher\n",
      " Processing weather for san miguel and the number 3583446:322-San Miguel\n",
      " Processing weather for kulhudhuffushi and the number 1337613:323-Kulhudhuffushi\n",
      " Processing weather for anchorage and the number 5879400:324-Anchorage\n",
      " Processing weather for ilulissat and the number 3423146:325-Ilulissat\n",
      " Processing weather for aripuana and the number 3665202:326-Aripuanã\n",
      " Processing weather for port-cartier and the number 6111696:327-Port-Cartier\n",
      " Processing weather for dolores and the number 3435038:328-Dolores\n",
      " Processing weather for buckie and the number 2654411:329-Buckie\n",
      " Processing weather for svetlyy and the number 485660:330-Tsimmerbude\n",
      " Processing weather for sozimskiy and the number 489910:331-Sozimskiy\n",
      " Processing weather for puerto baquerizo moreno and the number 3652758:332-Puerto Baquerizo Moreno\n",
      " Processing weather for astoria and the number 5711847:333-Astoria\n",
      " Processing weather for oussouye and the number 2246901:334-Oussouye\n",
      " Processing weather for lethem and the number 3379316:335-Lethem\n",
      " Processing weather for paamiut and the number 3421193:336-Paamiut\n",
      "No data for city {city}\n",
      " Processing weather for auki and the number 2109701:337-Auki\n",
      " Processing weather for bogorodskoye and the number 575521:338-Bogorodskoye\n",
      " Processing weather for visnes and the number 3131500:339-Visnes\n",
      " Processing weather for finspang and the number 2714903:340-Finspång\n",
      " Processing weather for roald and the number 3141667:341-Roald\n"
     ]
    },
    {
     "name": "stdout",
     "output_type": "stream",
     "text": [
      " Processing weather for haines junction and the number 5969025:342-Haines Junction\n",
      " Processing weather for chadiza and the number 921028:343-Chadiza\n",
      " Processing weather for itumbiara and the number 3460522:344-Itumbiara\n",
      "No data for city {city}\n",
      " Processing weather for mweka and the number 207596:345-Mweka\n",
      " Processing weather for yuksekova and the number 296173:346-Yüksekova\n",
      " Processing weather for sur and the number 286245:347-Sur\n",
      " Processing weather for cabo san lucas and the number 3985710:348-Cabo San Lucas\n",
      " Processing weather for kununurra and the number 2068110:349-Kununurra\n",
      " Processing weather for listvyanskiy and the number 1500468:350-Listvyanskiy\n",
      " Processing weather for bambous virieux and the number 1106677:351-Bambous Virieux\n",
      " Processing weather for gusevskiy and the number 557842:352-Gusevskiy\n",
      " Processing weather for opuwo and the number 3354077:353-Opuwo\n",
      " Processing weather for taltal and the number 3870243:354-Taltal\n",
      " Processing weather for saint-pierre and the number 935214:355-Saint-Pierre\n",
      " Processing weather for salinopolis and the number 3389822:356-Salinópolis\n",
      " Processing weather for xihe and the number 1789462:357-Xihe\n",
      " Processing weather for lagoa and the number 3372964:358-Lagoa\n",
      " Processing weather for victoria and the number 1819729:359-Hong Kong\n",
      " Processing weather for harper and the number 2276492:360-Harper\n",
      " Processing weather for lebu and the number 3883457:361-Lebu\n",
      " Processing weather for jermuk and the number 174884:362-Jermuk\n",
      " Processing weather for behshahr and the number 140918:363-Behshahr\n",
      " Processing weather for pacific grove and the number 5380437:364-Pacific Grove\n",
      " Processing weather for ossora and the number 2122389:365-Ossora\n",
      " Processing weather for gat and the number 293842:366-Kiryat Gat\n",
      " Processing weather for yibin and the number 1786770:367-Yibin\n",
      " Processing weather for zhigansk and the number 2012530:368-Zhigansk\n",
      " Processing weather for zyryanka and the number 2119283:369-Zyryanka\n",
      " Processing weather for maroantsetra and the number 1060283:370-Maroantsetra\n",
      " Processing weather for eureka and the number 5563397:371-Eureka\n",
      " Processing weather for bhitarwar and the number 1275905:372-Bhitarwār\n",
      " Processing weather for urengoy and the number 1488414:373-Urengoy\n",
      " Processing weather for teya and the number 1489656:374-Teya\n",
      " Processing weather for ambam and the number 2235660:375-Ambam\n",
      " Processing weather for almenara and the number 3472520:376-Almenara\n",
      " Processing weather for singaparna and the number 1626936:377-Singaparna\n",
      "No data for city {city}\n",
      " Processing weather for darbhanga and the number 1273491:378-Darbhanga\n",
      " Processing weather for biscarrosse and the number 3032556:379-Biscarrosse\n",
      " Processing weather for nouadhibou and the number 2377457:380-Nouadhibou\n",
      " Processing weather for tigil and the number 2120612:381-Tigil'\n",
      " Processing weather for tettnang and the number 2823368:382-Tettnang Castle\n",
      " Processing weather for salta and the number 3838233:383-Salta\n",
      " Processing weather for the valley and the number 3573374:384-The Valley\n",
      " Processing weather for aboisso and the number 2293507:385-Aboisso\n",
      " Processing weather for wukari and the number 2318921:386-Wukari\n",
      " Processing weather for tete and the number 1026014:387-Tete\n",
      " Processing weather for yumen and the number 1528998:388-Yumen\n",
      " Processing weather for konza and the number 190544:389-Konza\n",
      " Processing weather for san pedro and the number 1688781:390-City of San Pedro\n",
      " Processing weather for meadow lake and the number 5478673:391-Meadow Lake\n",
      " Processing weather for sorong and the number 1626542:392-Sorong\n",
      " Processing weather for kenora and the number 5991056:393-Kenora\n",
      " Processing weather for duku and the number 2344415:394-Duku\n",
      "No data for city {city}\n",
      " Processing weather for sinnamary and the number 3380290:395-Sinnamary\n",
      " Processing weather for laguna and the number 5364271:396-Laguna\n",
      " Processing weather for yangjiang and the number 1806408:397-Yangjiang\n",
      " Processing weather for rocha and the number 3440777:398-Rocha\n",
      " Processing weather for palmer and the number 4946620:399-Palmer\n",
      "No data for city {city}\n",
      " Processing weather for price and the number 5545269:400-Price\n",
      " Processing weather for toba and the number 1850345:401-Toba\n",
      " Processing weather for fare and the number 4034496:402-Fare\n",
      " Processing weather for boa vista and the number 3664980:403-Boa Vista\n",
      " Processing weather for kitimat and the number 5993072:404-Kitimat\n",
      " Processing weather for jacksonville and the number 4160021:405-Jacksonville\n",
      " Processing weather for tubuala and the number 3700393:406-Tubualá\n",
      " Processing weather for anadyr and the number 2127202:407-Anadyr\n",
      " Processing weather for tongren and the number 1792592:408-Tongren\n",
      " Processing weather for jaguaquara and the number 3460242:409-Jaguaquara\n",
      "No data for city {city}\n",
      " Processing weather for minas de barroteran and the number 3977811:410-Minas de Barroterán\n",
      " Processing weather for northam and the number 2641434:411-Northam\n",
      " Processing weather for guaxupe and the number 3461763:412-Guaxupé\n",
      " Processing weather for jalu and the number 86049:413-Jalu\n",
      " Processing weather for groningen and the number 2755249:414-Province of Groningen\n",
      " Processing weather for alofi and the number 4036284:415-Alofi\n",
      " Processing weather for morristown and the number 4642938:416-Morristown\n",
      "No data for city {city}\n",
      " Processing weather for mutsu and the number 2127878:417-Mutsu\n",
      " Processing weather for faya and the number 110690:418-Faya\n",
      " Processing weather for chinhoyi and the number 893697:419-Chinhoyi\n",
      " Processing weather for te anau and the number 2181625:420-Te Anau\n",
      " Processing weather for sioux lookout and the number 6148373:421-Sioux Lookout\n",
      " Processing weather for mahibadhoo and the number 1337605:422-Mahibadhoo\n",
      " Processing weather for kota bahru and the number 1736376:423-Kota Bharu\n",
      " Processing weather for carlsbad and the number 5334223:424-Carlsbad\n",
      " Processing weather for fairlie and the number 2649738:425-Fairlie\n",
      " Processing weather for dobryatino and the number 565774:426-Dobryatino\n",
      " Processing weather for brenham and the number 4676206:427-Brenham\n",
      " Processing weather for maceio and the number 3395981:428-Maceió\n",
      " Processing weather for jiuquan and the number 1279945:429-Jiuquan\n",
      " Processing weather for cairns and the number 2172797:430-Cairns\n",
      " Processing weather for kingisepp and the number 548602:431-Kingisepp\n",
      " Processing weather for reconquista and the number 3429594:432-Reconquista\n",
      " Processing weather for bam and the number 141736:433-Bam\n",
      " Processing weather for bilma and the number 2446796:434-Bilma\n",
      " Processing weather for sawakin and the number 367544:435-Sawākin\n",
      " Processing weather for grindavik and the number 3416888:436-Grindavik\n",
      " Processing weather for nome and the number 5870133:437-Nome\n",
      " Processing weather for westonaria and the number 940316:438-Westonaria\n",
      " Processing weather for rio grande and the number 3451138:439-Rio Grande\n",
      " Processing weather for odienne and the number 2283016:440-Odienné\n",
      " Processing weather for belaya and the number 712667:441-Belaya\n",
      " Processing weather for deputatskiy and the number 2028164:442-Deputatsky\n",
      " Processing weather for sandwick and the number 2638534:443-Sandwick\n",
      " Processing weather for fomboni and the number 921889:444-Fomboni\n",
      " Processing weather for alamo and the number 3533107:445-Álamo\n",
      " Processing weather for san jose and the number 5392171:446-San Jose\n",
      " Processing weather for coruripe and the number 3465329:447-Coruripe\n",
      " Processing weather for komsomolskiy and the number 1513491:448-Yangi Marg`ilon\n",
      " Processing weather for belyy and the number 577576:449-Belyy\n",
      " Processing weather for houma and the number 4328010:450-Houma\n",
      " Processing weather for vardo and the number 777019:451-Vardø\n",
      " Processing weather for ishigaki and the number 1861416:452-Ishigaki\n",
      " Processing weather for denpasar and the number 1645528:453-Denpasar\n",
      " Processing weather for inhambane and the number 1045114:454-Inhambane\n",
      " Processing weather for pontes e lacerda and the number 3453060:455-Pontes e Lacerda\n",
      " Processing weather for ettaiyapuram and the number 1271984:456-Ettaiyapuram\n",
      " Processing weather for iqaluit and the number 5983720:457-Iqaluit\n",
      " Processing weather for kautokeino and the number 779330:458-Kautokeino\n",
      "No data for city {city}\n"
     ]
    },
    {
     "name": "stdout",
     "output_type": "stream",
     "text": [
      " Processing weather for nantucket and the number 4944903:459-Nantucket\n",
      " Processing weather for sapouy and the number 2355869:460-Sapouy\n",
      " Processing weather for ketchikan and the number 5554428:461-Ketchikan\n",
      " Processing weather for ancud and the number 3899695:462-Ancud\n",
      " Processing weather for hualmay and the number 3939761:463-Hualmay\n",
      " Processing weather for ojinaga and the number 3994469:464-Ojinaga\n",
      " Processing weather for pinsk and the number 623549:465-Pinsk\n",
      " Processing weather for pontian kecil and the number 1732711:466-Pontian Kecil\n",
      " Processing weather for mogadishu and the number 53654:467-Mogadishu\n",
      " Processing weather for brantford and the number 5907990:468-Brantford\n",
      "No data for city {city}\n",
      "No data for city {city}\n",
      " Processing weather for eagle pass and the number 5520677:469-Eagle Pass\n",
      " Processing weather for porto nacional and the number 3452711:470-Porto Nacional\n",
      " Processing weather for barcelos and the number 2742416:471-Barcelos\n",
      " Processing weather for kitakata and the number 1859319:472-Kitakata\n",
      " Processing weather for santa maria da vitoria and the number 3450063:473-Santa Maria da Vitória\n",
      " Processing weather for padang and the number 1633419:474-Padang\n",
      " Processing weather for cayenne and the number 3382160:475-Cayenne\n",
      " Processing weather for port-gentil and the number 2396518:476-Port-Gentil\n",
      " Processing weather for abapo and the number 3924668:477-Abapó\n",
      " Processing weather for kampala and the number 232422:478-Kampala\n",
      " Processing weather for grottammare and the number 3175771:479-Grottammare\n",
      " Processing weather for ambatolampy and the number 1082992:480-Ambatolampy\n",
      " Processing weather for rosarito and the number 3988392:481-Rosarito\n",
      " Processing weather for san quintin and the number 3984997:482-San Quintín\n",
      " Processing weather for los llanos de aridane and the number 2514651:483-Los Llanos de Aridane\n",
      " Processing weather for gualeguay and the number 3433663:484-Gualeguay\n",
      " Processing weather for santa fe and the number 3836277:485-Santa Fe\n",
      " Processing weather for hobyo and the number 57000:486-Hobyo\n",
      "No data for city {city}\n",
      " Processing weather for atherton and the number 2656847:487-Atherton\n",
      " Processing weather for fortuna and the number 5563839:488-Fortuna\n",
      " Processing weather for kudat and the number 1736458:489-Kudat\n",
      " Processing weather for sembakung and the number 1627877:490-Sembakung\n",
      " Processing weather for noumea and the number 2139521:491-Noumea\n",
      " Processing weather for paralimni and the number 146209:492-Paralímni\n",
      " Processing weather for mazagao and the number 3395042:493-Mazagão\n",
      " Processing weather for port augusta and the number 2063056:494-Port Augusta\n",
      " Processing weather for strezhevoy and the number 1490796:495-Strezhevoy\n",
      " Processing weather for vilhena and the number 3924679:496-Vilhena\n",
      " Processing weather for oktyabrskiy and the number 515879:497-Oktyabr'skiy\n",
      " Processing weather for huron and the number 5158275:498-Huron\n",
      "No data for city {city}\n",
      " Processing weather for kibaya and the number 158006:499-Kibaya\n",
      " Processing weather for villarrica and the number 3436714:500-Villarrica\n",
      " Processing weather for mondlo and the number 974670:501-Mondlo\n",
      " Processing weather for wisconsin rapids and the number 5279436:502-Wisconsin Rapids\n",
      " Processing weather for santa cruz de la palma and the number 2511180:503-Santa Cruz de La Palma\n",
      " Processing weather for bharatpur and the number 1276128:504-Bharatpur\n",
      " Processing weather for yuancheng and the number 1786110:505-Yuancheng\n",
      " Processing weather for hay river and the number 5972762:506-Hay River\n",
      " Processing weather for kieta and the number 2094027:507-Kieta\n",
      " Processing weather for el tigre and the number 3641351:508-El Tigre\n",
      " Processing weather for port said and the number 358619:509-Port Said\n",
      " Processing weather for san cristobal and the number 3628473:510-San Cristobal\n",
      " Processing weather for xenia and the number 4528810:511-Xenia\n",
      " Processing weather for ponnampet and the number 1259412:512-Ponnampet\n",
      " Processing weather for kusti and the number 371760:513-Kūstī\n",
      " Processing weather for bulgan and the number 2032201:514-Bulgan\n",
      " Processing weather for proletariy and the number 504840:515-Proletariy\n",
      " Processing weather for portland and the number 5746545:516-Portland\n",
      " Processing weather for visconde do rio branco and the number 3444969:517-Visconde do Rio Branco\n",
      "No data for city {city}\n",
      " Processing weather for dancheng and the number 1813892:518-Xincheng\n",
      " Processing weather for champerico and the number 3598787:519-Champerico\n",
      " Processing weather for ust-kuyga and the number 2013921:520-Ust-Kuyga\n",
      " Processing weather for stornoway and the number 2636790:521-Stornoway\n",
      " Processing weather for tikri and the number 1254513:522-Tīkri\n",
      " Processing weather for lockport and the number 4900292:523-Lockport\n",
      " Processing weather for pasighat and the number 1260206:524-Pāsighāt\n",
      " Processing weather for alice and the number 4670234:525-Alice\n",
      " Processing weather for sisak and the number 3190813:526-Sisak\n",
      " Processing weather for mtambile and the number 152877:527-Mtambile\n",
      " Processing weather for surin and the number 1606030:528-Surin\n",
      " Processing weather for namibe and the number 3347019:529-Mossamedes\n",
      " Processing weather for mackay and the number 2159220:530-Mackay\n",
      "No data for city {city}\n",
      " Processing weather for chicama and the number 3698359:531-Chicama\n",
      " Processing weather for xichang and the number 1789647:532-Xichang\n",
      " Processing weather for pitimbu and the number 3391889:533-Pitimbu\n",
      " Processing weather for shingu and the number 1847947:534-Shingū\n",
      " Processing weather for marrakesh and the number 2542997:535-Marrakesh\n",
      " Processing weather for alta floresta and the number 6316343:536-Alta Floresta\n",
      " Processing weather for shelopugino and the number 2016757:537-Shelopugino\n",
      " Processing weather for morondava and the number 1058381:538-Morondava\n",
      " Processing weather for leander and the number 4705708:539-Leander\n",
      " Processing weather for sijunjung and the number 1627185:540-Sijunjung\n",
      " Processing weather for sao joao da barra and the number 3448903:541-São João da Barra\n",
      " Processing weather for kaminskiy and the number 553374:542-Kaminskiy\n",
      " Processing weather for springbok and the number 3361142:543-Springbok\n",
      " Processing weather for ugoofaaru and the number 1337619:544-Ugoofaaru\n",
      " Processing weather for hof and the number 2902768:545-Hof\n",
      " Processing weather for havre-saint-pierre and the number 5972291:546-Havre-St-Pierre\n",
      " Processing weather for pandan niog and the number 1695506:547-Pandan Niog\n",
      " Processing weather for la macarena and the number 3827693:548-La Macarena\n",
      " Processing weather for bayan and the number 2038421:549-Bayan\n",
      " Processing weather for peleduy and the number 2018069:550-Peleduy\n",
      " Processing weather for shimoda and the number 1852357:551-Shimoda\n",
      " Processing weather for akdepe and the number 601551:552-Akdepe\n",
      " Processing weather for ponta delgada and the number 3372783:553-Ponta Delgada\n",
      " Processing weather for spresiano and the number 3166227:554-Spresiano\n",
      " Processing weather for sechura and the number 3691954:555-Sechura\n",
      " Processing weather for antofagasta and the number 3899539:556-Antofagasta\n",
      " Processing weather for mitsamiouli and the number 921786:557-Mitsamiouli\n",
      "No data for city {city}\n",
      " Processing weather for coihaique and the number 3894426:558-Coyhaique\n",
      " Processing weather for segezha and the number 497927:559-Segezha\n",
      " Processing weather for port macquarie and the number 2152659:560-Port Macquarie\n",
      " Processing weather for storforshei and the number 3145614:561-Storforshei\n",
      " Processing weather for las vegas and the number 5506956:562-Las Vegas\n",
      " Processing weather for port hedland and the number 2063042:563-Port Hedland\n",
      " Processing weather for marawi and the number 1701054:564-Marawi\n",
      "No data for city {city}\n",
      " Processing weather for melfi and the number 3173615:565-Melfi\n",
      " Processing weather for atar and the number 2381334:566-Atar\n",
      " Processing weather for waddan and the number 2209055:567-Waddān\n",
      " Processing weather for casisang and the number 1718103:568-Casisang\n",
      " Processing weather for flinders and the number 6255012:569-Flinders\n",
      " Processing weather for munster and the number 2867543:570-Münster\n",
      " Processing weather for navoi and the number 1513131:571-Navoiy\n",
      " Processing weather for vila velha and the number 3445026:572-Vila Velha\n"
     ]
    },
    {
     "name": "stdout",
     "output_type": "stream",
     "text": [
      " Processing weather for micheweni and the number 153955:573-Micheweni\n",
      " Processing weather for mattawa and the number 5802636:574-Mattawa\n",
      " Processing weather for kichera and the number 2022129:575-Kichera\n",
      "No data for city {city}\n",
      " Processing weather for warwick and the number 5225507:576-Warwick\n",
      " Processing weather for beauceville and the number 6295855:577-Beauceville\n",
      " Processing weather for ylivieska and the number 630768:578-Ylivieska\n"
     ]
    }
   ],
   "source": [
    "url = \"http://api.openweathermap.org/data/2.5/weather?\"\n",
    "units = \"imperial\"\n",
    "#decided not to use the dictionary and creating 9 empty lists and appending to the dict. \n",
    "#I read a values from api call into a list and saved it into csv file.\n",
    "#weather_dict = dict()\n",
    "data=[]\n",
    "# Build partial query URL\n",
    "query_url = f\"{url}appid={weather_api_key}&units={units}&q=\"\n",
    "i=0\n",
    "headers=['City','Lat','Lng','Max Temp','Humidity','Cloudiness','Wind Speed','Country','Date']\n",
    "for city in cities:\n",
    "    try:\n",
    "        response = requests.get(query_url + city).json()\n",
    "        data.append([response['name'],response['coord']['lat'],response['coord']['lon'],response['main']['temp_max'],\n",
    "                   response['main']['humidity'],response['clouds']['all'],response['wind']['speed'],\n",
    "                   response['sys']['country'],response['dt']])\n",
    "#I assumed when you city id it was id number I found in response\n",
    "        print(f' Processing weather for {city} and the number {response[\"id\"]}:{i}-{response[\"name\"]}')\n",
    "        i+=1\n",
    "        if i%50 == 0:\n",
    "            time.sleep(40)          \n",
    "    except:\n",
    "        print('No data for city {city}')  "
   ]
  },
  {
   "cell_type": "code",
   "execution_count": null,
   "metadata": {
    "scrolled": true
   },
   "outputs": [],
   "source": []
  },
  {
   "cell_type": "markdown",
   "metadata": {},
   "source": [
    "### Convert Raw Data to DataFrame\n",
    "* Export the city data into a .csv.\n",
    "* Display the DataFrame"
   ]
  },
  {
   "cell_type": "code",
   "execution_count": 36,
   "metadata": {},
   "outputs": [
    {
     "data": {
      "text/html": [
       "<div>\n",
       "<style scoped>\n",
       "    .dataframe tbody tr th:only-of-type {\n",
       "        vertical-align: middle;\n",
       "    }\n",
       "\n",
       "    .dataframe tbody tr th {\n",
       "        vertical-align: top;\n",
       "    }\n",
       "\n",
       "    .dataframe thead th {\n",
       "        text-align: right;\n",
       "    }\n",
       "</style>\n",
       "<table border=\"1\" class=\"dataframe\">\n",
       "  <thead>\n",
       "    <tr style=\"text-align: right;\">\n",
       "      <th></th>\n",
       "      <th>City</th>\n",
       "      <th>Lat</th>\n",
       "      <th>Lng</th>\n",
       "      <th>Max Temp</th>\n",
       "      <th>Humidity</th>\n",
       "      <th>Cloudiness</th>\n",
       "      <th>Wind Speed</th>\n",
       "      <th>Country</th>\n",
       "      <th>Date</th>\n",
       "    </tr>\n",
       "  </thead>\n",
       "  <tbody>\n",
       "    <tr>\n",
       "      <th>0</th>\n",
       "      <td>Whyalla</td>\n",
       "      <td>-33.03</td>\n",
       "      <td>137.58</td>\n",
       "      <td>62.60</td>\n",
       "      <td>72</td>\n",
       "      <td>90</td>\n",
       "      <td>14.99</td>\n",
       "      <td>AU</td>\n",
       "      <td>1604112806</td>\n",
       "    </tr>\n",
       "    <tr>\n",
       "      <th>1</th>\n",
       "      <td>Poum</td>\n",
       "      <td>-20.23</td>\n",
       "      <td>164.02</td>\n",
       "      <td>79.02</td>\n",
       "      <td>76</td>\n",
       "      <td>99</td>\n",
       "      <td>19.89</td>\n",
       "      <td>NC</td>\n",
       "      <td>1604112806</td>\n",
       "    </tr>\n",
       "    <tr>\n",
       "      <th>2</th>\n",
       "      <td>Provideniya</td>\n",
       "      <td>64.38</td>\n",
       "      <td>-173.30</td>\n",
       "      <td>21.97</td>\n",
       "      <td>84</td>\n",
       "      <td>20</td>\n",
       "      <td>7.25</td>\n",
       "      <td>RU</td>\n",
       "      <td>1604112806</td>\n",
       "    </tr>\n",
       "    <tr>\n",
       "      <th>3</th>\n",
       "      <td>Baruun-Urt</td>\n",
       "      <td>46.68</td>\n",
       "      <td>113.28</td>\n",
       "      <td>36.99</td>\n",
       "      <td>70</td>\n",
       "      <td>29</td>\n",
       "      <td>19.10</td>\n",
       "      <td>MN</td>\n",
       "      <td>1604112806</td>\n",
       "    </tr>\n",
       "    <tr>\n",
       "      <th>4</th>\n",
       "      <td>Skjervøy</td>\n",
       "      <td>70.03</td>\n",
       "      <td>20.97</td>\n",
       "      <td>32.27</td>\n",
       "      <td>87</td>\n",
       "      <td>0</td>\n",
       "      <td>18.54</td>\n",
       "      <td>NO</td>\n",
       "      <td>1604112806</td>\n",
       "    </tr>\n",
       "  </tbody>\n",
       "</table>\n",
       "</div>"
      ],
      "text/plain": [
       "          City    Lat     Lng  Max Temp  Humidity  Cloudiness  Wind Speed  \\\n",
       "0      Whyalla -33.03  137.58     62.60        72          90       14.99   \n",
       "1         Poum -20.23  164.02     79.02        76          99       19.89   \n",
       "2  Provideniya  64.38 -173.30     21.97        84          20        7.25   \n",
       "3   Baruun-Urt  46.68  113.28     36.99        70          29       19.10   \n",
       "4     Skjervøy  70.03   20.97     32.27        87           0       18.54   \n",
       "\n",
       "  Country        Date  \n",
       "0      AU  1604112806  \n",
       "1      NC  1604112806  \n",
       "2      RU  1604112806  \n",
       "3      MN  1604112806  \n",
       "4      NO  1604112806  "
      ]
     },
     "execution_count": 36,
     "metadata": {},
     "output_type": "execute_result"
    }
   ],
   "source": [
    "weather_data = pd.DataFrame(data,columns=['City','Lat','Lng','Max Temp','Humidity','Cloudiness','Wind Speed','Country','Date'])\n",
    "weather_data.head()"
   ]
  },
  {
   "cell_type": "code",
   "execution_count": 37,
   "metadata": {},
   "outputs": [
    {
     "data": {
      "text/plain": [
       "City          579\n",
       "Lat           579\n",
       "Lng           579\n",
       "Max Temp      579\n",
       "Humidity      579\n",
       "Cloudiness    579\n",
       "Wind Speed    579\n",
       "Country       579\n",
       "Date          579\n",
       "dtype: int64"
      ]
     },
     "execution_count": 37,
     "metadata": {},
     "output_type": "execute_result"
    }
   ],
   "source": [
    "cleaned_weather_data = weather_data.dropna(how=\"any\")\n",
    "cleaned_weather_data.count()"
   ]
  },
  {
   "cell_type": "markdown",
   "metadata": {},
   "source": [
    "## Inspect the data and remove the cities where the humidity > 100%.\n",
    "----\n",
    "Skip this step if there are no cities that have humidity > 100%. "
   ]
  },
  {
   "cell_type": "code",
   "execution_count": 38,
   "metadata": {},
   "outputs": [
    {
     "data": {
      "text/html": [
       "<div>\n",
       "<style scoped>\n",
       "    .dataframe tbody tr th:only-of-type {\n",
       "        vertical-align: middle;\n",
       "    }\n",
       "\n",
       "    .dataframe tbody tr th {\n",
       "        vertical-align: top;\n",
       "    }\n",
       "\n",
       "    .dataframe thead th {\n",
       "        text-align: right;\n",
       "    }\n",
       "</style>\n",
       "<table border=\"1\" class=\"dataframe\">\n",
       "  <thead>\n",
       "    <tr style=\"text-align: right;\">\n",
       "      <th></th>\n",
       "      <th>Lat</th>\n",
       "      <th>Lng</th>\n",
       "      <th>Max Temp</th>\n",
       "      <th>Humidity</th>\n",
       "      <th>Cloudiness</th>\n",
       "      <th>Wind Speed</th>\n",
       "      <th>Date</th>\n",
       "    </tr>\n",
       "  </thead>\n",
       "  <tbody>\n",
       "    <tr>\n",
       "      <th>count</th>\n",
       "      <td>579.000000</td>\n",
       "      <td>579.000000</td>\n",
       "      <td>579.000000</td>\n",
       "      <td>579.000000</td>\n",
       "      <td>579.000000</td>\n",
       "      <td>579.000000</td>\n",
       "      <td>5.790000e+02</td>\n",
       "    </tr>\n",
       "    <tr>\n",
       "      <th>mean</th>\n",
       "      <td>20.008256</td>\n",
       "      <td>13.325820</td>\n",
       "      <td>56.366390</td>\n",
       "      <td>74.554404</td>\n",
       "      <td>51.338515</td>\n",
       "      <td>7.514111</td>\n",
       "      <td>1.604113e+09</td>\n",
       "    </tr>\n",
       "    <tr>\n",
       "      <th>std</th>\n",
       "      <td>33.707604</td>\n",
       "      <td>88.191852</td>\n",
       "      <td>22.081941</td>\n",
       "      <td>19.680275</td>\n",
       "      <td>41.074994</td>\n",
       "      <td>5.773343</td>\n",
       "      <td>2.508875e+02</td>\n",
       "    </tr>\n",
       "    <tr>\n",
       "      <th>min</th>\n",
       "      <td>-54.800000</td>\n",
       "      <td>-179.170000</td>\n",
       "      <td>-10.440000</td>\n",
       "      <td>13.000000</td>\n",
       "      <td>0.000000</td>\n",
       "      <td>0.250000</td>\n",
       "      <td>1.604112e+09</td>\n",
       "    </tr>\n",
       "    <tr>\n",
       "      <th>25%</th>\n",
       "      <td>-8.850000</td>\n",
       "      <td>-63.320000</td>\n",
       "      <td>41.470000</td>\n",
       "      <td>64.500000</td>\n",
       "      <td>1.000000</td>\n",
       "      <td>3.360000</td>\n",
       "      <td>1.604113e+09</td>\n",
       "    </tr>\n",
       "    <tr>\n",
       "      <th>50%</th>\n",
       "      <td>25.800000</td>\n",
       "      <td>17.940000</td>\n",
       "      <td>60.010000</td>\n",
       "      <td>79.000000</td>\n",
       "      <td>56.000000</td>\n",
       "      <td>5.820000</td>\n",
       "      <td>1.604113e+09</td>\n",
       "    </tr>\n",
       "    <tr>\n",
       "      <th>75%</th>\n",
       "      <td>49.390000</td>\n",
       "      <td>83.165000</td>\n",
       "      <td>75.200000</td>\n",
       "      <td>90.000000</td>\n",
       "      <td>94.000000</td>\n",
       "      <td>10.290000</td>\n",
       "      <td>1.604113e+09</td>\n",
       "    </tr>\n",
       "    <tr>\n",
       "      <th>max</th>\n",
       "      <td>78.220000</td>\n",
       "      <td>179.320000</td>\n",
       "      <td>98.600000</td>\n",
       "      <td>100.000000</td>\n",
       "      <td>100.000000</td>\n",
       "      <td>56.370000</td>\n",
       "      <td>1.604113e+09</td>\n",
       "    </tr>\n",
       "  </tbody>\n",
       "</table>\n",
       "</div>"
      ],
      "text/plain": [
       "              Lat         Lng    Max Temp    Humidity  Cloudiness  Wind Speed  \\\n",
       "count  579.000000  579.000000  579.000000  579.000000  579.000000  579.000000   \n",
       "mean    20.008256   13.325820   56.366390   74.554404   51.338515    7.514111   \n",
       "std     33.707604   88.191852   22.081941   19.680275   41.074994    5.773343   \n",
       "min    -54.800000 -179.170000  -10.440000   13.000000    0.000000    0.250000   \n",
       "25%     -8.850000  -63.320000   41.470000   64.500000    1.000000    3.360000   \n",
       "50%     25.800000   17.940000   60.010000   79.000000   56.000000    5.820000   \n",
       "75%     49.390000   83.165000   75.200000   90.000000   94.000000   10.290000   \n",
       "max     78.220000  179.320000   98.600000  100.000000  100.000000   56.370000   \n",
       "\n",
       "               Date  \n",
       "count  5.790000e+02  \n",
       "mean   1.604113e+09  \n",
       "std    2.508875e+02  \n",
       "min    1.604112e+09  \n",
       "25%    1.604113e+09  \n",
       "50%    1.604113e+09  \n",
       "75%    1.604113e+09  \n",
       "max    1.604113e+09  "
      ]
     },
     "execution_count": 38,
     "metadata": {},
     "output_type": "execute_result"
    }
   ],
   "source": [
    "cleaned_weather_data.describe()"
   ]
  },
  {
   "cell_type": "code",
   "execution_count": 39,
   "metadata": {},
   "outputs": [],
   "source": [
    "#Save cleaned data\n",
    "cleaned_weather_data.to_csv(output_data_file)"
   ]
  },
  {
   "cell_type": "code",
   "execution_count": 40,
   "metadata": {},
   "outputs": [
    {
     "data": {
      "text/plain": [
       "Int64Index([], dtype='int64')"
      ]
     },
     "execution_count": 40,
     "metadata": {},
     "output_type": "execute_result"
    }
   ],
   "source": [
    "#  Get the indices of cities that have humidity over 100%.\n",
    "greater_than_100_humidity_idx = cleaned_weather_data.loc[cleaned_weather_data['Humidity'] > 100].index\n",
    "greater_than_100_humidity_idx"
   ]
  },
  {
   "cell_type": "code",
   "execution_count": 41,
   "metadata": {},
   "outputs": [
    {
     "data": {
      "text/html": [
       "<div>\n",
       "<style scoped>\n",
       "    .dataframe tbody tr th:only-of-type {\n",
       "        vertical-align: middle;\n",
       "    }\n",
       "\n",
       "    .dataframe tbody tr th {\n",
       "        vertical-align: top;\n",
       "    }\n",
       "\n",
       "    .dataframe thead th {\n",
       "        text-align: right;\n",
       "    }\n",
       "</style>\n",
       "<table border=\"1\" class=\"dataframe\">\n",
       "  <thead>\n",
       "    <tr style=\"text-align: right;\">\n",
       "      <th></th>\n",
       "      <th>City</th>\n",
       "      <th>Lat</th>\n",
       "      <th>Lng</th>\n",
       "      <th>Max Temp</th>\n",
       "      <th>Humidity</th>\n",
       "      <th>Cloudiness</th>\n",
       "      <th>Wind Speed</th>\n",
       "      <th>Country</th>\n",
       "      <th>Date</th>\n",
       "    </tr>\n",
       "  </thead>\n",
       "  <tbody>\n",
       "    <tr>\n",
       "      <th>0</th>\n",
       "      <td>Whyalla</td>\n",
       "      <td>-33.03</td>\n",
       "      <td>137.58</td>\n",
       "      <td>62.60</td>\n",
       "      <td>72</td>\n",
       "      <td>90</td>\n",
       "      <td>14.99</td>\n",
       "      <td>AU</td>\n",
       "      <td>1604112806</td>\n",
       "    </tr>\n",
       "    <tr>\n",
       "      <th>1</th>\n",
       "      <td>Poum</td>\n",
       "      <td>-20.23</td>\n",
       "      <td>164.02</td>\n",
       "      <td>79.02</td>\n",
       "      <td>76</td>\n",
       "      <td>99</td>\n",
       "      <td>19.89</td>\n",
       "      <td>NC</td>\n",
       "      <td>1604112806</td>\n",
       "    </tr>\n",
       "    <tr>\n",
       "      <th>2</th>\n",
       "      <td>Provideniya</td>\n",
       "      <td>64.38</td>\n",
       "      <td>-173.30</td>\n",
       "      <td>21.97</td>\n",
       "      <td>84</td>\n",
       "      <td>20</td>\n",
       "      <td>7.25</td>\n",
       "      <td>RU</td>\n",
       "      <td>1604112806</td>\n",
       "    </tr>\n",
       "    <tr>\n",
       "      <th>3</th>\n",
       "      <td>Baruun-Urt</td>\n",
       "      <td>46.68</td>\n",
       "      <td>113.28</td>\n",
       "      <td>36.99</td>\n",
       "      <td>70</td>\n",
       "      <td>29</td>\n",
       "      <td>19.10</td>\n",
       "      <td>MN</td>\n",
       "      <td>1604112806</td>\n",
       "    </tr>\n",
       "    <tr>\n",
       "      <th>4</th>\n",
       "      <td>Skjervøy</td>\n",
       "      <td>70.03</td>\n",
       "      <td>20.97</td>\n",
       "      <td>32.27</td>\n",
       "      <td>87</td>\n",
       "      <td>0</td>\n",
       "      <td>18.54</td>\n",
       "      <td>NO</td>\n",
       "      <td>1604112806</td>\n",
       "    </tr>\n",
       "    <tr>\n",
       "      <th>5</th>\n",
       "      <td>Kaitangata</td>\n",
       "      <td>-46.28</td>\n",
       "      <td>169.85</td>\n",
       "      <td>57.00</td>\n",
       "      <td>84</td>\n",
       "      <td>100</td>\n",
       "      <td>14.00</td>\n",
       "      <td>NZ</td>\n",
       "      <td>1604112338</td>\n",
       "    </tr>\n",
       "    <tr>\n",
       "      <th>6</th>\n",
       "      <td>Boende</td>\n",
       "      <td>-0.22</td>\n",
       "      <td>20.87</td>\n",
       "      <td>67.41</td>\n",
       "      <td>96</td>\n",
       "      <td>70</td>\n",
       "      <td>1.19</td>\n",
       "      <td>CD</td>\n",
       "      <td>1604112807</td>\n",
       "    </tr>\n",
       "    <tr>\n",
       "      <th>7</th>\n",
       "      <td>Farah</td>\n",
       "      <td>32.50</td>\n",
       "      <td>62.50</td>\n",
       "      <td>45.81</td>\n",
       "      <td>42</td>\n",
       "      <td>0</td>\n",
       "      <td>2.51</td>\n",
       "      <td>AF</td>\n",
       "      <td>1604112807</td>\n",
       "    </tr>\n",
       "    <tr>\n",
       "      <th>8</th>\n",
       "      <td>Nemuro</td>\n",
       "      <td>43.32</td>\n",
       "      <td>145.57</td>\n",
       "      <td>51.80</td>\n",
       "      <td>50</td>\n",
       "      <td>20</td>\n",
       "      <td>12.75</td>\n",
       "      <td>JP</td>\n",
       "      <td>1604112807</td>\n",
       "    </tr>\n",
       "    <tr>\n",
       "      <th>9</th>\n",
       "      <td>Busselton</td>\n",
       "      <td>-33.65</td>\n",
       "      <td>115.33</td>\n",
       "      <td>69.21</td>\n",
       "      <td>66</td>\n",
       "      <td>100</td>\n",
       "      <td>9.51</td>\n",
       "      <td>AU</td>\n",
       "      <td>1604112351</td>\n",
       "    </tr>\n",
       "  </tbody>\n",
       "</table>\n",
       "</div>"
      ],
      "text/plain": [
       "          City    Lat     Lng  Max Temp  Humidity  Cloudiness  Wind Speed  \\\n",
       "0      Whyalla -33.03  137.58     62.60        72          90       14.99   \n",
       "1         Poum -20.23  164.02     79.02        76          99       19.89   \n",
       "2  Provideniya  64.38 -173.30     21.97        84          20        7.25   \n",
       "3   Baruun-Urt  46.68  113.28     36.99        70          29       19.10   \n",
       "4     Skjervøy  70.03   20.97     32.27        87           0       18.54   \n",
       "5   Kaitangata -46.28  169.85     57.00        84         100       14.00   \n",
       "6       Boende  -0.22   20.87     67.41        96          70        1.19   \n",
       "7        Farah  32.50   62.50     45.81        42           0        2.51   \n",
       "8       Nemuro  43.32  145.57     51.80        50          20       12.75   \n",
       "9    Busselton -33.65  115.33     69.21        66         100        9.51   \n",
       "\n",
       "  Country        Date  \n",
       "0      AU  1604112806  \n",
       "1      NC  1604112806  \n",
       "2      RU  1604112806  \n",
       "3      MN  1604112806  \n",
       "4      NO  1604112806  \n",
       "5      NZ  1604112338  \n",
       "6      CD  1604112807  \n",
       "7      AF  1604112807  \n",
       "8      JP  1604112807  \n",
       "9      AU  1604112351  "
      ]
     },
     "execution_count": 41,
     "metadata": {},
     "output_type": "execute_result"
    }
   ],
   "source": [
    "# Make a new DataFrame equal to the city data to drop all humidity outliers by index.\n",
    "# Passing \"inplace=False\" will make a copy of the city_data DataFrame, which we call \"clean_city_data\".\n",
    "clean_city_data = cleaned_weather_data.drop(greater_than_100_humidity_idx)\n",
    "clean_city_data.head(10)"
   ]
  },
  {
   "cell_type": "code",
   "execution_count": 42,
   "metadata": {},
   "outputs": [
    {
     "data": {
      "text/plain": [
       "'2020-10-30'"
      ]
     },
     "execution_count": 42,
     "metadata": {},
     "output_type": "execute_result"
    }
   ],
   "source": [
    "date_index = clean_city_data.head(10).index.values[0]\n",
    "run_date = clean_city_data.at[date_index,'Date']\n",
    "date_of_analysis = datetime.datetime.fromtimestamp(int(run_date)).strftime('%Y-%m-%d')\n",
    "date_of_analysis"
   ]
  },
  {
   "cell_type": "markdown",
   "metadata": {},
   "source": [
    "## Plotting the Data\n",
    "* Use proper labeling of the plots using plot titles (including date of analysis) and axes labels.\n",
    "* Save the plotted figures as .pngs."
   ]
  },
  {
   "cell_type": "markdown",
   "metadata": {},
   "source": [
    "## Latitude vs. Temperature Plot"
   ]
  },
  {
   "cell_type": "code",
   "execution_count": 43,
   "metadata": {
    "scrolled": true
   },
   "outputs": [
    {
     "data": {
      "image/png": "[encoded data removed]",
      "text/plain": [
       "<Figure size 432x288 with 1 Axes>"
      ]
     },
     "metadata": {
      "needs_background": "light"
     },
     "output_type": "display_data"
    }
   ],
   "source": [
    "ax = clean_city_data.plot(kind='scatter', x='Lat',y='Max Temp',marker=\"o\", facecolors=\"red\", edgecolors=\"black\",alpha=0.75)\n",
    "\n",
    "ax.set_ylabel('Max Temprature(F)')\n",
    "ax.set_xlabel('Latitude')\n",
    "label = 'City Latutude Vs. Max Temprature as of ' + date_of_analysis\n",
    "ax.set_title(label)\n",
    "ax.grid()\n",
    "fig = ax.get_figure()\n",
    "fig.savefig('../output_data/LatvsTemp')"
   ]
  },
  {
   "cell_type": "markdown",
   "metadata": {},
   "source": [
    "## Latitude vs. Humidity Plot"
   ]
  },
  {
   "cell_type": "code",
   "execution_count": 44,
   "metadata": {},
   "outputs": [
    {
     "data": {
      "image/png": "[encoded data removed]",
      "text/plain": [
       "<Figure size 432x288 with 1 Axes>"
      ]
     },
     "metadata": {
      "needs_background": "light"
     },
     "output_type": "display_data"
    }
   ],
   "source": [
    "ax = clean_city_data.plot(kind='scatter', x='Lat',y='Humidity',marker=\"o\", facecolors=\"red\", edgecolors=\"black\",alpha=0.75)\n",
    "ax.set_ylabel('Humidity')\n",
    "ax.set_xlabel('Latitude')\n",
    "label = f'City Latutude Vs. Humidity ({date_of_analysis})'\n",
    "ax.set_title(label)\n",
    "ax.grid()\n",
    "fig = ax.get_figure()\n",
    "fig.savefig('../output_data/latvshumidity.png')"
   ]
  },
  {
   "cell_type": "markdown",
   "metadata": {},
   "source": [
    "## Latitude vs. Cloudiness Plot"
   ]
  },
  {
   "cell_type": "code",
   "execution_count": 45,
   "metadata": {},
   "outputs": [
    {
     "data": {
      "image/png": "[encoded data removed]",
      "text/plain": [
       "<Figure size 432x288 with 1 Axes>"
      ]
     },
     "metadata": {
      "needs_background": "light"
     },
     "output_type": "display_data"
    }
   ],
   "source": [
    "ax = clean_city_data.plot(kind='scatter', x='Lat',y='Cloudiness',marker=\"o\", facecolors=\"red\", edgecolors=\"black\",alpha=0.75)\n",
    "ax.set_ylabel('Cloudiness')\n",
    "ax.set_xlabel('Latitude')\n",
    "label = f'City Latutude Vs. Cloudiness ({date_of_analysis})'\n",
    "ax.set_title(label)\n",
    "ax.grid()\n",
    "fig = ax.get_figure()\n",
    "fig.savefig('../output_data/latvscloudiness.png')"
   ]
  },
  {
   "cell_type": "markdown",
   "metadata": {},
   "source": [
    "## Latitude vs. Wind Speed Plot"
   ]
  },
  {
   "cell_type": "code",
   "execution_count": 46,
   "metadata": {},
   "outputs": [
    {
     "data": {
      "image/png": "[encoded data removed]",
      "text/plain": [
       "<Figure size 432x288 with 1 Axes>"
      ]
     },
     "metadata": {
      "needs_background": "light"
     },
     "output_type": "display_data"
    }
   ],
   "source": [
    "ax = clean_city_data.plot(kind='scatter', x='Lat',y='Wind Speed',marker=\"o\", facecolors=\"red\", edgecolors=\"black\",alpha=0.75)\n",
    "ax.set_ylabel('Wind Speed')\n",
    "ax.set_xlabel('Latitude')\n",
    "label = f'City Latutude Vs. Wind Speed ({date_of_analysis})'\n",
    "ax.set_title(label)\n",
    "ax.grid()\n",
    "fig = ax.get_figure()\n",
    "fig.savefig('../output_data/latvswindspeed.png')"
   ]
  },
  {
   "cell_type": "markdown",
   "metadata": {},
   "source": [
    "## Linear Regression"
   ]
  },
  {
   "cell_type": "code",
   "execution_count": 47,
   "metadata": {},
   "outputs": [
    {
     "data": {
      "text/html": [
       "<div>\n",
       "<style scoped>\n",
       "    .dataframe tbody tr th:only-of-type {\n",
       "        vertical-align: middle;\n",
       "    }\n",
       "\n",
       "    .dataframe tbody tr th {\n",
       "        vertical-align: top;\n",
       "    }\n",
       "\n",
       "    .dataframe thead th {\n",
       "        text-align: right;\n",
       "    }\n",
       "</style>\n",
       "<table border=\"1\" class=\"dataframe\">\n",
       "  <thead>\n",
       "    <tr style=\"text-align: right;\">\n",
       "      <th></th>\n",
       "      <th>index</th>\n",
       "      <th>City</th>\n",
       "      <th>Lat</th>\n",
       "      <th>Lng</th>\n",
       "      <th>Max Temp</th>\n",
       "      <th>Humidity</th>\n",
       "      <th>Cloudiness</th>\n",
       "      <th>Wind Speed</th>\n",
       "      <th>Country</th>\n",
       "      <th>Date</th>\n",
       "    </tr>\n",
       "  </thead>\n",
       "  <tbody>\n",
       "    <tr>\n",
       "      <th>0</th>\n",
       "      <td>2</td>\n",
       "      <td>Provideniya</td>\n",
       "      <td>64.38</td>\n",
       "      <td>-173.30</td>\n",
       "      <td>21.97</td>\n",
       "      <td>84</td>\n",
       "      <td>20</td>\n",
       "      <td>7.25</td>\n",
       "      <td>RU</td>\n",
       "      <td>1604112806</td>\n",
       "    </tr>\n",
       "    <tr>\n",
       "      <th>1</th>\n",
       "      <td>3</td>\n",
       "      <td>Baruun-Urt</td>\n",
       "      <td>46.68</td>\n",
       "      <td>113.28</td>\n",
       "      <td>36.99</td>\n",
       "      <td>70</td>\n",
       "      <td>29</td>\n",
       "      <td>19.10</td>\n",
       "      <td>MN</td>\n",
       "      <td>1604112806</td>\n",
       "    </tr>\n",
       "    <tr>\n",
       "      <th>2</th>\n",
       "      <td>4</td>\n",
       "      <td>Skjervøy</td>\n",
       "      <td>70.03</td>\n",
       "      <td>20.97</td>\n",
       "      <td>32.27</td>\n",
       "      <td>87</td>\n",
       "      <td>0</td>\n",
       "      <td>18.54</td>\n",
       "      <td>NO</td>\n",
       "      <td>1604112806</td>\n",
       "    </tr>\n",
       "    <tr>\n",
       "      <th>3</th>\n",
       "      <td>7</td>\n",
       "      <td>Farah</td>\n",
       "      <td>32.50</td>\n",
       "      <td>62.50</td>\n",
       "      <td>45.81</td>\n",
       "      <td>42</td>\n",
       "      <td>0</td>\n",
       "      <td>2.51</td>\n",
       "      <td>AF</td>\n",
       "      <td>1604112807</td>\n",
       "    </tr>\n",
       "    <tr>\n",
       "      <th>4</th>\n",
       "      <td>8</td>\n",
       "      <td>Nemuro</td>\n",
       "      <td>43.32</td>\n",
       "      <td>145.57</td>\n",
       "      <td>51.80</td>\n",
       "      <td>50</td>\n",
       "      <td>20</td>\n",
       "      <td>12.75</td>\n",
       "      <td>JP</td>\n",
       "      <td>1604112807</td>\n",
       "    </tr>\n",
       "    <tr>\n",
       "      <th>...</th>\n",
       "      <td>...</td>\n",
       "      <td>...</td>\n",
       "      <td>...</td>\n",
       "      <td>...</td>\n",
       "      <td>...</td>\n",
       "      <td>...</td>\n",
       "      <td>...</td>\n",
       "      <td>...</td>\n",
       "      <td>...</td>\n",
       "      <td>...</td>\n",
       "    </tr>\n",
       "    <tr>\n",
       "      <th>390</th>\n",
       "      <td>574</td>\n",
       "      <td>Mattawa</td>\n",
       "      <td>46.74</td>\n",
       "      <td>-119.90</td>\n",
       "      <td>50.00</td>\n",
       "      <td>43</td>\n",
       "      <td>1</td>\n",
       "      <td>5.82</td>\n",
       "      <td>US</td>\n",
       "      <td>1604113311</td>\n",
       "    </tr>\n",
       "    <tr>\n",
       "      <th>391</th>\n",
       "      <td>575</td>\n",
       "      <td>Kichera</td>\n",
       "      <td>55.94</td>\n",
       "      <td>110.10</td>\n",
       "      <td>24.49</td>\n",
       "      <td>87</td>\n",
       "      <td>100</td>\n",
       "      <td>3.13</td>\n",
       "      <td>RU</td>\n",
       "      <td>1604113311</td>\n",
       "    </tr>\n",
       "    <tr>\n",
       "      <th>392</th>\n",
       "      <td>576</td>\n",
       "      <td>Warwick</td>\n",
       "      <td>41.70</td>\n",
       "      <td>-71.42</td>\n",
       "      <td>32.00</td>\n",
       "      <td>92</td>\n",
       "      <td>1</td>\n",
       "      <td>4.70</td>\n",
       "      <td>US</td>\n",
       "      <td>1604113311</td>\n",
       "    </tr>\n",
       "    <tr>\n",
       "      <th>393</th>\n",
       "      <td>577</td>\n",
       "      <td>Beauceville</td>\n",
       "      <td>46.22</td>\n",
       "      <td>-70.78</td>\n",
       "      <td>23.00</td>\n",
       "      <td>85</td>\n",
       "      <td>19</td>\n",
       "      <td>1.34</td>\n",
       "      <td>CA</td>\n",
       "      <td>1604113311</td>\n",
       "    </tr>\n",
       "    <tr>\n",
       "      <th>394</th>\n",
       "      <td>578</td>\n",
       "      <td>Ylivieska</td>\n",
       "      <td>64.08</td>\n",
       "      <td>24.55</td>\n",
       "      <td>26.01</td>\n",
       "      <td>95</td>\n",
       "      <td>0</td>\n",
       "      <td>4.00</td>\n",
       "      <td>FI</td>\n",
       "      <td>1604113311</td>\n",
       "    </tr>\n",
       "  </tbody>\n",
       "</table>\n",
       "<p>395 rows × 10 columns</p>\n",
       "</div>"
      ],
      "text/plain": [
       "     index         City    Lat     Lng  Max Temp  Humidity  Cloudiness  \\\n",
       "0        2  Provideniya  64.38 -173.30     21.97        84          20   \n",
       "1        3   Baruun-Urt  46.68  113.28     36.99        70          29   \n",
       "2        4     Skjervøy  70.03   20.97     32.27        87           0   \n",
       "3        7        Farah  32.50   62.50     45.81        42           0   \n",
       "4        8       Nemuro  43.32  145.57     51.80        50          20   \n",
       "..     ...          ...    ...     ...       ...       ...         ...   \n",
       "390    574      Mattawa  46.74 -119.90     50.00        43           1   \n",
       "391    575      Kichera  55.94  110.10     24.49        87         100   \n",
       "392    576      Warwick  41.70  -71.42     32.00        92           1   \n",
       "393    577  Beauceville  46.22  -70.78     23.00        85          19   \n",
       "394    578    Ylivieska  64.08   24.55     26.01        95           0   \n",
       "\n",
       "     Wind Speed Country        Date  \n",
       "0          7.25      RU  1604112806  \n",
       "1         19.10      MN  1604112806  \n",
       "2         18.54      NO  1604112806  \n",
       "3          2.51      AF  1604112807  \n",
       "4         12.75      JP  1604112807  \n",
       "..          ...     ...         ...  \n",
       "390        5.82      US  1604113311  \n",
       "391        3.13      RU  1604113311  \n",
       "392        4.70      US  1604113311  \n",
       "393        1.34      CA  1604113311  \n",
       "394        4.00      FI  1604113311  \n",
       "\n",
       "[395 rows x 10 columns]"
      ]
     },
     "execution_count": 47,
     "metadata": {},
     "output_type": "execute_result"
    }
   ],
   "source": [
    "northern_hemi = clean_city_data.loc[clean_city_data.Lat > 0]\n",
    "northern_hemi.reset_index()"
   ]
  },
  {
   "cell_type": "markdown",
   "metadata": {},
   "source": [
    "####  Northern Hemisphere - Max Temp vs. Latitude Linear Regression"
   ]
  },
  {
   "cell_type": "code",
   "execution_count": 48,
   "metadata": {},
   "outputs": [
    {
     "data": {
      "image/png": "[encoded data removed]",
      "text/plain": [
       "<Figure size 432x288 with 1 Axes>"
      ]
     },
     "metadata": {
      "needs_background": "light"
     },
     "output_type": "display_data"
    },
    {
     "name": "stdout",
     "output_type": "stream",
     "text": [
      "The r-value is: -0.8748751606070196\n"
     ]
    }
   ],
   "source": [
    "x_values = northern_hemi['Lat']\n",
    "y_values = northern_hemi['Max Temp']\n",
    "(slope, intercept, rvalue, pvalue, stderr) = linregress(x_values,y_values)\n",
    "regress_values = x_values * slope + intercept\n",
    "line_eq = \"y = \" + str(round(slope,2)) + \"x + \" + str(round(intercept,2))\n",
    "plt.scatter(x_values,y_values)\n",
    "plt.plot(x_values,regress_values,\"r-\")\n",
    "plt.annotate(line_eq,(6,10),fontsize=15,color=\"red\")\n",
    "plt.xlabel('Latitude')\n",
    "plt.ylabel('Max Temp')\n",
    "plt.show()\n",
    "print(f'The r-value is: {rvalue}')"
   ]
  },
  {
   "cell_type": "markdown",
   "metadata": {},
   "source": [
    "####  Southern Hemisphere - Max Temp vs. Latitude Linear Regression"
   ]
  },
  {
   "cell_type": "code",
   "execution_count": 49,
   "metadata": {},
   "outputs": [
    {
     "data": {
      "image/png": "[encoded data removed]",
      "text/plain": [
       "<Figure size 432x288 with 1 Axes>"
      ]
     },
     "metadata": {
      "needs_background": "light"
     },
     "output_type": "display_data"
    },
    {
     "name": "stdout",
     "output_type": "stream",
     "text": [
      "The r-value is: 0.6217961468337466\n"
     ]
    }
   ],
   "source": [
    "southern_hemi = clean_city_data.loc[clean_city_data.Lat < 0]\n",
    "southern_hemi.reset_index()\n",
    "x_values = southern_hemi['Lat']\n",
    "y_values = southern_hemi['Max Temp']\n",
    "(slope, intercept, rvalue, pvalue, stderr) = linregress(x_values,y_values)\n",
    "regress_values = x_values * slope + intercept\n",
    "line_eq = \"y = \" + str(round(slope,2)) + \"x + \" + str(round(intercept,2))\n",
    "plt.scatter(x_values,y_values)\n",
    "plt.plot(x_values,regress_values,\"r-\")\n",
    "plt.annotate(line_eq,(6,10),fontsize=15,color=\"red\")\n",
    "plt.xlabel('Latitude')\n",
    "plt.ylabel('Max Temp')\n",
    "plt.show()\n",
    "print(f'The r-value is: {rvalue}')"
   ]
  },
  {
   "cell_type": "markdown",
   "metadata": {},
   "source": [
    "####  Northern Hemisphere - Humidity (%) vs. Latitude Linear Regression"
   ]
  },
  {
   "cell_type": "code",
   "execution_count": 50,
   "metadata": {},
   "outputs": [
    {
     "data": {
      "image/png": "[encoded data removed]",
      "text/plain": [
       "<Figure size 432x288 with 1 Axes>"
      ]
     },
     "metadata": {
      "needs_background": "light"
     },
     "output_type": "display_data"
    },
    {
     "name": "stdout",
     "output_type": "stream",
     "text": [
      "The r-value is: 0.30499682769874337\n"
     ]
    }
   ],
   "source": [
    "x_values = northern_hemi['Lat']\n",
    "y_values = northern_hemi['Humidity']\n",
    "(slope, intercept, rvalue, pvalue, stderr) = linregress(x_values,y_values)\n",
    "regress_values = x_values * slope + intercept\n",
    "line_eq = \"y = \" + str(round(slope,2)) + \"x + \" + str(round(intercept,2))\n",
    "plt.scatter(x_values,y_values)\n",
    "plt.plot(x_values,regress_values,\"r-\")\n",
    "plt.annotate(line_eq,(6,10),fontsize=15,color=\"red\")\n",
    "plt.xlabel('Latitude')\n",
    "plt.ylabel('Humidity')\n",
    "plt.show()\n",
    "print(f'The r-value is: {rvalue}')"
   ]
  },
  {
   "cell_type": "markdown",
   "metadata": {},
   "source": [
    "####  Southern Hemisphere - Humidity (%) vs. Latitude Linear Regression"
   ]
  },
  {
   "cell_type": "code",
   "execution_count": 51,
   "metadata": {},
   "outputs": [
    {
     "data": {
      "image/png": "[encoded data removed]",
      "text/plain": [
       "<Figure size 432x288 with 1 Axes>"
      ]
     },
     "metadata": {
      "needs_background": "light"
     },
     "output_type": "display_data"
    },
    {
     "name": "stdout",
     "output_type": "stream",
     "text": [
      "The r-value is: 0.11366797588226049\n"
     ]
    }
   ],
   "source": [
    "southern_hemi = clean_city_data.loc[clean_city_data.Lat < 0]\n",
    "southern_hemi.reset_index()\n",
    "x_values = southern_hemi['Lat']\n",
    "y_values = southern_hemi['Humidity']\n",
    "(slope, intercept, rvalue, pvalue, stderr) = linregress(x_values,y_values)\n",
    "regress_values = x_values * slope + intercept\n",
    "line_eq = \"y = \" + str(round(slope,2)) + \"x + \" + str(round(intercept,2))\n",
    "plt.scatter(x_values,y_values)\n",
    "plt.plot(x_values,regress_values,\"r-\")\n",
    "plt.annotate(line_eq,(6,10),fontsize=15,color=\"red\")\n",
    "plt.xlabel('Latitude')\n",
    "plt.ylabel('Humidity')\n",
    "plt.show()\n",
    "print(f'The r-value is: {rvalue}')"
   ]
  },
  {
   "cell_type": "markdown",
   "metadata": {},
   "source": [
    "####  Northern Hemisphere - Cloudiness (%) vs. Latitude Linear Regression"
   ]
  },
  {
   "cell_type": "code",
   "execution_count": 52,
   "metadata": {},
   "outputs": [
    {
     "data": {
      "image/png": "[encoded data removed]",
      "text/plain": [
       "<Figure size 432x288 with 1 Axes>"
      ]
     },
     "metadata": {
      "needs_background": "light"
     },
     "output_type": "display_data"
    },
    {
     "name": "stdout",
     "output_type": "stream",
     "text": [
      "The r-value is: 0.19312858821232376\n"
     ]
    }
   ],
   "source": [
    "x_values = northern_hemi['Lat']\n",
    "y_values = northern_hemi['Cloudiness']\n",
    "(slope, intercept, rvalue, pvalue, stderr) = linregress(x_values,y_values)\n",
    "regress_values = x_values * slope + intercept\n",
    "line_eq = \"y = \" + str(round(slope,2)) + \"x + \" + str(round(intercept,2))\n",
    "plt.scatter(x_values,y_values)\n",
    "plt.plot(x_values,regress_values,\"r-\")\n",
    "plt.annotate(line_eq,(6,10),fontsize=15,color=\"red\")\n",
    "plt.xlabel('Latitude')\n",
    "plt.ylabel('Cloudiness')\n",
    "plt.show()\n",
    "print(f'The r-value is: {rvalue}')"
   ]
  },
  {
   "cell_type": "markdown",
   "metadata": {},
   "source": [
    "####  Southern Hemisphere - Cloudiness (%) vs. Latitude Linear Regression"
   ]
  },
  {
   "cell_type": "code",
   "execution_count": 53,
   "metadata": {},
   "outputs": [
    {
     "data": {
      "image/png": "[encoded data removed]",
      "text/plain": [
       "<Figure size 432x288 with 1 Axes>"
      ]
     },
     "metadata": {
      "needs_background": "light"
     },
     "output_type": "display_data"
    },
    {
     "name": "stdout",
     "output_type": "stream",
     "text": [
      "The r-value is: 0.2074462859214056\n"
     ]
    }
   ],
   "source": [
    "x_values = southern_hemi['Lat']\n",
    "y_values = southern_hemi['Cloudiness']\n",
    "(slope, intercept, rvalue, pvalue, stderr) = linregress(x_values,y_values)\n",
    "regress_values = x_values * slope + intercept\n",
    "line_eq = \"y = \" + str(round(slope,2)) + \"x + \" + str(round(intercept,2))\n",
    "plt.scatter(x_values,y_values)\n",
    "plt.plot(x_values,regress_values,\"r-\")\n",
    "plt.annotate(line_eq,(6,10),fontsize=15,color=\"red\")\n",
    "plt.xlabel('Latitude')\n",
    "plt.ylabel('Cloudiness')\n",
    "plt.show()\n",
    "print(f'The r-value is: {rvalue}')"
   ]
  },
  {
   "cell_type": "markdown",
   "metadata": {},
   "source": [
    "####  Northern Hemisphere - Wind Speed (mph) vs. Latitude Linear Regression"
   ]
  },
  {
   "cell_type": "code",
   "execution_count": 54,
   "metadata": {},
   "outputs": [
    {
     "data": {
      "image/png": "[encoded data removed]",
      "text/plain": [
       "<Figure size 432x288 with 1 Axes>"
      ]
     },
     "metadata": {
      "needs_background": "light"
     },
     "output_type": "display_data"
    },
    {
     "name": "stdout",
     "output_type": "stream",
     "text": [
      "The r-value is: 0.214827269783239\n"
     ]
    }
   ],
   "source": [
    "x_values = northern_hemi['Lat']\n",
    "y_values = northern_hemi['Wind Speed']\n",
    "(slope, intercept, rvalue, pvalue, stderr) = linregress(x_values,y_values)\n",
    "regress_values = x_values * slope + intercept\n",
    "line_eq = \"y = \" + str(round(slope,2)) + \"x + \" + str(round(intercept,2))\n",
    "plt.scatter(x_values,y_values)\n",
    "plt.plot(x_values,regress_values,\"r-\")\n",
    "plt.annotate(line_eq,(6,10),fontsize=15,color=\"red\")\n",
    "plt.xlabel('Latitude')\n",
    "plt.ylabel('Wind Speed')\n",
    "plt.show()\n",
    "print(f'The r-value is: {rvalue}')"
   ]
  },
  {
   "cell_type": "markdown",
   "metadata": {},
   "source": [
    "####  Southern Hemisphere - Wind Speed (mph) vs. Latitude Linear Regression"
   ]
  },
  {
   "cell_type": "code",
   "execution_count": 55,
   "metadata": {},
   "outputs": [
    {
     "data": {
      "image/png": "[encoded data removed]",
      "text/plain": [
       "<Figure size 432x288 with 1 Axes>"
      ]
     },
     "metadata": {
      "needs_background": "light"
     },
     "output_type": "display_data"
    },
    {
     "name": "stdout",
     "output_type": "stream",
     "text": [
      "The r-value is: -0.19804985058723773\n"
     ]
    }
   ],
   "source": [
    "x_values = southern_hemi['Lat']\n",
    "y_values = southern_hemi['Wind Speed']\n",
    "(slope, intercept, rvalue, pvalue, stderr) = linregress(x_values,y_values)\n",
    "regress_values = x_values * slope + intercept\n",
    "line_eq = \"y = \" + str(round(slope,2)) + \"x + \" + str(round(intercept,2))\n",
    "plt.scatter(x_values,y_values)\n",
    "plt.plot(x_values,regress_values,\"r-\")\n",
    "plt.annotate(line_eq,(6,10),fontsize=15,color=\"red\")\n",
    "plt.xlabel('Latitude')\n",
    "plt.ylabel('Wind Speed')\n",
    "plt.show()\n",
    "print(f'The r-value is: {rvalue}')"
   ]
  },
  {
   "cell_type": "code",
   "execution_count": null,
   "metadata": {},
   "outputs": [],
   "source": []
  }
 ],
 "metadata": {
  "anaconda-cloud": {},
  "kernel_info": {
   "name": "python3"
  },
  "kernelspec": {
   "display_name": "Python 3",
   "language": "python",
   "name": "python3"
  },
  "language_info": {
   "codemirror_mode": {
    "name": "ipython",
    "version": 3
   },
   "file_extension": ".py",
   "mimetype": "text/x-python",
   "name": "python",
   "nbconvert_exporter": "python",
   "pygments_lexer": "ipython3",
   "version": "3.6.10"
  },
  "latex_envs": {
   "LaTeX_envs_menu_present": true,
   "autoclose": false,
   "autocomplete": true,
   "bibliofile": "biblio.bib",
   "cite_by": "apalike",
   "current_citInitial": 1,
   "eqLabelWithNumbers": true,
   "eqNumInitial": 1,
   "hotkeys": {
    "equation": "Ctrl-E",
    "itemize": "Ctrl-I"
   },
   "labels_anchors": false,
   "latex_user_defs": false,
   "report_style_numbering": false,
   "user_envs_cfg": false
  },
  "nteract": {
   "version": "0.12.3"
  }
 },
 "nbformat": 4,
 "nbformat_minor": 2
}
